{
  "nbformat": 4,
  "nbformat_minor": 0,
  "metadata": {
    "colab": {
      "name": "class.ipynb",
      "provenance": [],
      "collapsed_sections": [],
      "toc_visible": true,
      "include_colab_link": true
    },
    "kernelspec": {
      "display_name": "Python 3",
      "language": "python",
      "name": "python3"
    },
    "language_info": {
      "codemirror_mode": {
        "name": "ipython",
        "version": 3
      },
      "file_extension": ".py",
      "mimetype": "text/x-python",
      "name": "python",
      "nbconvert_exporter": "python",
      "pygments_lexer": "ipython3",
      "version": "3.8.10"
    },
    "widgets": {
      "application/vnd.jupyter.widget-state+json": {
        "2e0e46e2e72a4f1aaaaa075c38c546c0": {
          "model_module": "catboost-widget",
          "model_name": "CatboostWidgetModel",
          "model_module_version": "^1.0.0",
          "state": {
            "_view_name": "CatboostWidgetView",
            "_dom_classes": [],
            "_model_name": "CatboostWidgetModel",
            "data": {
              "catboost_info": {
                "content": {
                  "data": {
                    "meta": {
                      "name": "experiment",
                      "parameters": "",
                      "test_metrics": [],
                      "learn_sets": [
                        "learn"
                      ],
                      "launch_mode": "Train",
                      "learn_metrics": [
                        {
                          "best_value": "Min",
                          "name": "Logloss"
                        }
                      ],
                      "iteration_count": 1000,
                      "test_sets": []
                    },
                    "iterations": [
                      {
                        "passed_time": 0.06002282925,
                        "iteration": 0,
                        "remaining_time": 59.96280642,
                        "learn": [
                          0.6230225789
                        ]
                      },
                      {
                        "passed_time": 0.06987954848,
                        "iteration": 1,
                        "remaining_time": 34.86989469,
                        "learn": [
                          0.5619423032
                        ]
                      },
                      {
                        "passed_time": 0.07852373154,
                        "iteration": 2,
                        "remaining_time": 26.09605345,
                        "learn": [
                          0.5069644301
                        ]
                      },
                      {
                        "passed_time": 0.08733260509,
                        "iteration": 3,
                        "remaining_time": 21.74581867,
                        "learn": [
                          0.4546830463
                        ]
                      },
                      {
                        "passed_time": 0.09651193755,
                        "iteration": 4,
                        "remaining_time": 19.20587557,
                        "learn": [
                          0.41210123
                        ]
                      },
                      {
                        "passed_time": 0.1056616627,
                        "iteration": 5,
                        "remaining_time": 17.50461545,
                        "learn": [
                          0.3685538062
                        ]
                      },
                      {
                        "passed_time": 0.1110599635,
                        "iteration": 6,
                        "remaining_time": 15.75464911,
                        "learn": [
                          0.3260749761
                        ]
                      },
                      {
                        "passed_time": 0.1196932186,
                        "iteration": 7,
                        "remaining_time": 14.84195911,
                        "learn": [
                          0.2926833796
                        ]
                      },
                      {
                        "passed_time": 0.128320867,
                        "iteration": 8,
                        "remaining_time": 14.12955325,
                        "learn": [
                          0.2595212967
                        ]
                      },
                      {
                        "passed_time": 0.1368144327,
                        "iteration": 9,
                        "remaining_time": 13.54462884,
                        "learn": [
                          0.234612625
                        ]
                      },
                      {
                        "passed_time": 0.1454149313,
                        "iteration": 10,
                        "remaining_time": 13.07412427,
                        "learn": [
                          0.2119824761
                        ]
                      },
                      {
                        "passed_time": 0.1541701995,
                        "iteration": 11,
                        "remaining_time": 12.69334643,
                        "learn": [
                          0.1934384584
                        ]
                      },
                      {
                        "passed_time": 0.162639814,
                        "iteration": 12,
                        "remaining_time": 12.34811511,
                        "learn": [
                          0.1735004593
                        ]
                      },
                      {
                        "passed_time": 0.1667684788,
                        "iteration": 13,
                        "remaining_time": 11.74526572,
                        "learn": [
                          0.1525488531
                        ]
                      },
                      {
                        "passed_time": 0.1756806879,
                        "iteration": 14,
                        "remaining_time": 11.53636517,
                        "learn": [
                          0.1376574942
                        ]
                      },
                      {
                        "passed_time": 0.1839097176,
                        "iteration": 15,
                        "remaining_time": 11.31044763,
                        "learn": [
                          0.1227297792
                        ]
                      },
                      {
                        "passed_time": 0.1971976097,
                        "iteration": 16,
                        "remaining_time": 11.40266178,
                        "learn": [
                          0.1121248211
                        ]
                      },
                      {
                        "passed_time": 0.2041465503,
                        "iteration": 17,
                        "remaining_time": 11.13732847,
                        "learn": [
                          0.0990987862
                        ]
                      },
                      {
                        "passed_time": 0.213412116,
                        "iteration": 18,
                        "remaining_time": 11.01880452,
                        "learn": [
                          0.09101669138
                        ]
                      },
                      {
                        "passed_time": 0.2217441691,
                        "iteration": 19,
                        "remaining_time": 10.86546428,
                        "learn": [
                          0.08177515024
                        ]
                      },
                      {
                        "passed_time": 0.230387764,
                        "iteration": 20,
                        "remaining_time": 10.74045814,
                        "learn": [
                          0.07546863625
                        ]
                      },
                      {
                        "passed_time": 0.2395771718,
                        "iteration": 21,
                        "remaining_time": 10.65029427,
                        "learn": [
                          0.06875185439
                        ]
                      },
                      {
                        "passed_time": 0.2455003045,
                        "iteration": 22,
                        "remaining_time": 10.42842598,
                        "learn": [
                          0.06253743873
                        ]
                      },
                      {
                        "passed_time": 0.2539686409,
                        "iteration": 23,
                        "remaining_time": 10.32805806,
                        "learn": [
                          0.0576668293
                        ]
                      },
                      {
                        "passed_time": 0.263119945,
                        "iteration": 24,
                        "remaining_time": 10.26167785,
                        "learn": [
                          0.05276202401
                        ]
                      },
                      {
                        "passed_time": 0.2725149703,
                        "iteration": 25,
                        "remaining_time": 10.20883004,
                        "learn": [
                          0.04784755628
                        ]
                      },
                      {
                        "passed_time": 0.2835614494,
                        "iteration": 26,
                        "remaining_time": 10.21871446,
                        "learn": [
                          0.04375949584
                        ]
                      },
                      {
                        "passed_time": 0.2894832254,
                        "iteration": 27,
                        "remaining_time": 10.0492034,
                        "learn": [
                          0.03935965699
                        ]
                      },
                      {
                        "passed_time": 0.2980133486,
                        "iteration": 28,
                        "remaining_time": 9.978309017,
                        "learn": [
                          0.03614501766
                        ]
                      },
                      {
                        "passed_time": 0.3066191298,
                        "iteration": 29,
                        "remaining_time": 9.91401853,
                        "learn": [
                          0.03354954987
                        ]
                      },
                      {
                        "passed_time": 0.3152495607,
                        "iteration": 30,
                        "remaining_time": 9.854091106,
                        "learn": [
                          0.03078251981
                        ]
                      },
                      {
                        "passed_time": 0.3238512423,
                        "iteration": 31,
                        "remaining_time": 9.796500079,
                        "learn": [
                          0.02887544473
                        ]
                      },
                      {
                        "passed_time": 0.3323259586,
                        "iteration": 32,
                        "remaining_time": 9.738157634,
                        "learn": [
                          0.02683721865
                        ]
                      },
                      {
                        "passed_time": 0.3403911909,
                        "iteration": 33,
                        "remaining_time": 9.671114424,
                        "learn": [
                          0.02428956699
                        ]
                      },
                      {
                        "passed_time": 0.3486863169,
                        "iteration": 34,
                        "remaining_time": 9.613779881,
                        "learn": [
                          0.02259589584
                        ]
                      },
                      {
                        "passed_time": 0.3576573621,
                        "iteration": 35,
                        "remaining_time": 9.577269363,
                        "learn": [
                          0.02080707414
                        ]
                      },
                      {
                        "passed_time": 0.3679740977,
                        "iteration": 36,
                        "remaining_time": 9.577271785,
                        "learn": [
                          0.01937222883
                        ]
                      },
                      {
                        "passed_time": 0.3765772887,
                        "iteration": 37,
                        "remaining_time": 9.533351361,
                        "learn": [
                          0.01816054121
                        ]
                      },
                      {
                        "passed_time": 0.3855957684,
                        "iteration": 38,
                        "remaining_time": 9.501475217,
                        "learn": [
                          0.01698256618
                        ]
                      },
                      {
                        "passed_time": 0.3945953702,
                        "iteration": 39,
                        "remaining_time": 9.470288884,
                        "learn": [
                          0.01600090418
                        ]
                      },
                      {
                        "passed_time": 0.4109754937,
                        "iteration": 40,
                        "remaining_time": 9.612817036,
                        "learn": [
                          0.01513396655
                        ]
                      },
                      {
                        "passed_time": 0.4229250174,
                        "iteration": 41,
                        "remaining_time": 9.646718253,
                        "learn": [
                          0.01454382996
                        ]
                      },
                      {
                        "passed_time": 0.4315540075,
                        "iteration": 42,
                        "remaining_time": 9.604585701,
                        "learn": [
                          0.0135683673
                        ]
                      },
                      {
                        "passed_time": 0.4404671624,
                        "iteration": 43,
                        "remaining_time": 9.570150164,
                        "learn": [
                          0.01281925445
                        ]
                      },
                      {
                        "passed_time": 0.4494746224,
                        "iteration": 44,
                        "remaining_time": 9.538850319,
                        "learn": [
                          0.01199275389
                        ]
                      },
                      {
                        "passed_time": 0.4582280263,
                        "iteration": 45,
                        "remaining_time": 9.503250806,
                        "learn": [
                          0.01133462212
                        ]
                      },
                      {
                        "passed_time": 0.4625807885,
                        "iteration": 46,
                        "remaining_time": 9.379563647,
                        "learn": [
                          0.0103768243
                        ]
                      },
                      {
                        "passed_time": 0.4710885481,
                        "iteration": 47,
                        "remaining_time": 9.343256204,
                        "learn": [
                          0.009754159031
                        ]
                      },
                      {
                        "passed_time": 0.4796710031,
                        "iteration": 48,
                        "remaining_time": 9.309533141,
                        "learn": [
                          0.009295345731
                        ]
                      },
                      {
                        "passed_time": 0.4881138672,
                        "iteration": 49,
                        "remaining_time": 9.274163477,
                        "learn": [
                          0.008694939662
                        ]
                      },
                      {
                        "passed_time": 0.4964938071,
                        "iteration": 50,
                        "remaining_time": 9.238678881,
                        "learn": [
                          0.008251187931
                        ]
                      },
                      {
                        "passed_time": 0.5050487836,
                        "iteration": 51,
                        "remaining_time": 9.207427824,
                        "learn": [
                          0.007949912663
                        ]
                      },
                      {
                        "passed_time": 0.5132939875,
                        "iteration": 52,
                        "remaining_time": 9.17149823,
                        "learn": [
                          0.007599699403
                        ]
                      },
                      {
                        "passed_time": 0.5216944148,
                        "iteration": 53,
                        "remaining_time": 9.139313266,
                        "learn": [
                          0.007233374096
                        ]
                      },
                      {
                        "passed_time": 0.5301720771,
                        "iteration": 54,
                        "remaining_time": 9.109320234,
                        "learn": [
                          0.00683534878
                        ]
                      },
                      {
                        "passed_time": 0.5382842373,
                        "iteration": 55,
                        "remaining_time": 9.073934285,
                        "learn": [
                          0.006504113735
                        ]
                      },
                      {
                        "passed_time": 0.5467540541,
                        "iteration": 56,
                        "remaining_time": 9.045422333,
                        "learn": [
                          0.006268386093
                        ]
                      },
                      {
                        "passed_time": 0.5550239763,
                        "iteration": 57,
                        "remaining_time": 9.014354926,
                        "learn": [
                          0.005994213528
                        ]
                      },
                      {
                        "passed_time": 0.5634447773,
                        "iteration": 58,
                        "remaining_time": 8.986466703,
                        "learn": [
                          0.005693815046
                        ]
                      },
                      {
                        "passed_time": 0.5718177811,
                        "iteration": 59,
                        "remaining_time": 8.958478571,
                        "learn": [
                          0.005435550924
                        ]
                      },
                      {
                        "passed_time": 0.5811596688,
                        "iteration": 60,
                        "remaining_time": 8.946048016,
                        "learn": [
                          0.005211218901
                        ]
                      },
                      {
                        "passed_time": 0.6007421941,
                        "iteration": 61,
                        "remaining_time": 9.088648034,
                        "learn": [
                          0.004999223014
                        ]
                      },
                      {
                        "passed_time": 0.6093199105,
                        "iteration": 62,
                        "remaining_time": 9.062424701,
                        "learn": [
                          0.004744895618
                        ]
                      },
                      {
                        "passed_time": 0.6175512273,
                        "iteration": 63,
                        "remaining_time": 9.031686699,
                        "learn": [
                          0.004557418603
                        ]
                      },
                      {
                        "passed_time": 0.6261998163,
                        "iteration": 64,
                        "remaining_time": 9.007643511,
                        "learn": [
                          0.004336358622
                        ]
                      },
                      {
                        "passed_time": 0.6346041513,
                        "iteration": 65,
                        "remaining_time": 8.980610262,
                        "learn": [
                          0.004186717487
                        ]
                      },
                      {
                        "passed_time": 0.6428945455,
                        "iteration": 66,
                        "remaining_time": 8.952546432,
                        "learn": [
                          0.004053353706
                        ]
                      },
                      {
                        "passed_time": 0.6513428441,
                        "iteration": 67,
                        "remaining_time": 8.927228393,
                        "learn": [
                          0.003921336227
                        ]
                      },
                      {
                        "passed_time": 0.6594715248,
                        "iteration": 68,
                        "remaining_time": 8.898086806,
                        "learn": [
                          0.003770293205
                        ]
                      },
                      {
                        "passed_time": 0.6651948534,
                        "iteration": 69,
                        "remaining_time": 8.837588767,
                        "learn": [
                          0.003563571363
                        ]
                      },
                      {
                        "passed_time": 0.6739494958,
                        "iteration": 70,
                        "remaining_time": 8.818296924,
                        "learn": [
                          0.003437159889
                        ]
                      },
                      {
                        "passed_time": 0.6836610675,
                        "iteration": 71,
                        "remaining_time": 8.811631537,
                        "learn": [
                          0.003328739165
                        ]
                      },
                      {
                        "passed_time": 0.6922619351,
                        "iteration": 72,
                        "remaining_time": 8.790778272,
                        "learn": [
                          0.003219798237
                        ]
                      },
                      {
                        "passed_time": 0.700886163,
                        "iteration": 73,
                        "remaining_time": 8.770548472,
                        "learn": [
                          0.003089644813
                        ]
                      },
                      {
                        "passed_time": 0.7092857926,
                        "iteration": 74,
                        "remaining_time": 8.747858109,
                        "learn": [
                          0.002987658035
                        ]
                      },
                      {
                        "passed_time": 0.7144974398,
                        "iteration": 75,
                        "remaining_time": 8.686784663,
                        "learn": [
                          0.002835522075
                        ]
                      },
                      {
                        "passed_time": 0.7223295134,
                        "iteration": 76,
                        "remaining_time": 8.658573258,
                        "learn": [
                          0.002695672057
                        ]
                      },
                      {
                        "passed_time": 0.7310299242,
                        "iteration": 77,
                        "remaining_time": 8.641148592,
                        "learn": [
                          0.002605159024
                        ]
                      },
                      {
                        "passed_time": 0.7392419776,
                        "iteration": 78,
                        "remaining_time": 8.618251409,
                        "learn": [
                          0.002513640126
                        ]
                      },
                      {
                        "passed_time": 0.7474419785,
                        "iteration": 79,
                        "remaining_time": 8.595582753,
                        "learn": [
                          0.002441154638
                        ]
                      },
                      {
                        "passed_time": 0.7560114412,
                        "iteration": 80,
                        "remaining_time": 8.577463142,
                        "learn": [
                          0.002354439786
                        ]
                      },
                      {
                        "passed_time": 0.7654025174,
                        "iteration": 81,
                        "remaining_time": 8.568774524,
                        "learn": [
                          0.002282413189
                        ]
                      },
                      {
                        "passed_time": 0.7740311167,
                        "iteration": 82,
                        "remaining_time": 8.551644988,
                        "learn": [
                          0.002205083395
                        ]
                      },
                      {
                        "passed_time": 0.7812761059,
                        "iteration": 83,
                        "remaining_time": 8.519629916,
                        "learn": [
                          0.002107478374
                        ]
                      },
                      {
                        "passed_time": 0.7904713089,
                        "iteration": 84,
                        "remaining_time": 8.509191149,
                        "learn": [
                          0.002024571738
                        ]
                      },
                      {
                        "passed_time": 0.7963944171,
                        "iteration": 85,
                        "remaining_time": 8.464005781,
                        "learn": [
                          0.001931043348
                        ]
                      },
                      {
                        "passed_time": 0.8047300665,
                        "iteration": 86,
                        "remaining_time": 8.445040813,
                        "learn": [
                          0.00188462874
                        ]
                      },
                      {
                        "passed_time": 0.8127133148,
                        "iteration": 87,
                        "remaining_time": 8.422665262,
                        "learn": [
                          0.001831153812
                        ]
                      },
                      {
                        "passed_time": 0.8210293918,
                        "iteration": 88,
                        "remaining_time": 8.404019954,
                        "learn": [
                          0.001771934255
                        ]
                      },
                      {
                        "passed_time": 0.8295836774,
                        "iteration": 89,
                        "remaining_time": 8.388012738,
                        "learn": [
                          0.001715990706
                        ]
                      },
                      {
                        "passed_time": 0.8366492468,
                        "iteration": 90,
                        "remaining_time": 8.35729852,
                        "learn": [
                          0.001651145947
                        ]
                      },
                      {
                        "passed_time": 0.8453543198,
                        "iteration": 91,
                        "remaining_time": 8.343279591,
                        "learn": [
                          0.001610943545
                        ]
                      },
                      {
                        "passed_time": 0.8543773659,
                        "iteration": 92,
                        "remaining_time": 8.332476031,
                        "learn": [
                          0.001575499362
                        ]
                      },
                      {
                        "passed_time": 0.8644156829,
                        "iteration": 93,
                        "remaining_time": 8.331495838,
                        "learn": [
                          0.001537906211
                        ]
                      },
                      {
                        "passed_time": 0.8728662727,
                        "iteration": 94,
                        "remaining_time": 8.315199755,
                        "learn": [
                          0.001503095629
                        ]
                      },
                      {
                        "passed_time": 0.8811865228,
                        "iteration": 95,
                        "remaining_time": 8.297839757,
                        "learn": [
                          0.001466221911
                        ]
                      },
                      {
                        "passed_time": 0.8895837122,
                        "iteration": 96,
                        "remaining_time": 8.281382393,
                        "learn": [
                          0.001422810993
                        ]
                      },
                      {
                        "passed_time": 0.8979175701,
                        "iteration": 97,
                        "remaining_time": 8.264506615,
                        "learn": [
                          0.001391708807
                        ]
                      },
                      {
                        "passed_time": 0.9059980381,
                        "iteration": 98,
                        "remaining_time": 8.245497296,
                        "learn": [
                          0.0013552029
                        ]
                      },
                      {
                        "passed_time": 0.9132159329,
                        "iteration": 99,
                        "remaining_time": 8.218943396,
                        "learn": [
                          0.001309263624
                        ]
                      },
                      {
                        "passed_time": 0.9218563227,
                        "iteration": 100,
                        "remaining_time": 8.205434001,
                        "learn": [
                          0.001280478147
                        ]
                      },
                      {
                        "passed_time": 0.9285974342,
                        "iteration": 101,
                        "remaining_time": 8.17529898,
                        "learn": [
                          0.001237585871
                        ]
                      },
                      {
                        "passed_time": 0.9432010503,
                        "iteration": 102,
                        "remaining_time": 8.2140907,
                        "learn": [
                          0.001217357603
                        ]
                      },
                      {
                        "passed_time": 0.9549037152,
                        "iteration": 103,
                        "remaining_time": 8.226862777,
                        "learn": [
                          0.001189392441
                        ]
                      },
                      {
                        "passed_time": 0.9632411422,
                        "iteration": 104,
                        "remaining_time": 8.210484022,
                        "learn": [
                          0.00116322256
                        ]
                      },
                      {
                        "passed_time": 0.9721634439,
                        "iteration": 105,
                        "remaining_time": 8.1991898,
                        "learn": [
                          0.001139733799
                        ]
                      },
                      {
                        "passed_time": 0.9952358345,
                        "iteration": 106,
                        "remaining_time": 8.306033647,
                        "learn": [
                          0.001110784023
                        ]
                      },
                      {
                        "passed_time": 1.004388276,
                        "iteration": 107,
                        "remaining_time": 8.29550317,
                        "learn": [
                          0.001091025949
                        ]
                      },
                      {
                        "passed_time": 1.013122363,
                        "iteration": 108,
                        "remaining_time": 8.281578211,
                        "learn": [
                          0.001070635077
                        ]
                      },
                      {
                        "passed_time": 1.023013152,
                        "iteration": 109,
                        "remaining_time": 8.27710641,
                        "learn": [
                          0.001036102627
                        ]
                      },
                      {
                        "passed_time": 1.030955231,
                        "iteration": 110,
                        "remaining_time": 8.256929734,
                        "learn": [
                          0.001008703724
                        ]
                      },
                      {
                        "passed_time": 1.041530714,
                        "iteration": 111,
                        "remaining_time": 8.257850663,
                        "learn": [
                          0.0009884309333
                        ]
                      },
                      {
                        "passed_time": 1.050100662,
                        "iteration": 112,
                        "remaining_time": 8.242825549,
                        "learn": [
                          0.0009629612388
                        ]
                      },
                      {
                        "passed_time": 1.058432318,
                        "iteration": 113,
                        "remaining_time": 8.226061701,
                        "learn": [
                          0.0009469241985
                        ]
                      },
                      {
                        "passed_time": 1.066614456,
                        "iteration": 114,
                        "remaining_time": 8.20829386,
                        "learn": [
                          0.0009274914591
                        ]
                      },
                      {
                        "passed_time": 1.075090392,
                        "iteration": 115,
                        "remaining_time": 8.19293023,
                        "learn": [
                          0.0009111371948
                        ]
                      },
                      {
                        "passed_time": 1.088012738,
                        "iteration": 116,
                        "remaining_time": 8.211241432,
                        "learn": [
                          0.0008970645471
                        ]
                      },
                      {
                        "passed_time": 1.096201789,
                        "iteration": 117,
                        "remaining_time": 8.193643881,
                        "learn": [
                          0.0008842672914
                        ]
                      },
                      {
                        "passed_time": 1.104339736,
                        "iteration": 118,
                        "remaining_time": 8.175826114,
                        "learn": [
                          0.0008665171508
                        ]
                      },
                      {
                        "passed_time": 1.112191331,
                        "iteration": 119,
                        "remaining_time": 8.15606976,
                        "learn": [
                          0.0008490760254
                        ]
                      },
                      {
                        "passed_time": 1.119996091,
                        "iteration": 120,
                        "remaining_time": 8.13616995,
                        "learn": [
                          0.0008350715002
                        ]
                      },
                      {
                        "passed_time": 1.128271598,
                        "iteration": 121,
                        "remaining_time": 8.119856252,
                        "learn": [
                          0.0008176576684
                        ]
                      },
                      {
                        "passed_time": 1.136780609,
                        "iteration": 122,
                        "remaining_time": 8.105338163,
                        "learn": [
                          0.0008026800519
                        ]
                      },
                      {
                        "passed_time": 1.144643007,
                        "iteration": 123,
                        "remaining_time": 8.086348982,
                        "learn": [
                          0.0007827243326
                        ]
                      },
                      {
                        "passed_time": 1.152497977,
                        "iteration": 124,
                        "remaining_time": 8.067485839,
                        "learn": [
                          0.0007696018379
                        ]
                      },
                      {
                        "passed_time": 1.160561904,
                        "iteration": 125,
                        "remaining_time": 8.050246861,
                        "learn": [
                          0.000756854055
                        ]
                      },
                      {
                        "passed_time": 1.169144692,
                        "iteration": 126,
                        "remaining_time": 8.036719022,
                        "learn": [
                          0.0007406320586
                        ]
                      },
                      {
                        "passed_time": 1.177427833,
                        "iteration": 127,
                        "remaining_time": 8.021227115,
                        "learn": [
                          0.0007228694265
                        ]
                      },
                      {
                        "passed_time": 1.185892838,
                        "iteration": 128,
                        "remaining_time": 8.007074896,
                        "learn": [
                          0.0007098904961
                        ]
                      },
                      {
                        "passed_time": 1.194062732,
                        "iteration": 129,
                        "remaining_time": 7.991035207,
                        "learn": [
                          0.0006947580825
                        ]
                      },
                      {
                        "passed_time": 1.20264966,
                        "iteration": 130,
                        "remaining_time": 7.977882098,
                        "learn": [
                          0.0006846633725
                        ]
                      },
                      {
                        "passed_time": 1.21153462,
                        "iteration": 131,
                        "remaining_time": 7.966757956,
                        "learn": [
                          0.0006703913092
                        ]
                      },
                      {
                        "passed_time": 1.220019472,
                        "iteration": 132,
                        "remaining_time": 7.953059265,
                        "learn": [
                          0.0006592118045
                        ]
                      },
                      {
                        "passed_time": 1.22770309,
                        "iteration": 133,
                        "remaining_time": 7.934260267,
                        "learn": [
                          0.0006475389887
                        ]
                      },
                      {
                        "passed_time": 1.235880549,
                        "iteration": 134,
                        "remaining_time": 7.918790184,
                        "learn": [
                          0.0006411901739
                        ]
                      },
                      {
                        "passed_time": 1.246568792,
                        "iteration": 135,
                        "remaining_time": 7.919378208,
                        "learn": [
                          0.0006306734347
                        ]
                      },
                      {
                        "passed_time": 1.258596515,
                        "iteration": 136,
                        "remaining_time": 7.928239359,
                        "learn": [
                          0.0006239343355
                        ]
                      },
                      {
                        "passed_time": 1.267267245,
                        "iteration": 137,
                        "remaining_time": 7.915828736,
                        "learn": [
                          0.0006118678286
                        ]
                      },
                      {
                        "passed_time": 1.276003034,
                        "iteration": 138,
                        "remaining_time": 7.903874908,
                        "learn": [
                          0.0006003309429
                        ]
                      },
                      {
                        "passed_time": 1.284365641,
                        "iteration": 139,
                        "remaining_time": 7.889674652,
                        "learn": [
                          0.0005924144852
                        ]
                      },
                      {
                        "passed_time": 1.292568409,
                        "iteration": 140,
                        "remaining_time": 7.874583431,
                        "learn": [
                          0.000581295065
                        ]
                      },
                      {
                        "passed_time": 1.301008259,
                        "iteration": 141,
                        "remaining_time": 7.861021736,
                        "learn": [
                          0.0005664117675
                        ]
                      },
                      {
                        "passed_time": 1.309300278,
                        "iteration": 142,
                        "remaining_time": 7.846645719,
                        "learn": [
                          0.0005573751006
                        ]
                      },
                      {
                        "passed_time": 1.317336202,
                        "iteration": 143,
                        "remaining_time": 7.830831865,
                        "learn": [
                          0.0005481623293
                        ]
                      },
                      {
                        "passed_time": 1.325443009,
                        "iteration": 144,
                        "remaining_time": 7.815543258,
                        "learn": [
                          0.0005428123659
                        ]
                      },
                      {
                        "passed_time": 1.333734702,
                        "iteration": 145,
                        "remaining_time": 7.801434489,
                        "learn": [
                          0.0005362491965
                        ]
                      },
                      {
                        "passed_time": 1.341474012,
                        "iteration": 146,
                        "remaining_time": 7.784199542,
                        "learn": [
                          0.0005270237955
                        ]
                      },
                      {
                        "passed_time": 1.350776017,
                        "iteration": 147,
                        "remaining_time": 7.776088963,
                        "learn": [
                          0.0005220662626
                        ]
                      },
                      {
                        "passed_time": 1.359331439,
                        "iteration": 148,
                        "remaining_time": 7.76369835,
                        "learn": [
                          0.0005155187102
                        ]
                      },
                      {
                        "passed_time": 1.367836782,
                        "iteration": 149,
                        "remaining_time": 7.751075098,
                        "learn": [
                          0.000508890642
                        ]
                      },
                      {
                        "passed_time": 1.375669721,
                        "iteration": 150,
                        "remaining_time": 7.73472578,
                        "learn": [
                          0.0005033059911
                        ]
                      },
                      {
                        "passed_time": 1.38436983,
                        "iteration": 151,
                        "remaining_time": 7.723326418,
                        "learn": [
                          0.0004943267463
                        ]
                      },
                      {
                        "passed_time": 1.392422807,
                        "iteration": 152,
                        "remaining_time": 7.708379852,
                        "learn": [
                          0.000487130027
                        ]
                      },
                      {
                        "passed_time": 1.400468934,
                        "iteration": 153,
                        "remaining_time": 7.693485183,
                        "learn": [
                          0.0004821729753
                        ]
                      },
                      {
                        "passed_time": 1.408942821,
                        "iteration": 154,
                        "remaining_time": 7.681010864,
                        "learn": [
                          0.0004760226449
                        ]
                      },
                      {
                        "passed_time": 1.417931742,
                        "iteration": 155,
                        "remaining_time": 7.671374295,
                        "learn": [
                          0.0004703713742
                        ]
                      },
                      {
                        "passed_time": 1.426585354,
                        "iteration": 156,
                        "remaining_time": 7.659945565,
                        "learn": [
                          0.0004638741095
                        ]
                      },
                      {
                        "passed_time": 1.435357507,
                        "iteration": 157,
                        "remaining_time": 7.649183677,
                        "learn": [
                          0.0004588319154
                        ]
                      },
                      {
                        "passed_time": 1.443681655,
                        "iteration": 158,
                        "remaining_time": 7.63607718,
                        "learn": [
                          0.0004535911747
                        ]
                      },
                      {
                        "passed_time": 1.453202977,
                        "iteration": 159,
                        "remaining_time": 7.629315628,
                        "learn": [
                          0.0004499221068
                        ]
                      },
                      {
                        "passed_time": 1.460913232,
                        "iteration": 160,
                        "remaining_time": 7.613081999,
                        "learn": [
                          0.0004499213455
                        ]
                      },
                      {
                        "passed_time": 1.468910483,
                        "iteration": 161,
                        "remaining_time": 7.598438175,
                        "learn": [
                          0.0004499213455
                        ]
                      },
                      {
                        "passed_time": 1.477493483,
                        "iteration": 162,
                        "remaining_time": 7.586883711,
                        "learn": [
                          0.0004444956514
                        ]
                      },
                      {
                        "passed_time": 1.485388753,
                        "iteration": 163,
                        "remaining_time": 7.571859739,
                        "learn": [
                          0.0004382084001
                        ]
                      },
                      {
                        "passed_time": 1.493255408,
                        "iteration": 164,
                        "remaining_time": 7.556777366,
                        "learn": [
                          0.0004328412872
                        ]
                      },
                      {
                        "passed_time": 1.501542937,
                        "iteration": 165,
                        "remaining_time": 7.543896441,
                        "learn": [
                          0.0004281818847
                        ]
                      },
                      {
                        "passed_time": 1.509326138,
                        "iteration": 166,
                        "remaining_time": 7.528554927,
                        "learn": [
                          0.0004219832698
                        ]
                      },
                      {
                        "passed_time": 1.517814222,
                        "iteration": 167,
                        "remaining_time": 7.516794243,
                        "learn": [
                          0.0004177540746
                        ]
                      },
                      {
                        "passed_time": 1.528078644,
                        "iteration": 168,
                        "remaining_time": 7.513806822,
                        "learn": [
                          0.0004136422495
                        ]
                      },
                      {
                        "passed_time": 1.536516333,
                        "iteration": 169,
                        "remaining_time": 7.501815037,
                        "learn": [
                          0.0004092973772
                        ]
                      },
                      {
                        "passed_time": 1.543959478,
                        "iteration": 170,
                        "remaining_time": 7.485043316,
                        "learn": [
                          0.0004047521689
                        ]
                      },
                      {
                        "passed_time": 1.550799512,
                        "iteration": 171,
                        "remaining_time": 7.465476721,
                        "learn": [
                          0.0004047521689
                        ]
                      },
                      {
                        "passed_time": 1.557519941,
                        "iteration": 172,
                        "remaining_time": 7.445485497,
                        "learn": [
                          0.0004047516592
                        ]
                      },
                      {
                        "passed_time": 1.565635348,
                        "iteration": 173,
                        "remaining_time": 7.432268952,
                        "learn": [
                          0.0003999002241
                        ]
                      },
                      {
                        "passed_time": 1.572982544,
                        "iteration": 174,
                        "remaining_time": 7.415489134,
                        "learn": [
                          0.0003999002241
                        ]
                      },
                      {
                        "passed_time": 1.581105478,
                        "iteration": 175,
                        "remaining_time": 7.402448373,
                        "learn": [
                          0.0003998965827
                        ]
                      },
                      {
                        "passed_time": 1.591549711,
                        "iteration": 176,
                        "remaining_time": 7.400256567,
                        "learn": [
                          0.0003998955643
                        ]
                      },
                      {
                        "passed_time": 1.599936407,
                        "iteration": 177,
                        "remaining_time": 7.388470373,
                        "learn": [
                          0.0003949195753
                        ]
                      },
                      {
                        "passed_time": 1.607022628,
                        "iteration": 178,
                        "remaining_time": 7.370757417,
                        "learn": [
                          0.0003949159011
                        ]
                      },
                      {
                        "passed_time": 1.615244339,
                        "iteration": 179,
                        "remaining_time": 7.35833532,
                        "learn": [
                          0.0003907966137
                        ]
                      },
                      {
                        "passed_time": 1.62201772,
                        "iteration": 180,
                        "remaining_time": 7.339406147,
                        "learn": [
                          0.0003907957382
                        ]
                      },
                      {
                        "passed_time": 1.629783808,
                        "iteration": 181,
                        "remaining_time": 7.32507228,
                        "learn": [
                          0.0003851169853
                        ]
                      },
                      {
                        "passed_time": 1.636738683,
                        "iteration": 182,
                        "remaining_time": 7.307188547,
                        "learn": [
                          0.0003851091255
                        ]
                      },
                      {
                        "passed_time": 1.645811089,
                        "iteration": 183,
                        "remaining_time": 7.298814393,
                        "learn": [
                          0.0003851081039
                        ]
                      },
                      {
                        "passed_time": 1.656198119,
                        "iteration": 184,
                        "remaining_time": 7.296224144,
                        "learn": [
                          0.0003851064766
                        ]
                      },
                      {
                        "passed_time": 1.66349974,
                        "iteration": 185,
                        "remaining_time": 7.280047248,
                        "learn": [
                          0.0003851008612
                        ]
                      },
                      {
                        "passed_time": 1.671333733,
                        "iteration": 186,
                        "remaining_time": 7.266279812,
                        "learn": [
                          0.0003850939759
                        ]
                      },
                      {
                        "passed_time": 1.678984444,
                        "iteration": 187,
                        "remaining_time": 7.251783874,
                        "learn": [
                          0.0003850923215
                        ]
                      },
                      {
                        "passed_time": 1.686974052,
                        "iteration": 188,
                        "remaining_time": 7.238814582,
                        "learn": [
                          0.0003850881974
                        ]
                      },
                      {
                        "passed_time": 1.694691035,
                        "iteration": 189,
                        "remaining_time": 7.224735466,
                        "learn": [
                          0.0003804986174
                        ]
                      },
                      {
                        "passed_time": 1.702161764,
                        "iteration": 190,
                        "remaining_time": 7.209679934,
                        "learn": [
                          0.0003751701598
                        ]
                      },
                      {
                        "passed_time": 1.710270516,
                        "iteration": 191,
                        "remaining_time": 7.197388423,
                        "learn": [
                          0.0003751662532
                        ]
                      },
                      {
                        "passed_time": 1.718195164,
                        "iteration": 192,
                        "remaining_time": 7.184370452,
                        "learn": [
                          0.0003703350837
                        ]
                      },
                      {
                        "passed_time": 1.725464882,
                        "iteration": 193,
                        "remaining_time": 7.168683995,
                        "learn": [
                          0.0003703333571
                        ]
                      },
                      {
                        "passed_time": 1.732700155,
                        "iteration": 194,
                        "remaining_time": 7.152941664,
                        "learn": [
                          0.0003703327716
                        ]
                      },
                      {
                        "passed_time": 1.739576285,
                        "iteration": 195,
                        "remaining_time": 7.135812923,
                        "learn": [
                          0.0003703282317
                        ]
                      },
                      {
                        "passed_time": 1.747276632,
                        "iteration": 196,
                        "remaining_time": 7.122147897,
                        "learn": [
                          0.0003703282317
                        ]
                      },
                      {
                        "passed_time": 1.754586355,
                        "iteration": 197,
                        "remaining_time": 7.106960891,
                        "learn": [
                          0.000370320187
                        ]
                      },
                      {
                        "passed_time": 1.761813502,
                        "iteration": 198,
                        "remaining_time": 7.091520677,
                        "learn": [
                          0.000370320187
                        ]
                      },
                      {
                        "passed_time": 1.768487928,
                        "iteration": 199,
                        "remaining_time": 7.073951713,
                        "learn": [
                          0.0003703194628
                        ]
                      },
                      {
                        "passed_time": 1.775260103,
                        "iteration": 200,
                        "remaining_time": 7.056879713,
                        "learn": [
                          0.0003703185706
                        ]
                      },
                      {
                        "passed_time": 1.782846119,
                        "iteration": 201,
                        "remaining_time": 7.043124766,
                        "learn": [
                          0.0003652340389
                        ]
                      },
                      {
                        "passed_time": 1.790000291,
                        "iteration": 202,
                        "remaining_time": 7.027735134,
                        "learn": [
                          0.0003652332498
                        ]
                      },
                      {
                        "passed_time": 1.797853258,
                        "iteration": 203,
                        "remaining_time": 7.015152908,
                        "learn": [
                          0.000360795324
                        ]
                      },
                      {
                        "passed_time": 1.80551081,
                        "iteration": 204,
                        "remaining_time": 7.001858994,
                        "learn": [
                          0.0003607939191
                        ]
                      },
                      {
                        "passed_time": 1.813458092,
                        "iteration": 205,
                        "remaining_time": 6.989736528,
                        "learn": [
                          0.0003566991387
                        ]
                      },
                      {
                        "passed_time": 1.820343001,
                        "iteration": 206,
                        "remaining_time": 6.973584541,
                        "learn": [
                          0.0003566984123
                        ]
                      },
                      {
                        "passed_time": 1.827532953,
                        "iteration": 207,
                        "remaining_time": 6.958683166,
                        "learn": [
                          0.000356695577
                        ]
                      },
                      {
                        "passed_time": 1.835403525,
                        "iteration": 208,
                        "remaining_time": 6.946431523,
                        "learn": [
                          0.0003566946729
                        ]
                      },
                      {
                        "passed_time": 1.843106389,
                        "iteration": 209,
                        "remaining_time": 6.933590701,
                        "learn": [
                          0.0003566940225
                        ]
                      },
                      {
                        "passed_time": 1.850187057,
                        "iteration": 210,
                        "remaining_time": 6.918471982,
                        "learn": [
                          0.0003566910058
                        ]
                      },
                      {
                        "passed_time": 1.857652029,
                        "iteration": 211,
                        "remaining_time": 6.904857541,
                        "learn": [
                          0.0003566887764
                        ]
                      },
                      {
                        "passed_time": 1.864628873,
                        "iteration": 212,
                        "remaining_time": 6.889497292,
                        "learn": [
                          0.0003566858921
                        ]
                      },
                      {
                        "passed_time": 1.8721056,
                        "iteration": 213,
                        "remaining_time": 6.87605141,
                        "learn": [
                          0.0003566805184
                        ]
                      },
                      {
                        "passed_time": 1.879248681,
                        "iteration": 214,
                        "remaining_time": 6.86144286,
                        "learn": [
                          0.0003566805184
                        ]
                      },
                      {
                        "passed_time": 1.887276716,
                        "iteration": 215,
                        "remaining_time": 6.850115487,
                        "learn": [
                          0.0003522010523
                        ]
                      },
                      {
                        "passed_time": 1.894539636,
                        "iteration": 216,
                        "remaining_time": 6.836057766,
                        "learn": [
                          0.0003522002609
                        ]
                      },
                      {
                        "passed_time": 1.901446794,
                        "iteration": 217,
                        "remaining_time": 6.820786204,
                        "learn": [
                          0.0003521927523
                        ]
                      },
                      {
                        "passed_time": 1.908896928,
                        "iteration": 218,
                        "remaining_time": 6.807527399,
                        "learn": [
                          0.0003521899689
                        ]
                      },
                      {
                        "passed_time": 1.915827447,
                        "iteration": 219,
                        "remaining_time": 6.79247913,
                        "learn": [
                          0.0003521876294
                        ]
                      },
                      {
                        "passed_time": 1.923598481,
                        "iteration": 220,
                        "remaining_time": 6.780467043,
                        "learn": [
                          0.0003481454524
                        ]
                      },
                      {
                        "passed_time": 1.931300045,
                        "iteration": 221,
                        "remaining_time": 6.768249706,
                        "learn": [
                          0.0003481443474
                        ]
                      },
                      {
                        "passed_time": 1.943261199,
                        "iteration": 222,
                        "remaining_time": 6.770914583,
                        "learn": [
                          0.0003481443474
                        ]
                      },
                      {
                        "passed_time": 1.952738952,
                        "iteration": 223,
                        "remaining_time": 6.764845653,
                        "learn": [
                          0.0003481430044
                        ]
                      },
                      {
                        "passed_time": 1.960282948,
                        "iteration": 224,
                        "remaining_time": 6.75208571,
                        "learn": [
                          0.0003481407878
                        ]
                      },
                      {
                        "passed_time": 1.967282994,
                        "iteration": 225,
                        "remaining_time": 6.737509016,
                        "learn": [
                          0.0003481390116
                        ]
                      },
                      {
                        "passed_time": 1.99511783,
                        "iteration": 226,
                        "remaining_time": 6.793947501,
                        "learn": [
                          0.0003481378881
                        ]
                      },
                      {
                        "passed_time": 2.00419996,
                        "iteration": 227,
                        "remaining_time": 6.786150743,
                        "learn": [
                          0.0003481363056
                        ]
                      },
                      {
                        "passed_time": 2.019427698,
                        "iteration": 228,
                        "remaining_time": 6.799033865,
                        "learn": [
                          0.0003481351689
                        ]
                      },
                      {
                        "passed_time": 2.02789363,
                        "iteration": 229,
                        "remaining_time": 6.789035195,
                        "learn": [
                          0.0003481335833
                        ]
                      },
                      {
                        "passed_time": 2.034968724,
                        "iteration": 230,
                        "remaining_time": 6.774419691,
                        "learn": [
                          0.0003481314777
                        ]
                      },
                      {
                        "passed_time": 2.041809118,
                        "iteration": 231,
                        "remaining_time": 6.759092253,
                        "learn": [
                          0.0003481314777
                        ]
                      },
                      {
                        "passed_time": 2.049348256,
                        "iteration": 232,
                        "remaining_time": 6.746137822,
                        "learn": [
                          0.0003481300335
                        ]
                      },
                      {
                        "passed_time": 2.056155119,
                        "iteration": 233,
                        "remaining_time": 6.730832569,
                        "learn": [
                          0.0003481300335
                        ]
                      },
                      {
                        "passed_time": 2.0626157,
                        "iteration": 234,
                        "remaining_time": 6.714472386,
                        "learn": [
                          0.0003436965155
                        ]
                      },
                      {
                        "passed_time": 2.070302347,
                        "iteration": 235,
                        "remaining_time": 6.702165226,
                        "learn": [
                          0.0003394393253
                        ]
                      },
                      {
                        "passed_time": 2.077383179,
                        "iteration": 236,
                        "remaining_time": 6.687946689,
                        "learn": [
                          0.0003394360885
                        ]
                      },
                      {
                        "passed_time": 2.084649545,
                        "iteration": 237,
                        "remaining_time": 6.674382156,
                        "learn": [
                          0.0003394352532
                        ]
                      },
                      {
                        "passed_time": 2.091320449,
                        "iteration": 238,
                        "remaining_time": 6.658974317,
                        "learn": [
                          0.0003394346225
                        ]
                      },
                      {
                        "passed_time": 2.098562002,
                        "iteration": 239,
                        "remaining_time": 6.645446341,
                        "learn": [
                          0.0003394341602
                        ]
                      },
                      {
                        "passed_time": 2.106112839,
                        "iteration": 240,
                        "remaining_time": 6.632944584,
                        "learn": [
                          0.0003394268455
                        ]
                      },
                      {
                        "passed_time": 2.113698408,
                        "iteration": 241,
                        "remaining_time": 6.620592534,
                        "learn": [
                          0.0003394268455
                        ]
                      },
                      {
                        "passed_time": 2.12146491,
                        "iteration": 242,
                        "remaining_time": 6.608843362,
                        "learn": [
                          0.0003394259625
                        ]
                      },
                      {
                        "passed_time": 2.128572842,
                        "iteration": 243,
                        "remaining_time": 6.595086348,
                        "learn": [
                          0.0003394259625
                        ]
                      },
                      {
                        "passed_time": 2.135846393,
                        "iteration": 244,
                        "remaining_time": 6.581893987,
                        "learn": [
                          0.0003394243798
                        ]
                      },
                      {
                        "passed_time": 2.14338759,
                        "iteration": 245,
                        "remaining_time": 6.569570091,
                        "learn": [
                          0.0003394243798
                        ]
                      },
                      {
                        "passed_time": 2.150012512,
                        "iteration": 246,
                        "remaining_time": 6.554491585,
                        "learn": [
                          0.0003394234986
                        ]
                      },
                      {
                        "passed_time": 2.157430723,
                        "iteration": 247,
                        "remaining_time": 6.54188671,
                        "learn": [
                          0.0003394174122
                        ]
                      },
                      {
                        "passed_time": 2.164527686,
                        "iteration": 248,
                        "remaining_time": 6.528354586,
                        "learn": [
                          0.000339413679
                        ]
                      },
                      {
                        "passed_time": 2.171801827,
                        "iteration": 249,
                        "remaining_time": 6.515405482,
                        "learn": [
                          0.0003394126617
                        ]
                      },
                      {
                        "passed_time": 2.179865777,
                        "iteration": 250,
                        "remaining_time": 6.504858433,
                        "learn": [
                          0.0003394118717
                        ]
                      },
                      {
                        "passed_time": 2.187321898,
                        "iteration": 251,
                        "remaining_time": 6.492526904,
                        "learn": [
                          0.000339408668
                        ]
                      },
                      {
                        "passed_time": 2.195075818,
                        "iteration": 252,
                        "remaining_time": 6.481113187,
                        "learn": [
                          0.000339405648
                        ]
                      },
                      {
                        "passed_time": 2.202034532,
                        "iteration": 253,
                        "remaining_time": 6.467392758,
                        "learn": [
                          0.000339403941
                        ]
                      },
                      {
                        "passed_time": 2.210987105,
                        "iteration": 254,
                        "remaining_time": 6.459550563,
                        "learn": [
                          0.0003350542534
                        ]
                      },
                      {
                        "passed_time": 2.219889601,
                        "iteration": 255,
                        "remaining_time": 6.451554154,
                        "learn": [
                          0.0003350515696
                        ]
                      },
                      {
                        "passed_time": 2.227641607,
                        "iteration": 256,
                        "remaining_time": 6.440224568,
                        "learn": [
                          0.0003350515696
                        ]
                      },
                      {
                        "passed_time": 2.235186353,
                        "iteration": 257,
                        "remaining_time": 6.428326642,
                        "learn": [
                          0.0003350466592
                        ]
                      },
                      {
                        "passed_time": 2.243459163,
                        "iteration": 258,
                        "remaining_time": 6.418545328,
                        "learn": [
                          0.0003350447875
                        ]
                      },
                      {
                        "passed_time": 2.251779528,
                        "iteration": 259,
                        "remaining_time": 6.408910965,
                        "learn": [
                          0.0003350423708
                        ]
                      },
                      {
                        "passed_time": 2.260467598,
                        "iteration": 260,
                        "remaining_time": 6.400327796,
                        "learn": [
                          0.0003308077383
                        ]
                      },
                      {
                        "passed_time": 2.267726815,
                        "iteration": 261,
                        "remaining_time": 6.387719044,
                        "learn": [
                          0.0003308044673
                        ]
                      },
                      {
                        "passed_time": 2.274717213,
                        "iteration": 262,
                        "remaining_time": 6.374397665,
                        "learn": [
                          0.000330800502
                        ]
                      },
                      {
                        "passed_time": 2.281724819,
                        "iteration": 263,
                        "remaining_time": 6.361172222,
                        "learn": [
                          0.0003307990894
                        ]
                      },
                      {
                        "passed_time": 2.29008568,
                        "iteration": 264,
                        "remaining_time": 6.351747075,
                        "learn": [
                          0.0003307990894
                        ]
                      },
                      {
                        "passed_time": 2.297207528,
                        "iteration": 265,
                        "remaining_time": 6.338911,
                        "learn": [
                          0.0003307981315
                        ]
                      },
                      {
                        "passed_time": 2.304331891,
                        "iteration": 266,
                        "remaining_time": 6.32612463,
                        "learn": [
                          0.0003307953095
                        ]
                      },
                      {
                        "passed_time": 2.31344079,
                        "iteration": 267,
                        "remaining_time": 6.318800963,
                        "learn": [
                          0.0003307953095
                        ]
                      },
                      {
                        "passed_time": 2.320693004,
                        "iteration": 268,
                        "remaining_time": 6.306418534,
                        "learn": [
                          0.000330792883
                        ]
                      },
                      {
                        "passed_time": 2.328963009,
                        "iteration": 269,
                        "remaining_time": 6.296825912,
                        "learn": [
                          0.000330787974
                        ]
                      },
                      {
                        "passed_time": 2.336481979,
                        "iteration": 270,
                        "remaining_time": 6.285222739,
                        "learn": [
                          0.0003307867514
                        ]
                      },
                      {
                        "passed_time": 2.34495864,
                        "iteration": 271,
                        "remaining_time": 6.276212831,
                        "learn": [
                          0.0003307840835
                        ]
                      },
                      {
                        "passed_time": 2.352017327,
                        "iteration": 272,
                        "remaining_time": 6.263430756,
                        "learn": [
                          0.0003307835234
                        ]
                      },
                      {
                        "passed_time": 2.360130013,
                        "iteration": 273,
                        "remaining_time": 6.253483174,
                        "learn": [
                          0.0003307741943
                        ]
                      },
                      {
                        "passed_time": 2.367761501,
                        "iteration": 274,
                        "remaining_time": 6.242280322,
                        "learn": [
                          0.0003307715507
                        ]
                      },
                      {
                        "passed_time": 2.374849217,
                        "iteration": 275,
                        "remaining_time": 6.229676933,
                        "learn": [
                          0.0003307679688
                        ]
                      },
                      {
                        "passed_time": 2.382673902,
                        "iteration": 276,
                        "remaining_time": 6.219036936,
                        "learn": [
                          0.0003307664091
                        ]
                      },
                      {
                        "passed_time": 2.39031368,
                        "iteration": 277,
                        "remaining_time": 6.207936966,
                        "learn": [
                          0.000330763923
                        ]
                      },
                      {
                        "passed_time": 2.397307635,
                        "iteration": 278,
                        "remaining_time": 6.195192848,
                        "learn": [
                          0.0003307626607
                        ]
                      },
                      {
                        "passed_time": 2.405026557,
                        "iteration": 279,
                        "remaining_time": 6.184354005,
                        "learn": [
                          0.0003307601735
                        ]
                      },
                      {
                        "passed_time": 2.4121465,
                        "iteration": 280,
                        "remaining_time": 6.172004746,
                        "learn": [
                          0.0003307580852
                        ]
                      },
                      {
                        "passed_time": 2.419547323,
                        "iteration": 281,
                        "remaining_time": 6.160407723,
                        "learn": [
                          0.0003307554176
                        ]
                      },
                      {
                        "passed_time": 2.426671847,
                        "iteration": 282,
                        "remaining_time": 6.148140333,
                        "learn": [
                          0.0003307522903
                        ]
                      },
                      {
                        "passed_time": 2.433823102,
                        "iteration": 283,
                        "remaining_time": 6.135976554,
                        "learn": [
                          0.0003307517459
                        ]
                      },
                      {
                        "passed_time": 2.441466472,
                        "iteration": 284,
                        "remaining_time": 6.125082553,
                        "learn": [
                          0.0003307477488
                        ]
                      },
                      {
                        "passed_time": 2.448364857,
                        "iteration": 285,
                        "remaining_time": 6.112351427,
                        "learn": [
                          0.0003307448868
                        ]
                      },
                      {
                        "passed_time": 2.455323565,
                        "iteration": 286,
                        "remaining_time": 6.099810809,
                        "learn": [
                          0.0003307435623
                        ]
                      },
                      {
                        "passed_time": 2.462229971,
                        "iteration": 287,
                        "remaining_time": 6.08717965,
                        "learn": [
                          0.0003307423791
                        ]
                      },
                      {
                        "passed_time": 2.46881687,
                        "iteration": 288,
                        "remaining_time": 6.073802058,
                        "learn": [
                          0.0003307394734
                        ]
                      },
                      {
                        "passed_time": 2.476003695,
                        "iteration": 289,
                        "remaining_time": 6.061940082,
                        "learn": [
                          0.0003307381434
                        ]
                      },
                      {
                        "passed_time": 2.482827356,
                        "iteration": 290,
                        "remaining_time": 6.049225414,
                        "learn": [
                          0.0003307364296
                        ]
                      },
                      {
                        "passed_time": 2.489787633,
                        "iteration": 291,
                        "remaining_time": 6.036882342,
                        "learn": [
                          0.0003307328841
                        ]
                      },
                      {
                        "passed_time": 2.496461042,
                        "iteration": 292,
                        "remaining_time": 6.023883812,
                        "learn": [
                          0.0003307321585
                        ]
                      },
                      {
                        "passed_time": 2.503296804,
                        "iteration": 293,
                        "remaining_time": 6.011318176,
                        "learn": [
                          0.0003307313224
                        ]
                      },
                      {
                        "passed_time": 2.510104543,
                        "iteration": 294,
                        "remaining_time": 5.998724416,
                        "learn": [
                          0.0003307267458
                        ]
                      },
                      {
                        "passed_time": 2.516838,
                        "iteration": 295,
                        "remaining_time": 5.985993081,
                        "learn": [
                          0.0003307255768
                        ]
                      },
                      {
                        "passed_time": 2.523556808,
                        "iteration": 296,
                        "remaining_time": 5.973267462,
                        "learn": [
                          0.0003307249179
                        ]
                      },
                      {
                        "passed_time": 2.53029857,
                        "iteration": 297,
                        "remaining_time": 5.960636228,
                        "learn": [
                          0.000330722855
                        ]
                      },
                      {
                        "passed_time": 2.53792905,
                        "iteration": 298,
                        "remaining_time": 5.950127973,
                        "learn": [
                          0.0003307189399
                        ]
                      },
                      {
                        "passed_time": 2.546157437,
                        "iteration": 299,
                        "remaining_time": 5.94103402,
                        "learn": [
                          0.000330718394
                        ]
                      },
                      {
                        "passed_time": 2.553210163,
                        "iteration": 300,
                        "remaining_time": 5.929215627,
                        "learn": [
                          0.0003307178328
                        ]
                      },
                      {
                        "passed_time": 2.560037727,
                        "iteration": 301,
                        "remaining_time": 5.916908388,
                        "learn": [
                          0.0003307157356
                        ]
                      },
                      {
                        "passed_time": 2.56749331,
                        "iteration": 302,
                        "remaining_time": 5.906081971,
                        "learn": [
                          0.0003307136618
                        ]
                      },
                      {
                        "passed_time": 2.574689416,
                        "iteration": 303,
                        "remaining_time": 5.894683662,
                        "learn": [
                          0.0003307136618
                        ]
                      },
                      {
                        "passed_time": 2.581624339,
                        "iteration": 304,
                        "remaining_time": 5.882717755,
                        "learn": [
                          0.0003307089227
                        ]
                      },
                      {
                        "passed_time": 2.589689524,
                        "iteration": 305,
                        "remaining_time": 5.873348136,
                        "learn": [
                          0.000330707171
                        ]
                      },
                      {
                        "passed_time": 2.59730312,
                        "iteration": 306,
                        "remaining_time": 5.86296763,
                        "learn": [
                          0.0003307045675
                        ]
                      },
                      {
                        "passed_time": 2.604813254,
                        "iteration": 307,
                        "remaining_time": 5.852372636,
                        "learn": [
                          0.0003307032245
                        ]
                      },
                      {
                        "passed_time": 2.612012329,
                        "iteration": 308,
                        "remaining_time": 5.841102005,
                        "learn": [
                          0.0003307012733
                        ]
                      },
                      {
                        "passed_time": 2.619706273,
                        "iteration": 309,
                        "remaining_time": 5.830959123,
                        "learn": [
                          0.0003306949524
                        ]
                      },
                      {
                        "passed_time": 2.626918559,
                        "iteration": 310,
                        "remaining_time": 5.81976491,
                        "learn": [
                          0.000330690419
                        ]
                      },
                      {
                        "passed_time": 2.633917106,
                        "iteration": 311,
                        "remaining_time": 5.8081249,
                        "learn": [
                          0.0003306848457
                        ]
                      },
                      {
                        "passed_time": 2.640727896,
                        "iteration": 312,
                        "remaining_time": 5.796102443,
                        "learn": [
                          0.0003306828486
                        ]
                      },
                      {
                        "passed_time": 2.647714012,
                        "iteration": 313,
                        "remaining_time": 5.784496217,
                        "learn": [
                          0.0003306801061
                        ]
                      },
                      {
                        "passed_time": 2.654601752,
                        "iteration": 314,
                        "remaining_time": 5.772705397,
                        "learn": [
                          0.0003306794319
                        ]
                      },
                      {
                        "passed_time": 2.662859013,
                        "iteration": 315,
                        "remaining_time": 5.763910015,
                        "learn": [
                          0.0003306776895
                        ]
                      },
                      {
                        "passed_time": 2.670496677,
                        "iteration": 316,
                        "remaining_time": 5.753783061,
                        "learn": [
                          0.000330675983
                        ]
                      },
                      {
                        "passed_time": 2.677906456,
                        "iteration": 317,
                        "remaining_time": 5.743183029,
                        "learn": [
                          0.0003306748212
                        ]
                      },
                      {
                        "passed_time": 2.684999903,
                        "iteration": 318,
                        "remaining_time": 5.731927693,
                        "learn": [
                          0.0003306737102
                        ]
                      },
                      {
                        "passed_time": 2.692506462,
                        "iteration": 319,
                        "remaining_time": 5.721576231,
                        "learn": [
                          0.00033067184
                        ]
                      },
                      {
                        "passed_time": 2.699975315,
                        "iteration": 320,
                        "remaining_time": 5.711162738,
                        "learn": [
                          0.0003306684544
                        ]
                      },
                      {
                        "passed_time": 2.707100759,
                        "iteration": 321,
                        "remaining_time": 5.700044455,
                        "learn": [
                          0.0003306638511
                        ]
                      },
                      {
                        "passed_time": 2.714198718,
                        "iteration": 322,
                        "remaining_time": 5.688893289,
                        "learn": [
                          0.0003306586102
                        ]
                      },
                      {
                        "passed_time": 2.721489614,
                        "iteration": 323,
                        "remaining_time": 5.678169688,
                        "learn": [
                          0.0003306578168
                        ]
                      },
                      {
                        "passed_time": 2.728468911,
                        "iteration": 324,
                        "remaining_time": 5.666820045,
                        "learn": [
                          0.0003306566504
                        ]
                      },
                      {
                        "passed_time": 2.735370646,
                        "iteration": 325,
                        "remaining_time": 5.655336857,
                        "learn": [
                          0.0003306532556
                        ]
                      },
                      {
                        "passed_time": 2.742412281,
                        "iteration": 326,
                        "remaining_time": 5.644169618,
                        "learn": [
                          0.0003306498687
                        ]
                      },
                      {
                        "passed_time": 2.74984831,
                        "iteration": 327,
                        "remaining_time": 5.633835562,
                        "learn": [
                          0.0003306484384
                        ]
                      },
                      {
                        "passed_time": 2.756737403,
                        "iteration": 328,
                        "remaining_time": 5.622403639,
                        "learn": [
                          0.0003306462863
                        ]
                      },
                      {
                        "passed_time": 2.763961727,
                        "iteration": 329,
                        "remaining_time": 5.611679869,
                        "learn": [
                          0.0003306456619
                        ]
                      },
                      {
                        "passed_time": 2.772021003,
                        "iteration": 330,
                        "remaining_time": 5.602664806,
                        "learn": [
                          0.0003306451684
                        ]
                      },
                      {
                        "passed_time": 2.779143939,
                        "iteration": 331,
                        "remaining_time": 5.591771539,
                        "learn": [
                          0.000330644584
                        ]
                      },
                      {
                        "passed_time": 2.785572412,
                        "iteration": 332,
                        "remaining_time": 5.579509906,
                        "learn": [
                          0.000330644584
                        ]
                      },
                      {
                        "passed_time": 2.792623767,
                        "iteration": 333,
                        "remaining_time": 5.568525235,
                        "learn": [
                          0.000330643425
                        ]
                      },
                      {
                        "passed_time": 2.800033931,
                        "iteration": 334,
                        "remaining_time": 5.55827631,
                        "learn": [
                          0.0003306413321
                        ]
                      },
                      {
                        "passed_time": 2.807976598,
                        "iteration": 335,
                        "remaining_time": 5.54909661,
                        "learn": [
                          0.0003306408679
                        ]
                      },
                      {
                        "passed_time": 2.816591313,
                        "iteration": 336,
                        "remaining_time": 5.541246412,
                        "learn": [
                          0.0003306408679
                        ]
                      },
                      {
                        "passed_time": 2.824725302,
                        "iteration": 337,
                        "remaining_time": 5.532450148,
                        "learn": [
                          0.0003306403679
                        ]
                      },
                      {
                        "passed_time": 2.832502308,
                        "iteration": 338,
                        "remaining_time": 5.522961726,
                        "learn": [
                          0.0003306382639
                        ]
                      },
                      {
                        "passed_time": 2.839360162,
                        "iteration": 339,
                        "remaining_time": 5.511699139,
                        "learn": [
                          0.0003306382639
                        ]
                      },
                      {
                        "passed_time": 2.846189429,
                        "iteration": 340,
                        "remaining_time": 5.500407136,
                        "learn": [
                          0.000330636761
                        ]
                      },
                      {
                        "passed_time": 2.852982507,
                        "iteration": 341,
                        "remaining_time": 5.489071607,
                        "learn": [
                          0.0003306351193
                        ]
                      },
                      {
                        "passed_time": 2.859812821,
                        "iteration": 342,
                        "remaining_time": 5.477833888,
                        "learn": [
                          0.0003306351193
                        ]
                      },
                      {
                        "passed_time": 2.866827287,
                        "iteration": 343,
                        "remaining_time": 5.466972966,
                        "learn": [
                          0.0003306328195
                        ]
                      },
                      {
                        "passed_time": 2.873983456,
                        "iteration": 344,
                        "remaining_time": 5.456403373,
                        "learn": [
                          0.0003306320436
                        ]
                      },
                      {
                        "passed_time": 2.88186158,
                        "iteration": 345,
                        "remaining_time": 5.447218131,
                        "learn": [
                          0.0003306307919
                        ]
                      },
                      {
                        "passed_time": 2.888900039,
                        "iteration": 346,
                        "remaining_time": 5.436460304,
                        "learn": [
                          0.0003306265172
                        ]
                      },
                      {
                        "passed_time": 2.895876081,
                        "iteration": 347,
                        "remaining_time": 5.425606911,
                        "learn": [
                          0.0003306247481
                        ]
                      },
                      {
                        "passed_time": 2.903057963,
                        "iteration": 348,
                        "remaining_time": 5.415159697,
                        "learn": [
                          0.0003306240066
                        ]
                      },
                      {
                        "passed_time": 2.909992823,
                        "iteration": 349,
                        "remaining_time": 5.404272385,
                        "learn": [
                          0.0003306240066
                        ]
                      },
                      {
                        "passed_time": 2.917823686,
                        "iteration": 350,
                        "remaining_time": 5.395064308,
                        "learn": [
                          0.0003263115414
                        ]
                      },
                      {
                        "passed_time": 2.925067641,
                        "iteration": 351,
                        "remaining_time": 5.384783611,
                        "learn": [
                          0.0003263115414
                        ]
                      },
                      {
                        "passed_time": 2.932640745,
                        "iteration": 352,
                        "remaining_time": 5.375123405,
                        "learn": [
                          0.0003263084182
                        ]
                      },
                      {
                        "passed_time": 2.942666867,
                        "iteration": 353,
                        "remaining_time": 5.369951401,
                        "learn": [
                          0.0003263084182
                        ]
                      },
                      {
                        "passed_time": 2.954373853,
                        "iteration": 354,
                        "remaining_time": 5.367806014,
                        "learn": [
                          0.0003263044134
                        ]
                      },
                      {
                        "passed_time": 2.961293883,
                        "iteration": 355,
                        "remaining_time": 5.356947361,
                        "learn": [
                          0.0003263034181
                        ]
                      },
                      {
                        "passed_time": 2.983687235,
                        "iteration": 356,
                        "remaining_time": 5.37398009,
                        "learn": [
                          0.000326302681
                        ]
                      },
                      {
                        "passed_time": 3.006192025,
                        "iteration": 357,
                        "remaining_time": 5.390992402,
                        "learn": [
                          0.0003262990199
                        ]
                      },
                      {
                        "passed_time": 3.013365361,
                        "iteration": 358,
                        "remaining_time": 5.380410018,
                        "learn": [
                          0.0003262981382
                        ]
                      },
                      {
                        "passed_time": 3.020493625,
                        "iteration": 359,
                        "remaining_time": 5.369766444,
                        "learn": [
                          0.0003262958547
                        ]
                      },
                      {
                        "passed_time": 3.027280324,
                        "iteration": 360,
                        "remaining_time": 5.358537748,
                        "learn": [
                          0.0003262918674
                        ]
                      },
                      {
                        "passed_time": 3.034195084,
                        "iteration": 361,
                        "remaining_time": 5.347559291,
                        "learn": [
                          0.0003262905786
                        ]
                      },
                      {
                        "passed_time": 3.04131377,
                        "iteration": 362,
                        "remaining_time": 5.336961078,
                        "learn": [
                          0.0003262889954
                        ]
                      },
                      {
                        "passed_time": 3.048439961,
                        "iteration": 363,
                        "remaining_time": 5.326395097,
                        "learn": [
                          0.0003262822386
                        ]
                      },
                      {
                        "passed_time": 3.055267943,
                        "iteration": 364,
                        "remaining_time": 5.315329161,
                        "learn": [
                          0.0003262806983
                        ]
                      },
                      {
                        "passed_time": 3.062266218,
                        "iteration": 365,
                        "remaining_time": 5.304581373,
                        "learn": [
                          0.0003262799015
                        ]
                      },
                      {
                        "passed_time": 3.06980427,
                        "iteration": 366,
                        "remaining_time": 5.294785022,
                        "learn": [
                          0.0003262784466
                        ]
                      },
                      {
                        "passed_time": 3.076944595,
                        "iteration": 367,
                        "remaining_time": 5.284317892,
                        "learn": [
                          0.0003262765473
                        ]
                      },
                      {
                        "passed_time": 3.084472017,
                        "iteration": 368,
                        "remaining_time": 5.27453074,
                        "learn": [
                          0.0003262739604
                        ]
                      },
                      {
                        "passed_time": 3.092163858,
                        "iteration": 369,
                        "remaining_time": 5.265035759,
                        "learn": [
                          0.0003262724986
                        ]
                      },
                      {
                        "passed_time": 3.099279267,
                        "iteration": 370,
                        "remaining_time": 5.254573205,
                        "learn": [
                          0.0003262692834
                        ]
                      },
                      {
                        "passed_time": 3.106836994,
                        "iteration": 371,
                        "remaining_time": 5.244875355,
                        "learn": [
                          0.0003262682522
                        ]
                      },
                      {
                        "passed_time": 3.114318815,
                        "iteration": 372,
                        "remaining_time": 5.235061386,
                        "learn": [
                          0.0003262673822
                        ]
                      },
                      {
                        "passed_time": 3.122289267,
                        "iteration": 373,
                        "remaining_time": 5.226077758,
                        "learn": [
                          0.0003262628929
                        ]
                      },
                      {
                        "passed_time": 3.129315635,
                        "iteration": 374,
                        "remaining_time": 5.215526058,
                        "learn": [
                          0.000326259689
                        ]
                      },
                      {
                        "passed_time": 3.13595214,
                        "iteration": 375,
                        "remaining_time": 5.204346104,
                        "learn": [
                          0.0003262587171
                        ]
                      },
                      {
                        "passed_time": 3.142560655,
                        "iteration": 376,
                        "remaining_time": 5.193144001,
                        "learn": [
                          0.0003262574606
                        ]
                      },
                      {
                        "passed_time": 3.149606123,
                        "iteration": 377,
                        "remaining_time": 5.182685207,
                        "learn": [
                          0.0003262558424
                        ]
                      },
                      {
                        "passed_time": 3.156564506,
                        "iteration": 378,
                        "remaining_time": 5.172101737,
                        "learn": [
                          0.000326253944
                        ]
                      },
                      {
                        "passed_time": 3.163325791,
                        "iteration": 379,
                        "remaining_time": 5.161215764,
                        "learn": [
                          0.0003262494412
                        ]
                      },
                      {
                        "passed_time": 3.170341212,
                        "iteration": 380,
                        "remaining_time": 5.150764332,
                        "learn": [
                          0.0003262446021
                        ]
                      },
                      {
                        "passed_time": 3.177940869,
                        "iteration": 381,
                        "remaining_time": 5.141276066,
                        "learn": [
                          0.0003262439414
                        ]
                      },
                      {
                        "passed_time": 3.185859902,
                        "iteration": 382,
                        "remaining_time": 5.132312166,
                        "learn": [
                          0.0003262413441
                        ]
                      },
                      {
                        "passed_time": 3.19292353,
                        "iteration": 383,
                        "remaining_time": 5.121981495,
                        "learn": [
                          0.0003262377918
                        ]
                      },
                      {
                        "passed_time": 3.199583898,
                        "iteration": 384,
                        "remaining_time": 5.11102363,
                        "learn": [
                          0.0003262365771
                        ]
                      },
                      {
                        "passed_time": 3.206719382,
                        "iteration": 385,
                        "remaining_time": 5.100843784,
                        "learn": [
                          0.000326234335
                        ]
                      },
                      {
                        "passed_time": 3.213176183,
                        "iteration": 386,
                        "remaining_time": 5.089604652,
                        "learn": [
                          0.000326234335
                        ]
                      },
                      {
                        "passed_time": 3.220070536,
                        "iteration": 387,
                        "remaining_time": 5.07908033,
                        "learn": [
                          0.0003262270916
                        ]
                      },
                      {
                        "passed_time": 3.227206674,
                        "iteration": 388,
                        "remaining_time": 5.068954441,
                        "learn": [
                          0.0003262211516
                        ]
                      },
                      {
                        "passed_time": 3.234185371,
                        "iteration": 389,
                        "remaining_time": 5.058597631,
                        "learn": [
                          0.0003262199859
                        ]
                      },
                      {
                        "passed_time": 3.241210477,
                        "iteration": 390,
                        "remaining_time": 5.048330385,
                        "learn": [
                          0.0003262161773
                        ]
                      },
                      {
                        "passed_time": 3.249214848,
                        "iteration": 391,
                        "remaining_time": 5.03959854,
                        "learn": [
                          0.0003262086693
                        ]
                      },
                      {
                        "passed_time": 3.256814282,
                        "iteration": 392,
                        "remaining_time": 5.03024496,
                        "learn": [
                          0.0003262080101
                        ]
                      },
                      {
                        "passed_time": 3.264348543,
                        "iteration": 393,
                        "remaining_time": 5.020800044,
                        "learn": [
                          0.000326205764
                        ]
                      },
                      {
                        "passed_time": 3.272070779,
                        "iteration": 394,
                        "remaining_time": 5.011652711,
                        "learn": [
                          0.0003262046601
                        ]
                      },
                      {
                        "passed_time": 3.278933295,
                        "iteration": 395,
                        "remaining_time": 5.001201288,
                        "learn": [
                          0.0003262037027
                        ]
                      },
                      {
                        "passed_time": 3.285691893,
                        "iteration": 396,
                        "remaining_time": 4.990610104,
                        "learn": [
                          0.0003262018679
                        ]
                      },
                      {
                        "passed_time": 3.292521138,
                        "iteration": 397,
                        "remaining_time": 4.980145037,
                        "learn": [
                          0.0003262002036
                        ]
                      },
                      {
                        "passed_time": 3.299449648,
                        "iteration": 398,
                        "remaining_time": 4.969847715,
                        "learn": [
                          0.0003262002036
                        ]
                      },
                      {
                        "passed_time": 3.307220926,
                        "iteration": 399,
                        "remaining_time": 4.960831389,
                        "learn": [
                          0.0003261979732
                        ]
                      },
                      {
                        "passed_time": 3.316928933,
                        "iteration": 400,
                        "remaining_time": 4.954714291,
                        "learn": [
                          0.0003261973699
                        ]
                      },
                      {
                        "passed_time": 3.3239856,
                        "iteration": 401,
                        "remaining_time": 4.944635295,
                        "learn": [
                          0.0003261973699
                        ]
                      },
                      {
                        "passed_time": 3.330712414,
                        "iteration": 402,
                        "remaining_time": 4.934082658,
                        "learn": [
                          0.0003261958911
                        ]
                      },
                      {
                        "passed_time": 3.337081318,
                        "iteration": 403,
                        "remaining_time": 4.923020954,
                        "learn": [
                          0.0003261948911
                        ]
                      },
                      {
                        "passed_time": 3.343680129,
                        "iteration": 404,
                        "remaining_time": 4.91232019,
                        "learn": [
                          0.0003261937293
                        ]
                      },
                      {
                        "passed_time": 3.35045364,
                        "iteration": 405,
                        "remaining_time": 4.901895227,
                        "learn": [
                          0.0003261877102
                        ]
                      },
                      {
                        "passed_time": 3.357479559,
                        "iteration": 406,
                        "remaining_time": 4.891855967,
                        "learn": [
                          0.0003261862797
                        ]
                      },
                      {
                        "passed_time": 3.366021217,
                        "iteration": 407,
                        "remaining_time": 4.884030786,
                        "learn": [
                          0.0003261856963
                        ]
                      },
                      {
                        "passed_time": 3.37510043,
                        "iteration": 408,
                        "remaining_time": 4.876978861,
                        "learn": [
                          0.0003261839227
                        ]
                      },
                      {
                        "passed_time": 3.382276467,
                        "iteration": 409,
                        "remaining_time": 4.867178331,
                        "learn": [
                          0.0003261815672
                        ]
                      },
                      {
                        "passed_time": 3.389088564,
                        "iteration": 410,
                        "remaining_time": 4.856869012,
                        "learn": [
                          0.0003261796933
                        ]
                      },
                      {
                        "passed_time": 3.395947403,
                        "iteration": 411,
                        "remaining_time": 4.846643382,
                        "learn": [
                          0.000326174842
                        ]
                      },
                      {
                        "passed_time": 3.403003685,
                        "iteration": 412,
                        "remaining_time": 4.83671468,
                        "learn": [
                          0.0003261735933
                        ]
                      },
                      {
                        "passed_time": 3.40991531,
                        "iteration": 413,
                        "remaining_time": 4.826595101,
                        "learn": [
                          0.0003261735933
                        ]
                      },
                      {
                        "passed_time": 3.416612637,
                        "iteration": 414,
                        "remaining_time": 4.816188898,
                        "learn": [
                          0.0003261735933
                        ]
                      },
                      {
                        "passed_time": 3.423341896,
                        "iteration": 415,
                        "remaining_time": 4.805845354,
                        "learn": [
                          0.0003261651167
                        ]
                      },
                      {
                        "passed_time": 3.430102576,
                        "iteration": 416,
                        "remaining_time": 4.795563074,
                        "learn": [
                          0.0003261624195
                        ]
                      },
                      {
                        "passed_time": 3.43758506,
                        "iteration": 417,
                        "remaining_time": 4.786302643,
                        "learn": [
                          0.0003261600694
                        ]
                      },
                      {
                        "passed_time": 3.455435188,
                        "iteration": 418,
                        "remaining_time": 4.791426836,
                        "learn": [
                          0.0003261563351
                        ]
                      },
                      {
                        "passed_time": 3.471842422,
                        "iteration": 419,
                        "remaining_time": 4.794449059,
                        "learn": [
                          0.0003261536596
                        ]
                      },
                      {
                        "passed_time": 3.491621369,
                        "iteration": 420,
                        "remaining_time": 4.802016087,
                        "learn": [
                          0.0003261536596
                        ]
                      },
                      {
                        "passed_time": 3.499142648,
                        "iteration": 421,
                        "remaining_time": 4.792664574,
                        "learn": [
                          0.0003261524819
                        ]
                      },
                      {
                        "passed_time": 3.507571233,
                        "iteration": 422,
                        "remaining_time": 4.784559341,
                        "learn": [
                          0.0003219953344
                        ]
                      },
                      {
                        "passed_time": 3.514925751,
                        "iteration": 423,
                        "remaining_time": 4.774993473,
                        "learn": [
                          0.0003219944446
                        ]
                      },
                      {
                        "passed_time": 3.522167051,
                        "iteration": 424,
                        "remaining_time": 4.765284834,
                        "learn": [
                          0.0003219922951
                        ]
                      },
                      {
                        "passed_time": 3.528883643,
                        "iteration": 425,
                        "remaining_time": 4.754880778,
                        "learn": [
                          0.0003219915528
                        ]
                      },
                      {
                        "passed_time": 3.535715014,
                        "iteration": 426,
                        "remaining_time": 4.744648017,
                        "learn": [
                          0.0003219909291
                        ]
                      },
                      {
                        "passed_time": 3.542598342,
                        "iteration": 427,
                        "remaining_time": 4.734500588,
                        "learn": [
                          0.0003219903525
                        ]
                      },
                      {
                        "passed_time": 3.549138874,
                        "iteration": 428,
                        "remaining_time": 4.723912114,
                        "learn": [
                          0.0003219897833
                        ]
                      },
                      {
                        "passed_time": 3.555892353,
                        "iteration": 429,
                        "remaining_time": 4.713624747,
                        "learn": [
                          0.0003219874596
                        ]
                      },
                      {
                        "passed_time": 3.562768681,
                        "iteration": 430,
                        "remaining_time": 4.703515962,
                        "learn": [
                          0.0003219850562
                        ]
                      },
                      {
                        "passed_time": 3.569279367,
                        "iteration": 431,
                        "remaining_time": 4.69294139,
                        "learn": [
                          0.0003219836364
                        ]
                      },
                      {
                        "passed_time": 3.576413338,
                        "iteration": 432,
                        "remaining_time": 4.683201761,
                        "learn": [
                          0.0003219836364
                        ]
                      },
                      {
                        "passed_time": 3.583324457,
                        "iteration": 433,
                        "remaining_time": 4.673183509,
                        "learn": [
                          0.0003219814801
                        ]
                      },
                      {
                        "passed_time": 3.590216111,
                        "iteration": 434,
                        "remaining_time": 4.663154259,
                        "learn": [
                          0.0003219814801
                        ]
                      },
                      {
                        "passed_time": 3.597061119,
                        "iteration": 435,
                        "remaining_time": 4.653079063,
                        "learn": [
                          0.000321979678
                        ]
                      },
                      {
                        "passed_time": 3.604053054,
                        "iteration": 436,
                        "remaining_time": 4.643207939,
                        "learn": [
                          0.0003219785356
                        ]
                      },
                      {
                        "passed_time": 3.610998781,
                        "iteration": 437,
                        "remaining_time": 4.633290673,
                        "learn": [
                          0.0003219762524
                        ]
                      },
                      {
                        "passed_time": 3.618576487,
                        "iteration": 438,
                        "remaining_time": 4.624194554,
                        "learn": [
                          0.0003219746324
                        ]
                      },
                      {
                        "passed_time": 3.627834712,
                        "iteration": 439,
                        "remaining_time": 4.617244179,
                        "learn": [
                          0.0003219691112
                        ]
                      },
                      {
                        "passed_time": 3.637934794,
                        "iteration": 440,
                        "remaining_time": 4.611350453,
                        "learn": [
                          0.0003219691112
                        ]
                      },
                      {
                        "passed_time": 3.64648452,
                        "iteration": 441,
                        "remaining_time": 4.603480457,
                        "learn": [
                          0.0003219685266
                        ]
                      },
                      {
                        "passed_time": 3.653323272,
                        "iteration": 442,
                        "remaining_time": 4.593456122,
                        "learn": [
                          0.0003219685266
                        ]
                      },
                      {
                        "passed_time": 3.66029386,
                        "iteration": 443,
                        "remaining_time": 4.583611229,
                        "learn": [
                          0.0003219660316
                        ]
                      },
                      {
                        "passed_time": 3.668431392,
                        "iteration": 444,
                        "remaining_time": 4.575234658,
                        "learn": [
                          0.000321964642
                        ]
                      },
                      {
                        "passed_time": 3.675816874,
                        "iteration": 445,
                        "remaining_time": 4.565924996,
                        "learn": [
                          0.000321964642
                        ]
                      },
                      {
                        "passed_time": 3.683436891,
                        "iteration": 446,
                        "remaining_time": 4.556914096,
                        "learn": [
                          0.0003219640785
                        ]
                      },
                      {
                        "passed_time": 3.691018009,
                        "iteration": 447,
                        "remaining_time": 4.547861475,
                        "learn": [
                          0.0003219626227
                        ]
                      },
                      {
                        "passed_time": 3.69867811,
                        "iteration": 448,
                        "remaining_time": 4.538912336,
                        "learn": [
                          0.000321961406
                        ]
                      },
                      {
                        "passed_time": 3.706150629,
                        "iteration": 449,
                        "remaining_time": 4.529739657,
                        "learn": [
                          0.0003219607645
                        ]
                      },
                      {
                        "passed_time": 3.712867401,
                        "iteration": 450,
                        "remaining_time": 4.519654552,
                        "learn": [
                          0.0003219585634
                        ]
                      },
                      {
                        "passed_time": 3.719780699,
                        "iteration": 451,
                        "remaining_time": 4.509822617,
                        "learn": [
                          0.0003219563747
                        ]
                      },
                      {
                        "passed_time": 3.726203357,
                        "iteration": 452,
                        "remaining_time": 4.499411118,
                        "learn": [
                          0.0003219557683
                        ]
                      },
                      {
                        "passed_time": 3.732970117,
                        "iteration": 453,
                        "remaining_time": 4.489431022,
                        "learn": [
                          0.0003219551822
                        ]
                      },
                      {
                        "passed_time": 3.73976698,
                        "iteration": 454,
                        "remaining_time": 4.479501108,
                        "learn": [
                          0.0003219488776
                        ]
                      },
                      {
                        "passed_time": 3.746570003,
                        "iteration": 455,
                        "remaining_time": 4.469592284,
                        "learn": [
                          0.0003219488776
                        ]
                      },
                      {
                        "passed_time": 3.753784632,
                        "iteration": 456,
                        "remaining_time": 4.460186116,
                        "learn": [
                          0.0003219488776
                        ]
                      },
                      {
                        "passed_time": 3.760963748,
                        "iteration": 457,
                        "remaining_time": 4.450747492,
                        "learn": [
                          0.0003219469176
                        ]
                      },
                      {
                        "passed_time": 3.767839835,
                        "iteration": 458,
                        "remaining_time": 4.440961549,
                        "learn": [
                          0.000321939711
                        ]
                      },
                      {
                        "passed_time": 3.774584612,
                        "iteration": 459,
                        "remaining_time": 4.43103411,
                        "learn": [
                          0.0003219387993
                        ]
                      },
                      {
                        "passed_time": 3.781968859,
                        "iteration": 460,
                        "remaining_time": 4.421868146,
                        "learn": [
                          0.000321937382
                        ]
                      },
                      {
                        "passed_time": 3.788982393,
                        "iteration": 461,
                        "remaining_time": 4.412278197,
                        "learn": [
                          0.0003219359925
                        ]
                      },
                      {
                        "passed_time": 3.795985455,
                        "iteration": 462,
                        "remaining_time": 4.402687234,
                        "learn": [
                          0.0003219329335
                        ]
                      },
                      {
                        "passed_time": 3.802883575,
                        "iteration": 463,
                        "remaining_time": 4.392986199,
                        "learn": [
                          0.0003219323814
                        ]
                      },
                      {
                        "passed_time": 3.810339723,
                        "iteration": 464,
                        "remaining_time": 4.383939252,
                        "learn": [
                          0.0003179830912
                        ]
                      },
                      {
                        "passed_time": 3.817301425,
                        "iteration": 465,
                        "remaining_time": 4.374332534,
                        "learn": [
                          0.0003179796349
                        ]
                      },
                      {
                        "passed_time": 3.825308386,
                        "iteration": 466,
                        "remaining_time": 4.365930128,
                        "learn": [
                          0.0003179796349
                        ]
                      },
                      {
                        "passed_time": 3.83285711,
                        "iteration": 467,
                        "remaining_time": 4.35700851,
                        "learn": [
                          0.0003179790856
                        ]
                      },
                      {
                        "passed_time": 3.839803458,
                        "iteration": 468,
                        "remaining_time": 4.347410738,
                        "learn": [
                          0.0003179778165
                        ]
                      },
                      {
                        "passed_time": 3.845889322,
                        "iteration": 469,
                        "remaining_time": 4.336853916,
                        "learn": [
                          0.000317976932
                        ]
                      },
                      {
                        "passed_time": 3.854223827,
                        "iteration": 470,
                        "remaining_time": 4.328841624,
                        "learn": [
                          0.000314203739
                        ]
                      },
                      {
                        "passed_time": 3.861125829,
                        "iteration": 471,
                        "remaining_time": 4.319225504,
                        "learn": [
                          0.000314203016
                        ]
                      },
                      {
                        "passed_time": 3.868106319,
                        "iteration": 472,
                        "remaining_time": 4.309708309,
                        "learn": [
                          0.0003141988059
                        ]
                      },
                      {
                        "passed_time": 3.874368822,
                        "iteration": 473,
                        "remaining_time": 4.299405065,
                        "learn": [
                          0.000314197727
                        ]
                      },
                      {
                        "passed_time": 3.881288186,
                        "iteration": 474,
                        "remaining_time": 4.289844837,
                        "learn": [
                          0.000314197216
                        ]
                      },
                      {
                        "passed_time": 3.888313164,
                        "iteration": 475,
                        "remaining_time": 4.280411971,
                        "learn": [
                          0.0003141944781
                        ]
                      },
                      {
                        "passed_time": 3.89507786,
                        "iteration": 476,
                        "remaining_time": 4.270703817,
                        "learn": [
                          0.00031419233
                        ]
                      },
                      {
                        "passed_time": 3.901761048,
                        "iteration": 477,
                        "remaining_time": 4.260918969,
                        "learn": [
                          0.000314191252
                        ]
                      },
                      {
                        "passed_time": 3.90853785,
                        "iteration": 478,
                        "remaining_time": 4.251248893,
                        "learn": [
                          0.0003141851125
                        ]
                      },
                      {
                        "passed_time": 3.915377334,
                        "iteration": 479,
                        "remaining_time": 4.241658779,
                        "learn": [
                          0.0003141816639
                        ]
                      },
                      {
                        "passed_time": 3.922642104,
                        "iteration": 480,
                        "remaining_time": 4.232538986,
                        "learn": [
                          0.000314180797
                        ]
                      },
                      {
                        "passed_time": 3.929575319,
                        "iteration": 481,
                        "remaining_time": 4.223070571,
                        "learn": [
                          0.0003141800688
                        ]
                      },
                      {
                        "passed_time": 3.936578098,
                        "iteration": 482,
                        "remaining_time": 4.213687115,
                        "learn": [
                          0.0003141793308
                        ]
                      },
                      {
                        "passed_time": 3.947958371,
                        "iteration": 483,
                        "remaining_time": 4.208980412,
                        "learn": [
                          0.0003141759338
                        ]
                      },
                      {
                        "passed_time": 3.958246304,
                        "iteration": 484,
                        "remaining_time": 4.203086282,
                        "learn": [
                          0.0003141759338
                        ]
                      },
                      {
                        "passed_time": 3.989579123,
                        "iteration": 485,
                        "remaining_time": 4.219431418,
                        "learn": [
                          0.0003141747835
                        ]
                      },
                      {
                        "passed_time": 4.013743909,
                        "iteration": 486,
                        "remaining_time": 4.228030031,
                        "learn": [
                          0.0003141734405
                        ]
                      },
                      {
                        "passed_time": 4.022089179,
                        "iteration": 487,
                        "remaining_time": 4.219896844,
                        "learn": [
                          0.0003141720671
                        ]
                      },
                      {
                        "passed_time": 4.029496591,
                        "iteration": 488,
                        "remaining_time": 4.210782736,
                        "learn": [
                          0.0003141707142
                        ]
                      },
                      {
                        "passed_time": 4.038017507,
                        "iteration": 489,
                        "remaining_time": 4.202834548,
                        "learn": [
                          0.0003141686302
                        ]
                      },
                      {
                        "passed_time": 4.046825363,
                        "iteration": 490,
                        "remaining_time": 4.195181486,
                        "learn": [
                          0.0003141652817
                        ]
                      },
                      {
                        "passed_time": 4.055007579,
                        "iteration": 491,
                        "remaining_time": 4.186877744,
                        "learn": [
                          0.0003141642541
                        ]
                      },
                      {
                        "passed_time": 4.063357726,
                        "iteration": 492,
                        "remaining_time": 4.178747195,
                        "learn": [
                          0.0003141608922
                        ]
                      },
                      {
                        "passed_time": 4.070187962,
                        "iteration": 493,
                        "remaining_time": 4.169058925,
                        "learn": [
                          0.0003141552914
                        ]
                      },
                      {
                        "passed_time": 4.077493264,
                        "iteration": 494,
                        "remaining_time": 4.159866866,
                        "learn": [
                          0.0003141509319
                        ]
                      },
                      {
                        "passed_time": 4.08533381,
                        "iteration": 495,
                        "remaining_time": 4.151226291,
                        "learn": [
                          0.0003141504241
                        ]
                      },
                      {
                        "passed_time": 4.092411871,
                        "iteration": 496,
                        "remaining_time": 4.141817246,
                        "learn": [
                          0.0003141504241
                        ]
                      },
                      {
                        "passed_time": 4.099440077,
                        "iteration": 497,
                        "remaining_time": 4.132367307,
                        "learn": [
                          0.0003141487581
                        ]
                      },
                      {
                        "passed_time": 4.106893864,
                        "iteration": 498,
                        "remaining_time": 4.123354361,
                        "learn": [
                          0.0003141487581
                        ]
                      },
                      {
                        "passed_time": 4.114346198,
                        "iteration": 499,
                        "remaining_time": 4.114346198,
                        "learn": [
                          0.0003141479369
                        ]
                      },
                      {
                        "passed_time": 4.121104579,
                        "iteration": 500,
                        "remaining_time": 4.104653064,
                        "learn": [
                          0.0003141457714
                        ]
                      },
                      {
                        "passed_time": 4.12830868,
                        "iteration": 501,
                        "remaining_time": 4.09541379,
                        "learn": [
                          0.0003141452557
                        ]
                      },
                      {
                        "passed_time": 4.135306816,
                        "iteration": 502,
                        "remaining_time": 4.085979101,
                        "learn": [
                          0.0003141419078
                        ]
                      },
                      {
                        "passed_time": 4.142265892,
                        "iteration": 503,
                        "remaining_time": 4.076515639,
                        "learn": [
                          0.0003141419078
                        ]
                      },
                      {
                        "passed_time": 4.14911048,
                        "iteration": 504,
                        "remaining_time": 4.066949876,
                        "learn": [
                          0.0003141384603
                        ]
                      },
                      {
                        "passed_time": 4.155750374,
                        "iteration": 505,
                        "remaining_time": 4.057195029,
                        "learn": [
                          0.0003141351247
                        ]
                      },
                      {
                        "passed_time": 4.162979674,
                        "iteration": 506,
                        "remaining_time": 4.0480256,
                        "learn": [
                          0.0003141340996
                        ]
                      },
                      {
                        "passed_time": 4.171037862,
                        "iteration": 507,
                        "remaining_time": 4.039666591,
                        "learn": [
                          0.0003141332639
                        ]
                      },
                      {
                        "passed_time": 4.1774774,
                        "iteration": 508,
                        "remaining_time": 4.029747354,
                        "learn": [
                          0.0003141324288
                        ]
                      },
                      {
                        "passed_time": 4.184474666,
                        "iteration": 509,
                        "remaining_time": 4.02037762,
                        "learn": [
                          0.0003141315931
                        ]
                      },
                      {
                        "passed_time": 4.191060118,
                        "iteration": 510,
                        "remaining_time": 4.010623088,
                        "learn": [
                          0.0003141315931
                        ]
                      },
                      {
                        "passed_time": 4.19794279,
                        "iteration": 511,
                        "remaining_time": 4.001164221,
                        "learn": [
                          0.0003141307581
                        ]
                      },
                      {
                        "passed_time": 4.204651447,
                        "iteration": 512,
                        "remaining_time": 3.991550204,
                        "learn": [
                          0.0003141307581
                        ]
                      },
                      {
                        "passed_time": 4.213110655,
                        "iteration": 513,
                        "remaining_time": 3.983602681,
                        "learn": [
                          0.0003141290923
                        ]
                      },
                      {
                        "passed_time": 4.22032429,
                        "iteration": 514,
                        "remaining_time": 3.974480157,
                        "learn": [
                          0.0003141282573
                        ]
                      },
                      {
                        "passed_time": 4.231150172,
                        "iteration": 515,
                        "remaining_time": 3.968753262,
                        "learn": [
                          0.0003141275873
                        ]
                      },
                      {
                        "passed_time": 4.238457127,
                        "iteration": 516,
                        "remaining_time": 3.959719134,
                        "learn": [
                          0.000314125387
                        ]
                      },
                      {
                        "passed_time": 4.24523213,
                        "iteration": 517,
                        "remaining_time": 3.950196693,
                        "learn": [
                          0.0003141220396
                        ]
                      },
                      {
                        "passed_time": 4.251579195,
                        "iteration": 518,
                        "remaining_time": 3.940288233,
                        "learn": [
                          0.0003141199551
                        ]
                      },
                      {
                        "passed_time": 4.258669033,
                        "iteration": 519,
                        "remaining_time": 3.931079108,
                        "learn": [
                          0.0003141166079
                        ]
                      },
                      {
                        "passed_time": 4.265568972,
                        "iteration": 520,
                        "remaining_time": 3.921703527,
                        "learn": [
                          0.000314114951
                        ]
                      },
                      {
                        "passed_time": 4.271751364,
                        "iteration": 521,
                        "remaining_time": 3.911680368,
                        "learn": [
                          0.000314111604
                        ]
                      },
                      {
                        "passed_time": 4.279189099,
                        "iteration": 522,
                        "remaining_time": 3.902816826,
                        "learn": [
                          0.000314111604
                        ]
                      },
                      {
                        "passed_time": 4.28604499,
                        "iteration": 523,
                        "remaining_time": 3.893430182,
                        "learn": [
                          0.000314108257
                        ]
                      },
                      {
                        "passed_time": 4.292859732,
                        "iteration": 524,
                        "remaining_time": 3.884015948,
                        "learn": [
                          0.000314108257
                        ]
                      },
                      {
                        "passed_time": 4.299513517,
                        "iteration": 525,
                        "remaining_time": 3.874466553,
                        "learn": [
                          0.0003141074214
                        ]
                      },
                      {
                        "passed_time": 4.306632552,
                        "iteration": 526,
                        "remaining_time": 3.865345725,
                        "learn": [
                          0.0003141065865
                        ]
                      },
                      {
                        "passed_time": 4.31325903,
                        "iteration": 527,
                        "remaining_time": 3.855792163,
                        "learn": [
                          0.000314105751
                        ]
                      },
                      {
                        "passed_time": 4.321088567,
                        "iteration": 528,
                        "remaining_time": 3.847320822,
                        "learn": [
                          0.0003141049155
                        ]
                      },
                      {
                        "passed_time": 4.32801602,
                        "iteration": 529,
                        "remaining_time": 3.838051942,
                        "learn": [
                          0.0003141032574
                        ]
                      },
                      {
                        "passed_time": 4.334251407,
                        "iteration": 530,
                        "remaining_time": 3.828180621,
                        "learn": [
                          0.0003141032574
                        ]
                      },
                      {
                        "passed_time": 4.34048556,
                        "iteration": 531,
                        "remaining_time": 3.818321883,
                        "learn": [
                          0.0003140999107
                        ]
                      },
                      {
                        "passed_time": 4.347209925,
                        "iteration": 532,
                        "remaining_time": 3.808906257,
                        "learn": [
                          0.000314096576
                        ]
                      },
                      {
                        "passed_time": 4.353382555,
                        "iteration": 533,
                        "remaining_time": 3.799019234,
                        "learn": [
                          0.000314096576
                        ]
                      },
                      {
                        "passed_time": 4.360589436,
                        "iteration": 534,
                        "remaining_time": 3.790045024,
                        "learn": [
                          0.0003140932415
                        ]
                      },
                      {
                        "passed_time": 4.367941019,
                        "iteration": 535,
                        "remaining_time": 3.781202673,
                        "learn": [
                          0.0003140892647
                        ]
                      },
                      {
                        "passed_time": 4.37524035,
                        "iteration": 536,
                        "remaining_time": 3.772320823,
                        "learn": [
                          0.0003140836203
                        ]
                      },
                      {
                        "passed_time": 4.383594686,
                        "iteration": 537,
                        "remaining_time": 3.764350827,
                        "learn": [
                          0.00031408157
                        ]
                      },
                      {
                        "passed_time": 4.390486828,
                        "iteration": 538,
                        "remaining_time": 3.755128809,
                        "learn": [
                          0.0003140807346
                        ]
                      },
                      {
                        "passed_time": 4.396929366,
                        "iteration": 539,
                        "remaining_time": 3.745532423,
                        "learn": [
                          0.0003140798999
                        ]
                      },
                      {
                        "passed_time": 4.404320876,
                        "iteration": 540,
                        "remaining_time": 3.736752832,
                        "learn": [
                          0.0003140765537
                        ]
                      },
                      {
                        "passed_time": 4.411095517,
                        "iteration": 541,
                        "remaining_time": 3.727457098,
                        "learn": [
                          0.000314075719
                        ]
                      },
                      {
                        "passed_time": 4.417972552,
                        "iteration": 542,
                        "remaining_time": 3.718256825,
                        "learn": [
                          0.0003140722734
                        ]
                      },
                      {
                        "passed_time": 4.425461255,
                        "iteration": 543,
                        "remaining_time": 3.709577817,
                        "learn": [
                          0.0003140701864
                        ]
                      },
                      {
                        "passed_time": 4.432058408,
                        "iteration": 544,
                        "remaining_time": 3.700158855,
                        "learn": [
                          0.0003140693511
                        ]
                      },
                      {
                        "passed_time": 4.439588248,
                        "iteration": 545,
                        "remaining_time": 3.691525759,
                        "learn": [
                          0.0003140652278
                        ]
                      },
                      {
                        "passed_time": 4.446541623,
                        "iteration": 546,
                        "remaining_time": 3.682419296,
                        "learn": [
                          0.0003140585682
                        ]
                      },
                      {
                        "passed_time": 4.453970547,
                        "iteration": 547,
                        "remaining_time": 3.673712933,
                        "learn": [
                          0.0003140577329
                        ]
                      },
                      {
                        "passed_time": 4.461083028,
                        "iteration": 548,
                        "remaining_time": 3.664751267,
                        "learn": [
                          0.0003140543874
                        ]
                      },
                      {
                        "passed_time": 4.467313607,
                        "iteration": 549,
                        "remaining_time": 3.655074769,
                        "learn": [
                          0.0003140510539
                        ]
                      },
                      {
                        "passed_time": 4.475171094,
                        "iteration": 550,
                        "remaining_time": 3.646736518,
                        "learn": [
                          0.0003140510539
                        ]
                      },
                      {
                        "passed_time": 4.483655286,
                        "iteration": 551,
                        "remaining_time": 3.638908638,
                        "learn": [
                          0.0003140477085
                        ]
                      },
                      {
                        "passed_time": 4.490742934,
                        "iteration": 552,
                        "remaining_time": 3.629949532,
                        "learn": [
                          0.0003140466846
                        ]
                      },
                      {
                        "passed_time": 4.497493853,
                        "iteration": 553,
                        "remaining_time": 3.620726098,
                        "learn": [
                          0.0003140458494
                        ]
                      },
                      {
                        "passed_time": 4.504117738,
                        "iteration": 554,
                        "remaining_time": 3.611409718,
                        "learn": [
                          0.0003140425349
                        ]
                      },
                      {
                        "passed_time": 4.510831837,
                        "iteration": 555,
                        "remaining_time": 3.602175064,
                        "learn": [
                          0.0003140391897
                        ]
                      },
                      {
                        "passed_time": 4.517453023,
                        "iteration": 556,
                        "remaining_time": 3.592875564,
                        "learn": [
                          0.000314032561
                        ]
                      },
                      {
                        "passed_time": 4.523656936,
                        "iteration": 557,
                        "remaining_time": 3.583255136,
                        "learn": [
                          0.000314032561
                        ]
                      },
                      {
                        "passed_time": 4.530595513,
                        "iteration": 558,
                        "remaining_time": 3.574226514,
                        "learn": [
                          0.0003140315267
                        ]
                      },
                      {
                        "passed_time": 4.537420777,
                        "iteration": 559,
                        "remaining_time": 3.565116325,
                        "learn": [
                          0.0003140274046
                        ]
                      },
                      {
                        "passed_time": 4.543786284,
                        "iteration": 560,
                        "remaining_time": 3.555654508,
                        "learn": [
                          0.0003140207244
                        ]
                      },
                      {
                        "passed_time": 4.551903714,
                        "iteration": 561,
                        "remaining_time": 3.547569087,
                        "learn": [
                          0.0003140173798
                        ]
                      },
                      {
                        "passed_time": 4.558190998,
                        "iteration": 562,
                        "remaining_time": 3.538062995,
                        "learn": [
                          0.0003140140473
                        ]
                      },
                      {
                        "passed_time": 4.564360667,
                        "iteration": 563,
                        "remaining_time": 3.528477395,
                        "learn": [
                          0.0003140074199
                        ]
                      },
                      {
                        "passed_time": 4.570820638,
                        "iteration": 564,
                        "remaining_time": 3.519127394,
                        "learn": [
                          0.0003140040757
                        ]
                      },
                      {
                        "passed_time": 4.577172379,
                        "iteration": 565,
                        "remaining_time": 3.509704616,
                        "learn": [
                          0.0003140030416
                        ]
                      },
                      {
                        "passed_time": 4.584074187,
                        "iteration": 566,
                        "remaining_time": 3.500712739,
                        "learn": [
                          0.0003139964148
                        ]
                      },
                      {
                        "passed_time": 4.59042022,
                        "iteration": 567,
                        "remaining_time": 3.49130552,
                        "learn": [
                          0.0003139922937
                        ]
                      },
                      {
                        "passed_time": 4.598867815,
                        "iteration": 568,
                        "remaining_time": 3.483500928,
                        "learn": [
                          0.0003139856379
                        ]
                      },
                      {
                        "passed_time": 4.604934698,
                        "iteration": 569,
                        "remaining_time": 3.473898105,
                        "learn": [
                          0.0003139822942
                        ]
                      },
                      {
                        "passed_time": 4.611596393,
                        "iteration": 570,
                        "remaining_time": 3.464754558,
                        "learn": [
                          0.0003139812749
                        ]
                      },
                      {
                        "passed_time": 4.617853186,
                        "iteration": 571,
                        "remaining_time": 3.45531672,
                        "learn": [
                          0.0003139745972
                        ]
                      },
                      {
                        "passed_time": 4.624062236,
                        "iteration": 572,
                        "remaining_time": 3.445854406,
                        "learn": [
                          0.0003139712658
                        ]
                      },
                      {
                        "passed_time": 4.630357543,
                        "iteration": 573,
                        "remaining_time": 3.436467445,
                        "learn": [
                          0.0003139671455
                        ]
                      },
                      {
                        "passed_time": 4.637724122,
                        "iteration": 574,
                        "remaining_time": 3.427883047,
                        "learn": [
                          0.0003139638023
                        ]
                      },
                      {
                        "passed_time": 4.644013374,
                        "iteration": 575,
                        "remaining_time": 3.418509845,
                        "learn": [
                          0.0003139571255
                        ]
                      },
                      {
                        "passed_time": 4.651352934,
                        "iteration": 576,
                        "remaining_time": 3.409917315,
                        "learn": [
                          0.0003139504491
                        ]
                      },
                      {
                        "passed_time": 4.658253035,
                        "iteration": 577,
                        "remaining_time": 3.401008271,
                        "learn": [
                          0.0003139471245
                        ]
                      },
                      {
                        "passed_time": 4.664620181,
                        "iteration": 578,
                        "remaining_time": 3.391718646,
                        "learn": [
                          0.0003139437939
                        ]
                      },
                      {
                        "passed_time": 4.671337955,
                        "iteration": 579,
                        "remaining_time": 3.382693002,
                        "learn": [
                          0.0003139421305
                        ]
                      },
                      {
                        "passed_time": 4.677483398,
                        "iteration": 580,
                        "remaining_time": 3.373262554,
                        "learn": [
                          0.000313941107
                        ]
                      },
                      {
                        "passed_time": 4.684757355,
                        "iteration": 581,
                        "remaining_time": 3.364653908,
                        "learn": [
                          0.0003139344313
                        ]
                      },
                      {
                        "passed_time": 4.691069322,
                        "iteration": 582,
                        "remaining_time": 3.355361762,
                        "learn": [
                          0.0003139277561
                        ]
                      },
                      {
                        "passed_time": 4.697534211,
                        "iteration": 583,
                        "remaining_time": 3.346188753,
                        "learn": [
                          0.0003139267226
                        ]
                      },
                      {
                        "passed_time": 4.704428324,
                        "iteration": 584,
                        "remaining_time": 3.337329495,
                        "learn": [
                          0.0003139225928
                        ]
                      },
                      {
                        "passed_time": 4.71137334,
                        "iteration": 585,
                        "remaining_time": 3.328512906,
                        "learn": [
                          0.0003139225928
                        ]
                      },
                      {
                        "passed_time": 4.717694416,
                        "iteration": 586,
                        "remaining_time": 3.319263703,
                        "learn": [
                          0.000313919269
                        ]
                      },
                      {
                        "passed_time": 4.724558442,
                        "iteration": 587,
                        "remaining_time": 3.310404895,
                        "learn": [
                          0.0003139159453
                        ]
                      },
                      {
                        "passed_time": 4.73073671,
                        "iteration": 588,
                        "remaining_time": 3.301074343,
                        "learn": [
                          0.000313909271
                        ]
                      },
                      {
                        "passed_time": 4.736824114,
                        "iteration": 589,
                        "remaining_time": 3.291691333,
                        "learn": [
                          0.000313902597
                        ]
                      },
                      {
                        "passed_time": 4.743584582,
                        "iteration": 590,
                        "remaining_time": 3.282785269,
                        "learn": [
                          0.000313901768
                        ]
                      },
                      {
                        "passed_time": 4.749714004,
                        "iteration": 591,
                        "remaining_time": 3.273451543,
                        "learn": [
                          0.0003138950944
                        ]
                      },
                      {
                        "passed_time": 4.756618127,
                        "iteration": 592,
                        "remaining_time": 3.264660333,
                        "learn": [
                          0.0003138934298
                        ]
                      },
                      {
                        "passed_time": 4.767305101,
                        "iteration": 593,
                        "remaining_time": 3.258461062,
                        "learn": [
                          0.0003138917671
                        ]
                      },
                      {
                        "passed_time": 4.774638731,
                        "iteration": 594,
                        "remaining_time": 3.249964178,
                        "learn": [
                          0.0003138897027
                        ]
                      },
                      {
                        "passed_time": 4.782357664,
                        "iteration": 595,
                        "remaining_time": 3.241732376,
                        "learn": [
                          0.0003138830298
                        ]
                      },
                      {
                        "passed_time": 4.789468841,
                        "iteration": 596,
                        "remaining_time": 3.233092032,
                        "learn": [
                          0.0003138813653
                        ]
                      },
                      {
                        "passed_time": 4.795976626,
                        "iteration": 597,
                        "remaining_time": 3.224051177,
                        "learn": [
                          0.0003138797028
                        ]
                      },
                      {
                        "passed_time": 4.802389586,
                        "iteration": 598,
                        "remaining_time": 3.214955299,
                        "learn": [
                          0.0003138797028
                        ]
                      },
                      {
                        "passed_time": 4.809317183,
                        "iteration": 599,
                        "remaining_time": 3.206211455,
                        "learn": [
                          0.0003138788675
                        ]
                      },
                      {
                        "passed_time": 4.815988816,
                        "iteration": 600,
                        "remaining_time": 3.197303723,
                        "learn": [
                          0.000313877205
                        ]
                      },
                      {
                        "passed_time": 4.822966698,
                        "iteration": 601,
                        "remaining_time": 3.18860589,
                        "learn": [
                          0.000313877205
                        ]
                      },
                      {
                        "passed_time": 4.82915942,
                        "iteration": 602,
                        "remaining_time": 3.179396832,
                        "learn": [
                          0.0003138755406
                        ]
                      },
                      {
                        "passed_time": 4.835974401,
                        "iteration": 603,
                        "remaining_time": 3.170605733,
                        "learn": [
                          0.0003138747054
                        ]
                      },
                      {
                        "passed_time": 4.842636055,
                        "iteration": 604,
                        "remaining_time": 3.161721061,
                        "learn": [
                          0.000313873041
                        ]
                      },
                      {
                        "passed_time": 4.849788991,
                        "iteration": 605,
                        "remaining_time": 3.153163139,
                        "learn": [
                          0.0003138663961
                        ]
                      },
                      {
                        "passed_time": 4.857589127,
                        "iteration": 606,
                        "remaining_time": 3.145028874,
                        "learn": [
                          0.0003138655621
                        ]
                      },
                      {
                        "passed_time": 4.863855016,
                        "iteration": 607,
                        "remaining_time": 3.135906524,
                        "learn": [
                          0.0003138647281
                        ]
                      },
                      {
                        "passed_time": 4.870115875,
                        "iteration": 608,
                        "remaining_time": 3.126790324,
                        "learn": [
                          0.0003138630602
                        ]
                      },
                      {
                        "passed_time": 4.876132233,
                        "iteration": 609,
                        "remaining_time": 3.117527165,
                        "learn": [
                          0.0003138622263
                        ]
                      },
                      {
                        "passed_time": 4.882243741,
                        "iteration": 610,
                        "remaining_time": 3.108335213,
                        "learn": [
                          0.0003138613923
                        ]
                      },
                      {
                        "passed_time": 4.888437189,
                        "iteration": 611,
                        "remaining_time": 3.099205277,
                        "learn": [
                          0.0003138597281
                        ]
                      },
                      {
                        "passed_time": 4.894473712,
                        "iteration": 612,
                        "remaining_time": 3.089985851,
                        "learn": [
                          0.0003138588942
                        ]
                      },
                      {
                        "passed_time": 4.900767154,
                        "iteration": 613,
                        "remaining_time": 3.080938309,
                        "learn": [
                          0.0003138580602
                        ]
                      },
                      {
                        "passed_time": 4.908134709,
                        "iteration": 614,
                        "remaining_time": 3.072572135,
                        "learn": [
                          0.0003138572263
                        ]
                      },
                      {
                        "passed_time": 4.914313906,
                        "iteration": 615,
                        "remaining_time": 3.063468409,
                        "learn": [
                          0.0003138563924
                        ]
                      },
                      {
                        "passed_time": 4.920455215,
                        "iteration": 616,
                        "remaining_time": 3.054350644,
                        "learn": [
                          0.0003138555585
                        ]
                      },
                      {
                        "passed_time": 4.927115508,
                        "iteration": 617,
                        "remaining_time": 3.045563307,
                        "learn": [
                          0.0003138547246
                        ]
                      },
                      {
                        "passed_time": 4.933435731,
                        "iteration": 618,
                        "remaining_time": 3.036573528,
                        "learn": [
                          0.0003138538907
                        ]
                      },
                      {
                        "passed_time": 4.943976523,
                        "iteration": 619,
                        "remaining_time": 3.030179159,
                        "learn": [
                          0.0003138530568
                        ]
                      },
                      {
                        "passed_time": 4.95672862,
                        "iteration": 620,
                        "remaining_time": 3.02512101,
                        "learn": [
                          0.0003138513927
                        ]
                      },
                      {
                        "passed_time": 4.963036966,
                        "iteration": 621,
                        "remaining_time": 3.016122143,
                        "learn": [
                          0.0003138505589
                        ]
                      },
                      {
                        "passed_time": 4.969559941,
                        "iteration": 622,
                        "remaining_time": 3.007261794,
                        "learn": [
                          0.000313849725
                        ]
                      },
                      {
                        "passed_time": 5.00519243,
                        "iteration": 623,
                        "remaining_time": 3.015949284,
                        "learn": [
                          0.0003138488911
                        ]
                      },
                      {
                        "passed_time": 5.020361243,
                        "iteration": 624,
                        "remaining_time": 3.012216746,
                        "learn": [
                          0.0003138472271
                        ]
                      },
                      {
                        "passed_time": 5.033229727,
                        "iteration": 625,
                        "remaining_time": 3.007073351,
                        "learn": [
                          0.0003138463932
                        ]
                      },
                      {
                        "passed_time": 5.039680402,
                        "iteration": 626,
                        "remaining_time": 2.998087384,
                        "learn": [
                          0.0003138455594
                        ]
                      },
                      {
                        "passed_time": 5.04967827,
                        "iteration": 627,
                        "remaining_time": 2.991210695,
                        "learn": [
                          0.0003138447256
                        ]
                      },
                      {
                        "passed_time": 5.058849923,
                        "iteration": 628,
                        "remaining_time": 2.983836759,
                        "learn": [
                          0.0003138430616
                        ]
                      },
                      {
                        "passed_time": 5.065218736,
                        "iteration": 629,
                        "remaining_time": 2.974811004,
                        "learn": [
                          0.0003138422277
                        ]
                      },
                      {
                        "passed_time": 5.071772705,
                        "iteration": 630,
                        "remaining_time": 2.965901946,
                        "learn": [
                          0.0003138405601
                        ]
                      },
                      {
                        "passed_time": 5.078158109,
                        "iteration": 631,
                        "remaining_time": 2.95690219,
                        "learn": [
                          0.0003138397263
                        ]
                      },
                      {
                        "passed_time": 5.084590109,
                        "iteration": 632,
                        "remaining_time": 2.947937709,
                        "learn": [
                          0.0003138388925
                        ]
                      },
                      {
                        "passed_time": 5.091122714,
                        "iteration": 633,
                        "remaining_time": 2.939039296,
                        "learn": [
                          0.000313837225
                        ]
                      },
                      {
                        "passed_time": 5.097890805,
                        "iteration": 634,
                        "remaining_time": 2.930283691,
                        "learn": [
                          0.0003138355611
                        ]
                      },
                      {
                        "passed_time": 5.104337003,
                        "iteration": 635,
                        "remaining_time": 2.921350109,
                        "learn": [
                          0.0003138347273
                        ]
                      },
                      {
                        "passed_time": 5.110871751,
                        "iteration": 636,
                        "remaining_time": 2.912474797,
                        "learn": [
                          0.0003138338935
                        ]
                      },
                      {
                        "passed_time": 5.117696341,
                        "iteration": 637,
                        "remaining_time": 2.903771278,
                        "learn": [
                          0.0003138322297
                        ]
                      },
                      {
                        "passed_time": 5.124095939,
                        "iteration": 638,
                        "remaining_time": 2.894833543,
                        "learn": [
                          0.0003138313959
                        ]
                      },
                      {
                        "passed_time": 5.130654697,
                        "iteration": 639,
                        "remaining_time": 2.885993267,
                        "learn": [
                          0.0003138305622
                        ]
                      },
                      {
                        "passed_time": 5.13723257,
                        "iteration": 640,
                        "remaining_time": 2.877170815,
                        "learn": [
                          0.0003138288984
                        ]
                      },
                      {
                        "passed_time": 5.147472443,
                        "iteration": 641,
                        "remaining_time": 2.870397406,
                        "learn": [
                          0.0003138280647
                        ]
                      },
                      {
                        "passed_time": 5.154751406,
                        "iteration": 642,
                        "remaining_time": 2.861969288,
                        "learn": [
                          0.0003138264009
                        ]
                      },
                      {
                        "passed_time": 5.1611969,
                        "iteration": 643,
                        "remaining_time": 2.853084,
                        "learn": [
                          0.0003138247371
                        ]
                      },
                      {
                        "passed_time": 5.16766683,
                        "iteration": 644,
                        "remaining_time": 2.844219728,
                        "learn": [
                          0.0003138239034
                        ]
                      },
                      {
                        "passed_time": 5.173938181,
                        "iteration": 645,
                        "remaining_time": 2.83525405,
                        "learn": [
                          0.0003138230697
                        ]
                      },
                      {
                        "passed_time": 5.180870555,
                        "iteration": 646,
                        "remaining_time": 2.826657351,
                        "learn": [
                          0.0003138214024
                        ]
                      },
                      {
                        "passed_time": 5.187819024,
                        "iteration": 647,
                        "remaining_time": 2.818074532,
                        "learn": [
                          0.0003138205687
                        ]
                      },
                      {
                        "passed_time": 5.194763245,
                        "iteration": 648,
                        "remaining_time": 2.809494451,
                        "learn": [
                          0.000313819735
                        ]
                      },
                      {
                        "passed_time": 5.201936876,
                        "iteration": 649,
                        "remaining_time": 2.801042933,
                        "learn": [
                          0.0003138180714
                        ]
                      },
                      {
                        "passed_time": 5.208483152,
                        "iteration": 650,
                        "remaining_time": 2.792259017,
                        "learn": [
                          0.0003138172377
                        ]
                      },
                      {
                        "passed_time": 5.215219885,
                        "iteration": 651,
                        "remaining_time": 2.783583619,
                        "learn": [
                          0.0003138164041
                        ]
                      },
                      {
                        "passed_time": 5.221648363,
                        "iteration": 652,
                        "remaining_time": 2.774750355,
                        "learn": [
                          0.0003138155704
                        ]
                      },
                      {
                        "passed_time": 5.227807652,
                        "iteration": 653,
                        "remaining_time": 2.76578203,
                        "learn": [
                          0.0003138147368
                        ]
                      },
                      {
                        "passed_time": 5.233893298,
                        "iteration": 654,
                        "remaining_time": 2.756783493,
                        "learn": [
                          0.0003138139032
                        ]
                      },
                      {
                        "passed_time": 5.239990285,
                        "iteration": 655,
                        "remaining_time": 2.747799783,
                        "learn": [
                          0.0003138130695
                        ]
                      },
                      {
                        "passed_time": 5.246279451,
                        "iteration": 656,
                        "remaining_time": 2.738925193,
                        "learn": [
                          0.0003138114059
                        ]
                      },
                      {
                        "passed_time": 5.252530941,
                        "iteration": 657,
                        "remaining_time": 2.730038878,
                        "learn": [
                          0.0003138105723
                        ]
                      },
                      {
                        "passed_time": 5.258685635,
                        "iteration": 658,
                        "remaining_time": 2.721110473,
                        "learn": [
                          0.0003138097387
                        ]
                      },
                      {
                        "passed_time": 5.264791688,
                        "iteration": 659,
                        "remaining_time": 2.712165415,
                        "learn": [
                          0.0003138089051
                        ]
                      },
                      {
                        "passed_time": 5.271017655,
                        "iteration": 660,
                        "remaining_time": 2.703290446,
                        "learn": [
                          0.000313807238
                        ]
                      },
                      {
                        "passed_time": 5.277106976,
                        "iteration": 661,
                        "remaining_time": 2.694353713,
                        "learn": [
                          0.0003138064044
                        ]
                      },
                      {
                        "passed_time": 5.283215709,
                        "iteration": 662,
                        "remaining_time": 2.685435436,
                        "learn": [
                          0.0003138047372
                        ]
                      },
                      {
                        "passed_time": 5.289422516,
                        "iteration": 663,
                        "remaining_time": 2.676575249,
                        "learn": [
                          0.0003138039037
                        ]
                      },
                      {
                        "passed_time": 5.29566545,
                        "iteration": 664,
                        "remaining_time": 2.667741242,
                        "learn": [
                          0.0003138030701
                        ]
                      },
                      {
                        "passed_time": 5.301779076,
                        "iteration": 665,
                        "remaining_time": 2.658850167,
                        "learn": [
                          0.0003138022366
                        ]
                      },
                      {
                        "passed_time": 5.30831903,
                        "iteration": 666,
                        "remaining_time": 2.650180265,
                        "learn": [
                          0.000313801403
                        ]
                      },
                      {
                        "passed_time": 5.314438091,
                        "iteration": 667,
                        "remaining_time": 2.641307554,
                        "learn": [
                          0.0003138005695
                        ]
                      },
                      {
                        "passed_time": 5.320528826,
                        "iteration": 668,
                        "remaining_time": 2.63242906,
                        "learn": [
                          0.0003137997359
                        ]
                      },
                      {
                        "passed_time": 5.327182059,
                        "iteration": 669,
                        "remaining_time": 2.623835939,
                        "learn": [
                          0.0003137989024
                        ]
                      },
                      {
                        "passed_time": 5.333455375,
                        "iteration": 670,
                        "remaining_time": 2.615062322,
                        "learn": [
                          0.0003137980689
                        ]
                      },
                      {
                        "passed_time": 5.339972556,
                        "iteration": 671,
                        "remaining_time": 2.606415176,
                        "learn": [
                          0.0003137972354
                        ]
                      },
                      {
                        "passed_time": 5.346856645,
                        "iteration": 672,
                        "remaining_time": 2.597952634,
                        "learn": [
                          0.0003137964019
                        ]
                      },
                      {
                        "passed_time": 5.353122402,
                        "iteration": 673,
                        "remaining_time": 2.589195702,
                        "learn": [
                          0.0003137955684
                        ]
                      },
                      {
                        "passed_time": 5.359638905,
                        "iteration": 674,
                        "remaining_time": 2.58056688,
                        "learn": [
                          0.0003137947349
                        ]
                      },
                      {
                        "passed_time": 5.366839134,
                        "iteration": 675,
                        "remaining_time": 2.572272011,
                        "learn": [
                          0.0003137939014
                        ]
                      },
                      {
                        "passed_time": 5.373716492,
                        "iteration": 676,
                        "remaining_time": 2.563826332,
                        "learn": [
                          0.0003137922344
                        ]
                      },
                      {
                        "passed_time": 5.382897491,
                        "iteration": 677,
                        "remaining_time": 2.556479339,
                        "learn": [
                          0.0003137914009
                        ]
                      },
                      {
                        "passed_time": 5.391228521,
                        "iteration": 678,
                        "remaining_time": 2.548725118,
                        "learn": [
                          0.0003137905674
                        ]
                      },
                      {
                        "passed_time": 5.397710462,
                        "iteration": 679,
                        "remaining_time": 2.540099041,
                        "learn": [
                          0.000313789734
                        ]
                      },
                      {
                        "passed_time": 5.40456361,
                        "iteration": 680,
                        "remaining_time": 2.531653145,
                        "learn": [
                          0.0003137889005
                        ]
                      },
                      {
                        "passed_time": 5.411223304,
                        "iteration": 681,
                        "remaining_time": 2.523121716,
                        "learn": [
                          0.000313788067
                        ]
                      },
                      {
                        "passed_time": 5.417503781,
                        "iteration": 682,
                        "remaining_time": 2.514419764,
                        "learn": [
                          0.0003137864001
                        ]
                      },
                      {
                        "passed_time": 5.423707529,
                        "iteration": 683,
                        "remaining_time": 2.505689443,
                        "learn": [
                          0.0003137855667
                        ]
                      },
                      {
                        "passed_time": 5.430054961,
                        "iteration": 684,
                        "remaining_time": 2.497032573,
                        "learn": [
                          0.0003137847332
                        ]
                      },
                      {
                        "passed_time": 5.436220933,
                        "iteration": 685,
                        "remaining_time": 2.488299378,
                        "learn": [
                          0.0003137838998
                        ]
                      },
                      {
                        "passed_time": 5.442881819,
                        "iteration": 686,
                        "remaining_time": 2.47979914,
                        "learn": [
                          0.0003137830664
                        ]
                      },
                      {
                        "passed_time": 5.449413516,
                        "iteration": 687,
                        "remaining_time": 2.471245664,
                        "learn": [
                          0.000313782233
                        ]
                      },
                      {
                        "passed_time": 5.455941134,
                        "iteration": 688,
                        "remaining_time": 2.462696216,
                        "learn": [
                          0.0003137813996
                        ]
                      },
                      {
                        "passed_time": 5.462783141,
                        "iteration": 689,
                        "remaining_time": 2.454293875,
                        "learn": [
                          0.0003137805662
                        ]
                      },
                      {
                        "passed_time": 5.469136011,
                        "iteration": 690,
                        "remaining_time": 2.445677319,
                        "learn": [
                          0.0003137788993
                        ]
                      },
                      {
                        "passed_time": 5.475216479,
                        "iteration": 691,
                        "remaining_time": 2.436946063,
                        "learn": [
                          0.000313778066
                        ]
                      },
                      {
                        "passed_time": 5.481324869,
                        "iteration": 692,
                        "remaining_time": 2.428234827,
                        "learn": [
                          0.0003137772326
                        ]
                      },
                      {
                        "passed_time": 5.487548389,
                        "iteration": 693,
                        "remaining_time": 2.419581855,
                        "learn": [
                          0.0003137763992
                        ]
                      },
                      {
                        "passed_time": 5.493695551,
                        "iteration": 694,
                        "remaining_time": 2.410902364,
                        "learn": [
                          0.0003137755658
                        ]
                      },
                      {
                        "passed_time": 5.499856418,
                        "iteration": 695,
                        "remaining_time": 2.402236137,
                        "learn": [
                          0.0003137747324
                        ]
                      },
                      {
                        "passed_time": 5.505981238,
                        "iteration": 696,
                        "remaining_time": 2.393561428,
                        "learn": [
                          0.0003137738991
                        ]
                      },
                      {
                        "passed_time": 5.512189728,
                        "iteration": 697,
                        "remaining_time": 2.384930226,
                        "learn": [
                          0.0003137730657
                        ]
                      },
                      {
                        "passed_time": 5.518259908,
                        "iteration": 698,
                        "remaining_time": 2.376246398,
                        "learn": [
                          0.0003137722324
                        ]
                      },
                      {
                        "passed_time": 5.524436096,
                        "iteration": 699,
                        "remaining_time": 2.36761547,
                        "learn": [
                          0.000313771399
                        ]
                      },
                      {
                        "passed_time": 5.530525861,
                        "iteration": 700,
                        "remaining_time": 2.358954683,
                        "learn": [
                          0.0003137705657
                        ]
                      },
                      {
                        "passed_time": 5.536699112,
                        "iteration": 701,
                        "remaining_time": 2.35033666,
                        "learn": [
                          0.000313768899
                        ]
                      },
                      {
                        "passed_time": 5.54284284,
                        "iteration": 702,
                        "remaining_time": 2.34171312,
                        "learn": [
                          0.0003137680657
                        ]
                      },
                      {
                        "passed_time": 5.549122068,
                        "iteration": 703,
                        "remaining_time": 2.333153597,
                        "learn": [
                          0.0003137672324
                        ]
                      },
                      {
                        "passed_time": 5.555384781,
                        "iteration": 704,
                        "remaining_time": 2.324593632,
                        "learn": [
                          0.0003137655657
                        ]
                      },
                      {
                        "passed_time": 5.561532988,
                        "iteration": 705,
                        "remaining_time": 2.315992491,
                        "learn": [
                          0.0003137647324
                        ]
                      },
                      {
                        "passed_time": 5.567682859,
                        "iteration": 706,
                        "remaining_time": 2.307398978,
                        "learn": [
                          0.0003137638991
                        ]
                      },
                      {
                        "passed_time": 5.574130885,
                        "iteration": 707,
                        "remaining_time": 2.298935337,
                        "learn": [
                          0.0003137630658
                        ]
                      },
                      {
                        "passed_time": 5.58074559,
                        "iteration": 708,
                        "remaining_time": 2.290545792,
                        "learn": [
                          0.0003137622326
                        ]
                      },
                      {
                        "passed_time": 5.58714277,
                        "iteration": 709,
                        "remaining_time": 2.282072399,
                        "learn": [
                          0.0003137613993
                        ]
                      },
                      {
                        "passed_time": 5.593337514,
                        "iteration": 710,
                        "remaining_time": 2.273522562,
                        "learn": [
                          0.000313760566
                        ]
                      },
                      {
                        "passed_time": 5.599592484,
                        "iteration": 711,
                        "remaining_time": 2.265003702,
                        "learn": [
                          0.0003137597327
                        ]
                      },
                      {
                        "passed_time": 5.605696104,
                        "iteration": 712,
                        "remaining_time": 2.256430269,
                        "learn": [
                          0.0003137588995
                        ]
                      },
                      {
                        "passed_time": 5.612006986,
                        "iteration": 713,
                        "remaining_time": 2.247946776,
                        "learn": [
                          0.0003137580662
                        ]
                      },
                      {
                        "passed_time": 5.618811351,
                        "iteration": 714,
                        "remaining_time": 2.239666063,
                        "learn": [
                          0.0003137572329
                        ]
                      },
                      {
                        "passed_time": 5.624894082,
                        "iteration": 715,
                        "remaining_time": 2.231103239,
                        "learn": [
                          0.0003137555665
                        ]
                      },
                      {
                        "passed_time": 5.631086869,
                        "iteration": 716,
                        "remaining_time": 2.222590772,
                        "learn": [
                          0.0003137539
                        ]
                      },
                      {
                        "passed_time": 5.637099262,
                        "iteration": 717,
                        "remaining_time": 2.214013916,
                        "learn": [
                          0.0003137530668
                        ]
                      },
                      {
                        "passed_time": 5.643310441,
                        "iteration": 718,
                        "remaining_time": 2.205521883,
                        "learn": [
                          0.0003137522335
                        ]
                      },
                      {
                        "passed_time": 5.649440166,
                        "iteration": 719,
                        "remaining_time": 2.197004509,
                        "learn": [
                          0.0003137514003
                        ]
                      },
                      {
                        "passed_time": 5.65548718,
                        "iteration": 720,
                        "remaining_time": 2.188461752,
                        "learn": [
                          0.0003137505671
                        ]
                      },
                      {
                        "passed_time": 5.661624434,
                        "iteration": 721,
                        "remaining_time": 2.179960655,
                        "learn": [
                          0.0003137497339
                        ]
                      },
                      {
                        "passed_time": 5.6676759,
                        "iteration": 722,
                        "remaining_time": 2.171433229,
                        "learn": [
                          0.0003137489007
                        ]
                      },
                      {
                        "passed_time": 5.673676905,
                        "iteration": 723,
                        "remaining_time": 2.162893406,
                        "learn": [
                          0.0003137480675
                        ]
                      },
                      {
                        "passed_time": 5.679812868,
                        "iteration": 724,
                        "remaining_time": 2.154411777,
                        "learn": [
                          0.0003137472343
                        ]
                      },
                      {
                        "passed_time": 5.685939368,
                        "iteration": 725,
                        "remaining_time": 2.14593304,
                        "learn": [
                          0.0003137464011
                        ]
                      },
                      {
                        "passed_time": 5.692046221,
                        "iteration": 726,
                        "remaining_time": 2.137453395,
                        "learn": [
                          0.0003137447348
                        ]
                      },
                      {
                        "passed_time": 5.698178618,
                        "iteration": 727,
                        "remaining_time": 2.128989813,
                        "learn": [
                          0.0003137430685
                        ]
                      },
                      {
                        "passed_time": 5.704470571,
                        "iteration": 728,
                        "remaining_time": 2.120591941,
                        "learn": [
                          0.0003137422353
                        ]
                      },
                      {
                        "passed_time": 5.710590289,
                        "iteration": 729,
                        "remaining_time": 2.112136134,
                        "learn": [
                          0.0003137414022
                        ]
                      },
                      {
                        "passed_time": 5.716647234,
                        "iteration": 730,
                        "remaining_time": 2.10366362,
                        "learn": [
                          0.000313740569
                        ]
                      },
                      {
                        "passed_time": 5.722804753,
                        "iteration": 731,
                        "remaining_time": 2.095234527,
                        "learn": [
                          0.0003137397359
                        ]
                      },
                      {
                        "passed_time": 5.729005112,
                        "iteration": 732,
                        "remaining_time": 2.086827237,
                        "learn": [
                          0.0003137389027
                        ]
                      },
                      {
                        "passed_time": 5.735162048,
                        "iteration": 733,
                        "remaining_time": 2.078410225,
                        "learn": [
                          0.0003137380696
                        ]
                      },
                      {
                        "passed_time": 5.743141385,
                        "iteration": 734,
                        "remaining_time": 2.070656418,
                        "learn": [
                          0.0003137372365
                        ]
                      },
                      {
                        "passed_time": 5.749132692,
                        "iteration": 735,
                        "remaining_time": 2.0621889,
                        "learn": [
                          0.0003137364034
                        ]
                      },
                      {
                        "passed_time": 5.755352622,
                        "iteration": 736,
                        "remaining_time": 2.053809687,
                        "learn": [
                          0.0003137355703
                        ]
                      },
                      {
                        "passed_time": 5.761379954,
                        "iteration": 737,
                        "remaining_time": 2.045367951,
                        "learn": [
                          0.0003137347372
                        ]
                      },
                      {
                        "passed_time": 5.767538705,
                        "iteration": 738,
                        "remaining_time": 2.036979164,
                        "learn": [
                          0.000313733071
                        ]
                      },
                      {
                        "passed_time": 5.773777678,
                        "iteration": 739,
                        "remaining_time": 2.028624589,
                        "learn": [
                          0.0003137322379
                        ]
                      },
                      {
                        "passed_time": 5.779850615,
                        "iteration": 740,
                        "remaining_time": 2.020217691,
                        "learn": [
                          0.0003137314048
                        ]
                      },
                      {
                        "passed_time": 5.785966557,
                        "iteration": 741,
                        "remaining_time": 2.011832037,
                        "learn": [
                          0.0003137297386
                        ]
                      },
                      {
                        "passed_time": 5.792069085,
                        "iteration": 742,
                        "remaining_time": 2.003447853,
                        "learn": [
                          0.0003137289056
                        ]
                      },
                      {
                        "passed_time": 5.798173058,
                        "iteration": 743,
                        "remaining_time": 1.9950703,
                        "learn": [
                          0.0003137280725
                        ]
                      },
                      {
                        "passed_time": 5.804287475,
                        "iteration": 744,
                        "remaining_time": 1.986702424,
                        "learn": [
                          0.0003137264064
                        ]
                      },
                      {
                        "passed_time": 5.811081312,
                        "iteration": 745,
                        "remaining_time": 1.978571921,
                        "learn": [
                          0.0003137247403
                        ]
                      },
                      {
                        "passed_time": 5.818026815,
                        "iteration": 746,
                        "remaining_time": 1.970496364,
                        "learn": [
                          0.0003137230743
                        ]
                      },
                      {
                        "passed_time": 5.827194197,
                        "iteration": 747,
                        "remaining_time": 1.963172377,
                        "learn": [
                          0.0003137222412
                        ]
                      },
                      {
                        "passed_time": 5.83770048,
                        "iteration": 748,
                        "remaining_time": 1.95629215,
                        "learn": [
                          0.0003137205752
                        ]
                      },
                      {
                        "passed_time": 5.84725687,
                        "iteration": 749,
                        "remaining_time": 1.949085623,
                        "learn": [
                          0.0003137197422
                        ]
                      },
                      {
                        "passed_time": 5.85418041,
                        "iteration": 750,
                        "remaining_time": 1.940999896,
                        "learn": [
                          0.0003137180762
                        ]
                      },
                      {
                        "passed_time": 5.860655744,
                        "iteration": 751,
                        "remaining_time": 1.932769448,
                        "learn": [
                          0.0003137172432
                        ]
                      },
                      {
                        "passed_time": 5.867256519,
                        "iteration": 752,
                        "remaining_time": 1.924584808,
                        "learn": [
                          0.0003137155773
                        ]
                      },
                      {
                        "passed_time": 5.874066517,
                        "iteration": 753,
                        "remaining_time": 1.91647263,
                        "learn": [
                          0.0003137139113
                        ]
                      },
                      {
                        "passed_time": 5.880878755,
                        "iteration": 754,
                        "remaining_time": 1.908364629,
                        "learn": [
                          0.0003137130783
                        ]
                      },
                      {
                        "passed_time": 5.887286826,
                        "iteration": 755,
                        "remaining_time": 1.900129611,
                        "learn": [
                          0.0003137114124
                        ]
                      },
                      {
                        "passed_time": 5.893663136,
                        "iteration": 756,
                        "remaining_time": 1.891889223,
                        "learn": [
                          0.0003137105795
                        ]
                      },
                      {
                        "passed_time": 5.899976877,
                        "iteration": 757,
                        "remaining_time": 1.883633779,
                        "learn": [
                          0.0003137097466
                        ]
                      },
                      {
                        "passed_time": 5.906238914,
                        "iteration": 758,
                        "remaining_time": 1.875367033,
                        "learn": [
                          0.0003137080807
                        ]
                      },
                      {
                        "passed_time": 5.912448475,
                        "iteration": 759,
                        "remaining_time": 1.867088992,
                        "learn": [
                          0.0003137072478
                        ]
                      },
                      {
                        "passed_time": 5.918728,
                        "iteration": 760,
                        "remaining_time": 1.85883836,
                        "learn": [
                          0.0003137064148
                        ]
                      },
                      {
                        "passed_time": 5.925208415,
                        "iteration": 761,
                        "remaining_time": 1.850655647,
                        "learn": [
                          0.000313704749
                        ]
                      },
                      {
                        "passed_time": 5.931932875,
                        "iteration": 762,
                        "remaining_time": 1.8425532,
                        "learn": [
                          0.0003137039161
                        ]
                      },
                      {
                        "passed_time": 5.94072863,
                        "iteration": 763,
                        "remaining_time": 1.835094184,
                        "learn": [
                          0.0003137022503
                        ]
                      },
                      {
                        "passed_time": 5.952133134,
                        "iteration": 764,
                        "remaining_time": 1.828433054,
                        "learn": [
                          0.0003137005846
                        ]
                      },
                      {
                        "passed_time": 5.958634472,
                        "iteration": 765,
                        "remaining_time": 1.820261706,
                        "learn": [
                          0.0003136997517
                        ]
                      },
                      {
                        "passed_time": 5.964757647,
                        "iteration": 766,
                        "remaining_time": 1.811979833,
                        "learn": [
                          0.0003136989188
                        ]
                      },
                      {
                        "passed_time": 5.970817121,
                        "iteration": 767,
                        "remaining_time": 1.803684339,
                        "learn": [
                          0.000313698086
                        ]
                      },
                      {
                        "passed_time": 6.005099845,
                        "iteration": 768,
                        "remaining_time": 1.803872645,
                        "learn": [
                          0.0003136972531
                        ]
                      },
                      {
                        "passed_time": 6.016496003,
                        "iteration": 769,
                        "remaining_time": 1.79713517,
                        "learn": [
                          0.0003136955874
                        ]
                      },
                      {
                        "passed_time": 6.025228241,
                        "iteration": 770,
                        "remaining_time": 1.78959438,
                        "learn": [
                          0.0003136947546
                        ]
                      },
                      {
                        "passed_time": 6.039688912,
                        "iteration": 771,
                        "remaining_time": 1.783742321,
                        "learn": [
                          0.0003136930889
                        ]
                      },
                      {
                        "passed_time": 6.046836196,
                        "iteration": 772,
                        "remaining_time": 1.775720332,
                        "learn": [
                          0.0003136922561
                        ]
                      },
                      {
                        "passed_time": 6.053023524,
                        "iteration": 773,
                        "remaining_time": 1.767420305,
                        "learn": [
                          0.0003136905904
                        ]
                      },
                      {
                        "passed_time": 6.059468499,
                        "iteration": 774,
                        "remaining_time": 1.759200532,
                        "learn": [
                          0.0003136897576
                        ]
                      },
                      {
                        "passed_time": 6.065703512,
                        "iteration": 775,
                        "remaining_time": 1.750924725,
                        "learn": [
                          0.000313688092
                        ]
                      },
                      {
                        "passed_time": 6.071766914,
                        "iteration": 776,
                        "remaining_time": 1.742604919,
                        "learn": [
                          0.0003136864265
                        ]
                      },
                      {
                        "passed_time": 6.077854611,
                        "iteration": 777,
                        "remaining_time": 1.734297845,
                        "learn": [
                          0.0003136855937
                        ]
                      },
                      {
                        "passed_time": 6.083994531,
                        "iteration": 778,
                        "remaining_time": 1.726011286,
                        "learn": [
                          0.0003136839281
                        ]
                      },
                      {
                        "passed_time": 6.090058881,
                        "iteration": 779,
                        "remaining_time": 1.717708915,
                        "learn": [
                          0.0003136830954
                        ]
                      },
                      {
                        "passed_time": 6.096117607,
                        "iteration": 780,
                        "remaining_time": 1.709410699,
                        "learn": [
                          0.0003136814299
                        ]
                      },
                      {
                        "passed_time": 6.102183031,
                        "iteration": 781,
                        "remaining_time": 1.701120078,
                        "learn": [
                          0.0003136805971
                        ]
                      },
                      {
                        "passed_time": 6.108308282,
                        "iteration": 782,
                        "remaining_time": 1.69285172,
                        "learn": [
                          0.0003136789316
                        ]
                      },
                      {
                        "passed_time": 6.116026801,
                        "iteration": 783,
                        "remaining_time": 1.685027792,
                        "learn": [
                          0.0003136780989
                        ]
                      },
                      {
                        "passed_time": 6.126064134,
                        "iteration": 784,
                        "remaining_time": 1.677839221,
                        "learn": [
                          0.0003136772662
                        ]
                      },
                      {
                        "passed_time": 6.13222707,
                        "iteration": 785,
                        "remaining_time": 1.669588541,
                        "learn": [
                          0.0003136764335
                        ]
                      },
                      {
                        "passed_time": 6.138328309,
                        "iteration": 786,
                        "remaining_time": 1.661326467,
                        "learn": [
                          0.000313674768
                        ]
                      },
                      {
                        "passed_time": 6.144837677,
                        "iteration": 787,
                        "remaining_time": 1.65317968,
                        "learn": [
                          0.0003136731026
                        ]
                      },
                      {
                        "passed_time": 6.151057942,
                        "iteration": 788,
                        "remaining_time": 1.644959728,
                        "learn": [
                          0.0003136714372
                        ]
                      },
                      {
                        "passed_time": 6.157321861,
                        "iteration": 789,
                        "remaining_time": 1.636756444,
                        "learn": [
                          0.0003136697719
                        ]
                      },
                      {
                        "passed_time": 6.163568157,
                        "iteration": 790,
                        "remaining_time": 1.628553407,
                        "learn": [
                          0.0003136689392
                        ]
                      },
                      {
                        "passed_time": 6.16998122,
                        "iteration": 791,
                        "remaining_time": 1.620399108,
                        "learn": [
                          0.0003136672739
                        ]
                      },
                      {
                        "passed_time": 6.176321652,
                        "iteration": 792,
                        "remaining_time": 1.612230242,
                        "learn": [
                          0.0003136664412
                        ]
                      },
                      {
                        "passed_time": 6.18275771,
                        "iteration": 793,
                        "remaining_time": 1.604090791,
                        "learn": [
                          0.000313664776
                        ]
                      },
                      {
                        "passed_time": 6.189184655,
                        "iteration": 794,
                        "remaining_time": 1.595953276,
                        "learn": [
                          0.0003136631107
                        ]
                      },
                      {
                        "passed_time": 6.195485002,
                        "iteration": 795,
                        "remaining_time": 1.587787614,
                        "learn": [
                          0.0003136622781
                        ]
                      },
                      {
                        "passed_time": 6.201666247,
                        "iteration": 796,
                        "remaining_time": 1.579596296,
                        "learn": [
                          0.0003136606128
                        ]
                      },
                      {
                        "passed_time": 6.20778312,
                        "iteration": 797,
                        "remaining_time": 1.571393722,
                        "learn": [
                          0.0003136589476
                        ]
                      },
                      {
                        "passed_time": 6.213962861,
                        "iteration": 798,
                        "remaining_time": 1.563212184,
                        "learn": [
                          0.0003136572824
                        ]
                      },
                      {
                        "passed_time": 6.220193687,
                        "iteration": 799,
                        "remaining_time": 1.555048422,
                        "learn": [
                          0.0003136556172
                        ]
                      },
                      {
                        "passed_time": 6.226265497,
                        "iteration": 800,
                        "remaining_time": 1.54684998,
                        "learn": [
                          0.0003136547847
                        ]
                      },
                      {
                        "passed_time": 6.23252295,
                        "iteration": 801,
                        "remaining_time": 1.538702673,
                        "learn": [
                          0.0003136531195
                        ]
                      },
                      {
                        "passed_time": 6.238603058,
                        "iteration": 802,
                        "remaining_time": 1.530516566,
                        "learn": [
                          0.0003136514544
                        ]
                      },
                      {
                        "passed_time": 6.2448085,
                        "iteration": 803,
                        "remaining_time": 1.522366251,
                        "learn": [
                          0.0003136497893
                        ]
                      },
                      {
                        "passed_time": 6.251764608,
                        "iteration": 804,
                        "remaining_time": 1.514402607,
                        "learn": [
                          0.0003136481242
                        ]
                      },
                      {
                        "passed_time": 6.257974685,
                        "iteration": 805,
                        "remaining_time": 1.506261897,
                        "learn": [
                          0.0003136472917
                        ]
                      },
                      {
                        "passed_time": 6.264487119,
                        "iteration": 806,
                        "remaining_time": 1.498198283,
                        "learn": [
                          0.0003136464592
                        ]
                      },
                      {
                        "passed_time": 6.270736892,
                        "iteration": 807,
                        "remaining_time": 1.490076093,
                        "learn": [
                          0.0003136456267
                        ]
                      },
                      {
                        "passed_time": 6.27700996,
                        "iteration": 808,
                        "remaining_time": 1.481964033,
                        "learn": [
                          0.0003136439617
                        ]
                      },
                      {
                        "passed_time": 6.283082641,
                        "iteration": 809,
                        "remaining_time": 1.473809508,
                        "learn": [
                          0.0003136422967
                        ]
                      },
                      {
                        "passed_time": 6.28923462,
                        "iteration": 810,
                        "remaining_time": 1.465678598,
                        "learn": [
                          0.0003136406317
                        ]
                      },
                      {
                        "passed_time": 6.29539041,
                        "iteration": 811,
                        "remaining_time": 1.457553445,
                        "learn": [
                          0.0003136389667
                        ]
                      },
                      {
                        "passed_time": 6.30151972,
                        "iteration": 812,
                        "remaining_time": 1.449427045,
                        "learn": [
                          0.0003136373018
                        ]
                      },
                      {
                        "passed_time": 6.308074932,
                        "iteration": 813,
                        "remaining_time": 1.441402871,
                        "learn": [
                          0.0003136356369
                        ]
                      },
                      {
                        "passed_time": 6.314678941,
                        "iteration": 814,
                        "remaining_time": 1.433393379,
                        "learn": [
                          0.0003136348045
                        ]
                      },
                      {
                        "passed_time": 6.320832656,
                        "iteration": 815,
                        "remaining_time": 1.425285795,
                        "learn": [
                          0.0003136331396
                        ]
                      },
                      {
                        "passed_time": 6.328353824,
                        "iteration": 816,
                        "remaining_time": 1.41748929,
                        "learn": [
                          0.0003136323072
                        ]
                      },
                      {
                        "passed_time": 6.334784035,
                        "iteration": 817,
                        "remaining_time": 1.409450727,
                        "learn": [
                          0.0003136314747
                        ]
                      },
                      {
                        "passed_time": 6.34094578,
                        "iteration": 818,
                        "remaining_time": 1.40135676,
                        "learn": [
                          0.0003136306423
                        ]
                      },
                      {
                        "passed_time": 6.348430079,
                        "iteration": 819,
                        "remaining_time": 1.393557822,
                        "learn": [
                          0.0003136298099
                        ]
                      },
                      {
                        "passed_time": 6.355352638,
                        "iteration": 820,
                        "remaining_time": 1.385637177,
                        "learn": [
                          0.0003136281451
                        ]
                      },
                      {
                        "passed_time": 6.361753896,
                        "iteration": 821,
                        "remaining_time": 1.377606075,
                        "learn": [
                          0.0003136264803
                        ]
                      },
                      {
                        "passed_time": 6.367966265,
                        "iteration": 822,
                        "remaining_time": 1.36953831,
                        "learn": [
                          0.0003136248156
                        ]
                      },
                      {
                        "passed_time": 6.378151753,
                        "iteration": 823,
                        "remaining_time": 1.362323675,
                        "learn": [
                          0.0003136239832
                        ]
                      },
                      {
                        "passed_time": 6.384239694,
                        "iteration": 824,
                        "remaining_time": 1.354232662,
                        "learn": [
                          0.0003136223185
                        ]
                      },
                      {
                        "passed_time": 6.390339219,
                        "iteration": 825,
                        "remaining_time": 1.34614894,
                        "learn": [
                          0.0003136214861
                        ]
                      },
                      {
                        "passed_time": 6.396629298,
                        "iteration": 826,
                        "remaining_time": 1.338109877,
                        "learn": [
                          0.0003136198214
                        ]
                      },
                      {
                        "passed_time": 6.402781179,
                        "iteration": 827,
                        "remaining_time": 1.330046332,
                        "learn": [
                          0.0003136189891
                        ]
                      },
                      {
                        "passed_time": 6.408998956,
                        "iteration": 828,
                        "remaining_time": 1.322000991,
                        "learn": [
                          0.0003136173244
                        ]
                      },
                      {
                        "passed_time": 6.415046453,
                        "iteration": 829,
                        "remaining_time": 1.313925177,
                        "learn": [
                          0.0003136156598
                        ]
                      },
                      {
                        "passed_time": 6.421054163,
                        "iteration": 830,
                        "remaining_time": 1.305846154,
                        "learn": [
                          0.0003136148275
                        ]
                      },
                      {
                        "passed_time": 6.42722921,
                        "iteration": 831,
                        "remaining_time": 1.297805898,
                        "learn": [
                          0.0003136131628
                        ]
                      },
                      {
                        "passed_time": 6.433338254,
                        "iteration": 832,
                        "remaining_time": 1.289756889,
                        "learn": [
                          0.0003136123305
                        ]
                      },
                      {
                        "passed_time": 6.439571963,
                        "iteration": 833,
                        "remaining_time": 1.281737345,
                        "learn": [
                          0.000313610666
                        ]
                      },
                      {
                        "passed_time": 6.445688221,
                        "iteration": 834,
                        "remaining_time": 1.27369887,
                        "learn": [
                          0.0003136090014
                        ]
                      },
                      {
                        "passed_time": 6.451775701,
                        "iteration": 835,
                        "remaining_time": 1.265659348,
                        "learn": [
                          0.0003136073369
                        ]
                      },
                      {
                        "passed_time": 6.457870242,
                        "iteration": 836,
                        "remaining_time": 1.257625866,
                        "learn": [
                          0.0003136056724
                        ]
                      },
                      {
                        "passed_time": 6.466567078,
                        "iteration": 837,
                        "remaining_time": 1.25010008,
                        "learn": [
                          0.0003136040079
                        ]
                      },
                      {
                        "passed_time": 6.47434462,
                        "iteration": 838,
                        "remaining_time": 1.242395094,
                        "learn": [
                          0.0003136031757
                        ]
                      },
                      {
                        "passed_time": 6.480457172,
                        "iteration": 839,
                        "remaining_time": 1.234372795,
                        "learn": [
                          0.0003136023434
                        ]
                      },
                      {
                        "passed_time": 6.486659332,
                        "iteration": 840,
                        "remaining_time": 1.226371978,
                        "learn": [
                          0.000313600679
                        ]
                      },
                      {
                        "passed_time": 6.493161846,
                        "iteration": 841,
                        "remaining_time": 1.218431795,
                        "learn": [
                          0.0003135998468
                        ]
                      },
                      {
                        "passed_time": 6.499416664,
                        "iteration": 842,
                        "remaining_time": 1.210448892,
                        "learn": [
                          0.0003135981824
                        ]
                      },
                      {
                        "passed_time": 6.505606282,
                        "iteration": 843,
                        "remaining_time": 1.202458033,
                        "learn": [
                          0.0003135973502
                        ]
                      },
                      {
                        "passed_time": 6.511897576,
                        "iteration": 844,
                        "remaining_time": 1.194490088,
                        "learn": [
                          0.000313596518
                        ]
                      },
                      {
                        "passed_time": 6.518071195,
                        "iteration": 845,
                        "remaining_time": 1.186504686,
                        "learn": [
                          0.0003135948536
                        ]
                      },
                      {
                        "passed_time": 6.5242281,
                        "iteration": 846,
                        "remaining_time": 1.178520542,
                        "learn": [
                          0.0003135940214
                        ]
                      },
                      {
                        "passed_time": 6.530402542,
                        "iteration": 847,
                        "remaining_time": 1.170543852,
                        "learn": [
                          0.0003135923571
                        ]
                      },
                      {
                        "passed_time": 6.536591855,
                        "iteration": 848,
                        "remaining_time": 1.162574052,
                        "learn": [
                          0.0003135906928
                        ]
                      },
                      {
                        "passed_time": 6.54269741,
                        "iteration": 849,
                        "remaining_time": 1.154593661,
                        "learn": [
                          0.0003135890285
                        ]
                      },
                      {
                        "passed_time": 6.54875735,
                        "iteration": 850,
                        "remaining_time": 1.146609689,
                        "learn": [
                          0.0003135881964
                        ]
                      },
                      {
                        "passed_time": 6.555037566,
                        "iteration": 851,
                        "remaining_time": 1.138668497,
                        "learn": [
                          0.0003135865321
                        ]
                      },
                      {
                        "passed_time": 6.561679116,
                        "iteration": 852,
                        "remaining_time": 1.13079347,
                        "learn": [
                          0.0003135857
                        ]
                      },
                      {
                        "passed_time": 6.568009188,
                        "iteration": 853,
                        "remaining_time": 1.122868081,
                        "learn": [
                          0.0003135840358
                        ]
                      },
                      {
                        "passed_time": 6.574427331,
                        "iteration": 854,
                        "remaining_time": 1.11496136,
                        "learn": [
                          0.0003135823716
                        ]
                      },
                      {
                        "passed_time": 6.580652549,
                        "iteration": 855,
                        "remaining_time": 1.107025662,
                        "learn": [
                          0.0003135815395
                        ]
                      },
                      {
                        "passed_time": 6.586775004,
                        "iteration": 856,
                        "remaining_time": 1.099076809,
                        "learn": [
                          0.0003135807074
                        ]
                      },
                      {
                        "passed_time": 6.592972981,
                        "iteration": 857,
                        "remaining_time": 1.091144712,
                        "learn": [
                          0.0003135790432
                        ]
                      },
                      {
                        "passed_time": 6.599080395,
                        "iteration": 858,
                        "remaining_time": 1.083201788,
                        "learn": [
                          0.0003135782112
                        ]
                      },
                      {
                        "passed_time": 6.606626454,
                        "iteration": 859,
                        "remaining_time": 1.07549733,
                        "learn": [
                          0.000313576547
                        ]
                      },
                      {
                        "passed_time": 6.612686611,
                        "iteration": 860,
                        "remaining_time": 1.067553355,
                        "learn": [
                          0.000313575715
                        ]
                      },
                      {
                        "passed_time": 6.61900013,
                        "iteration": 861,
                        "remaining_time": 1.059654313,
                        "learn": [
                          0.0003135740509
                        ]
                      },
                      {
                        "passed_time": 6.625751608,
                        "iteration": 862,
                        "remaining_time": 1.051828471,
                        "learn": [
                          0.0003135723868
                        ]
                      },
                      {
                        "passed_time": 6.632207759,
                        "iteration": 863,
                        "remaining_time": 1.043958629,
                        "learn": [
                          0.0003135707228
                        ]
                      },
                      {
                        "passed_time": 6.638761185,
                        "iteration": 864,
                        "remaining_time": 1.036107237,
                        "learn": [
                          0.0003135690587
                        ]
                      },
                      {
                        "passed_time": 6.645170201,
                        "iteration": 865,
                        "remaining_time": 1.028236498,
                        "learn": [
                          0.0003135682267
                        ]
                      },
                      {
                        "passed_time": 6.651440351,
                        "iteration": 866,
                        "remaining_time": 1.020347828,
                        "learn": [
                          0.0003135665627
                        ]
                      },
                      {
                        "passed_time": 6.657776634,
                        "iteration": 867,
                        "remaining_time": 1.012472944,
                        "learn": [
                          0.0003135657308
                        ]
                      },
                      {
                        "passed_time": 6.664012606,
                        "iteration": 868,
                        "remaining_time": 1.00458648,
                        "learn": [
                          0.0003135640668
                        ]
                      },
                      {
                        "passed_time": 6.670555032,
                        "iteration": 869,
                        "remaining_time": 0.9967496024,
                        "learn": [
                          0.0003135624029
                        ]
                      },
                      {
                        "passed_time": 6.677429117,
                        "iteration": 870,
                        "remaining_time": 0.9889648175,
                        "learn": [
                          0.0003135615709
                        ]
                      },
                      {
                        "passed_time": 6.684599019,
                        "iteration": 871,
                        "remaining_time": 0.981225544,
                        "learn": [
                          0.000313559907
                        ]
                      },
                      {
                        "passed_time": 6.691265488,
                        "iteration": 872,
                        "remaining_time": 0.9734143379,
                        "learn": [
                          0.0003135582431
                        ]
                      },
                      {
                        "passed_time": 6.697583956,
                        "iteration": 873,
                        "remaining_time": 0.9655555818,
                        "learn": [
                          0.0003135565793
                        ]
                      },
                      {
                        "passed_time": 6.703979383,
                        "iteration": 874,
                        "remaining_time": 0.9577113405,
                        "learn": [
                          0.0003135549154
                        ]
                      },
                      {
                        "passed_time": 6.710235972,
                        "iteration": 875,
                        "remaining_time": 0.9498507541,
                        "learn": [
                          0.0003135540835
                        ]
                      },
                      {
                        "passed_time": 6.716403631,
                        "iteration": 876,
                        "remaining_time": 0.9419813531,
                        "learn": [
                          0.0003135532516
                        ]
                      },
                      {
                        "passed_time": 6.722523071,
                        "iteration": 877,
                        "remaining_time": 0.9341091283,
                        "learn": [
                          0.0003135515878
                        ]
                      },
                      {
                        "passed_time": 6.728598801,
                        "iteration": 878,
                        "remaining_time": 0.9262348747,
                        "learn": [
                          0.000313549924
                        ]
                      },
                      {
                        "passed_time": 6.734747718,
                        "iteration": 879,
                        "remaining_time": 0.9183746889,
                        "learn": [
                          0.0003135482603
                        ]
                      },
                      {
                        "passed_time": 6.740830538,
                        "iteration": 880,
                        "remaining_time": 0.9105094597,
                        "learn": [
                          0.0003135465966
                        ]
                      },
                      {
                        "passed_time": 6.74792129,
                        "iteration": 881,
                        "remaining_time": 0.9027831204,
                        "learn": [
                          0.0003135449329
                        ]
                      },
                      {
                        "passed_time": 6.756085133,
                        "iteration": 882,
                        "remaining_time": 0.8952004083,
                        "learn": [
                          0.0003135432692
                        ]
                      },
                      {
                        "passed_time": 6.762365567,
                        "iteration": 883,
                        "remaining_time": 0.8873692373,
                        "learn": [
                          0.0003135416055
                        ]
                      },
                      {
                        "passed_time": 6.768602417,
                        "iteration": 884,
                        "remaining_time": 0.8795359073,
                        "learn": [
                          0.0003135407737
                        ]
                      },
                      {
                        "passed_time": 6.77483858,
                        "iteration": 885,
                        "remaining_time": 0.8717060927,
                        "learn": [
                          0.0003135391101
                        ]
                      },
                      {
                        "passed_time": 6.781150797,
                        "iteration": 886,
                        "remaining_time": 0.8638895603,
                        "learn": [
                          0.0003135374464
                        ]
                      },
                      {
                        "passed_time": 6.787588796,
                        "iteration": 887,
                        "remaining_time": 0.8560922805,
                        "learn": [
                          0.0003135366147
                        ]
                      },
                      {
                        "passed_time": 6.79400375,
                        "iteration": 888,
                        "remaining_time": 0.8482951814,
                        "learn": [
                          0.0003135349511
                        ]
                      },
                      {
                        "passed_time": 6.800321458,
                        "iteration": 889,
                        "remaining_time": 0.840489169,
                        "learn": [
                          0.0003135332875
                        ]
                      },
                      {
                        "passed_time": 6.806505244,
                        "iteration": 890,
                        "remaining_time": 0.832670114,
                        "learn": [
                          0.000313531624
                        ]
                      },
                      {
                        "passed_time": 6.812760276,
                        "iteration": 891,
                        "remaining_time": 0.8248633518,
                        "learn": [
                          0.0003135299605
                        ]
                      },
                      {
                        "passed_time": 6.81902799,
                        "iteration": 892,
                        "remaining_time": 0.8170615845,
                        "learn": [
                          0.000313528297
                        ]
                      },
                      {
                        "passed_time": 6.825195128,
                        "iteration": 893,
                        "remaining_time": 0.8092513239,
                        "learn": [
                          0.0003135266335
                        ]
                      },
                      {
                        "passed_time": 6.831302313,
                        "iteration": 894,
                        "remaining_time": 0.8014377015,
                        "learn": [
                          0.0003135258018
                        ]
                      },
                      {
                        "passed_time": 6.837563081,
                        "iteration": 895,
                        "remaining_time": 0.7936457148,
                        "learn": [
                          0.0003135241384
                        ]
                      },
                      {
                        "passed_time": 6.843764278,
                        "iteration": 896,
                        "remaining_time": 0.7858503017,
                        "learn": [
                          0.000313522475
                        ]
                      },
                      {
                        "passed_time": 6.850067383,
                        "iteration": 897,
                        "remaining_time": 0.7780700145,
                        "learn": [
                          0.0003135208116
                        ]
                      },
                      {
                        "passed_time": 6.856230796,
                        "iteration": 898,
                        "remaining_time": 0.7702773197,
                        "learn": [
                          0.0003135191482
                        ]
                      },
                      {
                        "passed_time": 6.862446254,
                        "iteration": 899,
                        "remaining_time": 0.7624940282,
                        "learn": [
                          0.0003135174849
                        ]
                      },
                      {
                        "passed_time": 6.868694144,
                        "iteration": 900,
                        "remaining_time": 0.7547177805,
                        "learn": [
                          0.0003135158216
                        ]
                      },
                      {
                        "passed_time": 6.875154545,
                        "iteration": 901,
                        "remaining_time": 0.7469680104,
                        "learn": [
                          0.0003135141583
                        ]
                      },
                      {
                        "passed_time": 6.881466651,
                        "iteration": 902,
                        "remaining_time": 0.7392051662,
                        "learn": [
                          0.000313512495
                        ]
                      },
                      {
                        "passed_time": 6.887858875,
                        "iteration": 903,
                        "remaining_time": 0.7314540398,
                        "learn": [
                          0.0003135108317
                        ]
                      },
                      {
                        "passed_time": 6.894057765,
                        "iteration": 904,
                        "remaining_time": 0.7236856218,
                        "learn": [
                          0.0003135091685
                        ]
                      },
                      {
                        "passed_time": 6.900120866,
                        "iteration": 905,
                        "remaining_time": 0.71590658,
                        "learn": [
                          0.0003135075053
                        ]
                      },
                      {
                        "passed_time": 6.906213184,
                        "iteration": 906,
                        "remaining_time": 0.7081343176,
                        "learn": [
                          0.0003135058421
                        ]
                      },
                      {
                        "passed_time": 6.912420971,
                        "iteration": 907,
                        "remaining_time": 0.7003774553,
                        "learn": [
                          0.0003135041789
                        ]
                      },
                      {
                        "passed_time": 6.918536702,
                        "iteration": 908,
                        "remaining_time": 0.6926147854,
                        "learn": [
                          0.0003135025158
                        ]
                      },
                      {
                        "passed_time": 6.928270535,
                        "iteration": 909,
                        "remaining_time": 0.6852135694,
                        "learn": [
                          0.0003135008527
                        ]
                      },
                      {
                        "passed_time": 6.934545349,
                        "iteration": 910,
                        "remaining_time": 0.6774693041,
                        "learn": [
                          0.0003134991895
                        ]
                      },
                      {
                        "passed_time": 6.946761026,
                        "iteration": 911,
                        "remaining_time": 0.6703015025,
                        "learn": [
                          0.0003134975265
                        ]
                      },
                      {
                        "passed_time": 6.954209222,
                        "iteration": 912,
                        "remaining_time": 0.6626683486,
                        "learn": [
                          0.0003134958634
                        ]
                      },
                      {
                        "passed_time": 6.960367117,
                        "iteration": 913,
                        "remaining_time": 0.6549141926,
                        "learn": [
                          0.0003134942004
                        ]
                      },
                      {
                        "passed_time": 6.968030237,
                        "iteration": 914,
                        "remaining_time": 0.6473033553,
                        "learn": [
                          0.0003134925374
                        ]
                      },
                      {
                        "passed_time": 6.974599749,
                        "iteration": 915,
                        "remaining_time": 0.6395921167,
                        "learn": [
                          0.0003134908744
                        ]
                      },
                      {
                        "passed_time": 6.980839497,
                        "iteration": 916,
                        "remaining_time": 0.6318535204,
                        "learn": [
                          0.0003134892114
                        ]
                      },
                      {
                        "passed_time": 6.987847714,
                        "iteration": 917,
                        "remaining_time": 0.6241868328,
                        "learn": [
                          0.0003134875485
                        ]
                      },
                      {
                        "passed_time": 6.994102759,
                        "iteration": 918,
                        "remaining_time": 0.6164551943,
                        "learn": [
                          0.0003134858855
                        ]
                      },
                      {
                        "passed_time": 7.029859381,
                        "iteration": 919,
                        "remaining_time": 0.6112921201,
                        "learn": [
                          0.0003134842226
                        ]
                      },
                      {
                        "passed_time": 7.047840269,
                        "iteration": 920,
                        "remaining_time": 0.6045378732,
                        "learn": [
                          0.0003134825597
                        ]
                      },
                      {
                        "passed_time": 7.065217812,
                        "iteration": 921,
                        "remaining_time": 0.5977082314,
                        "learn": [
                          0.0003134808969
                        ]
                      },
                      {
                        "passed_time": 7.084405344,
                        "iteration": 922,
                        "remaining_time": 0.5910067297,
                        "learn": [
                          0.000313479234
                        ]
                      },
                      {
                        "passed_time": 7.090643397,
                        "iteration": 923,
                        "remaining_time": 0.5832130933,
                        "learn": [
                          0.000313479234
                        ]
                      },
                      {
                        "passed_time": 7.09697421,
                        "iteration": 924,
                        "remaining_time": 0.5754303413,
                        "learn": [
                          0.000313479234
                        ]
                      },
                      {
                        "passed_time": 7.103304066,
                        "iteration": 925,
                        "remaining_time": 0.5676506489,
                        "learn": [
                          0.000313479234
                        ]
                      },
                      {
                        "passed_time": 7.109513084,
                        "iteration": 926,
                        "remaining_time": 0.5598645687,
                        "learn": [
                          0.000313479234
                        ]
                      },
                      {
                        "passed_time": 7.11569263,
                        "iteration": 927,
                        "remaining_time": 0.5520796006,
                        "learn": [
                          0.000313479234
                        ]
                      },
                      {
                        "passed_time": 7.122029331,
                        "iteration": 928,
                        "remaining_time": 0.5443100995,
                        "learn": [
                          0.000313479234
                        ]
                      },
                      {
                        "passed_time": 7.128612913,
                        "iteration": 929,
                        "remaining_time": 0.5365622623,
                        "learn": [
                          0.000313479234
                        ]
                      },
                      {
                        "passed_time": 7.135424037,
                        "iteration": 930,
                        "remaining_time": 0.5288337901,
                        "learn": [
                          0.000313479234
                        ]
                      },
                      {
                        "passed_time": 7.141774288,
                        "iteration": 931,
                        "remaining_time": 0.5210736605,
                        "learn": [
                          0.000313479234
                        ]
                      },
                      {
                        "passed_time": 7.148200468,
                        "iteration": 932,
                        "remaining_time": 0.5133220058,
                        "learn": [
                          0.000313479234
                        ]
                      },
                      {
                        "passed_time": 7.154465142,
                        "iteration": 933,
                        "remaining_time": 0.5055617766,
                        "learn": [
                          0.000313479234
                        ]
                      },
                      {
                        "passed_time": 7.16076191,
                        "iteration": 934,
                        "remaining_time": 0.4978069777,
                        "learn": [
                          0.000313479234
                        ]
                      },
                      {
                        "passed_time": 7.167071306,
                        "iteration": 935,
                        "remaining_time": 0.4900561577,
                        "learn": [
                          0.000313479234
                        ]
                      },
                      {
                        "passed_time": 7.173321103,
                        "iteration": 936,
                        "remaining_time": 0.4823044071,
                        "learn": [
                          0.000313479234
                        ]
                      },
                      {
                        "passed_time": 7.179661474,
                        "iteration": 937,
                        "remaining_time": 0.4745618459,
                        "learn": [
                          0.000313479234
                        ]
                      },
                      {
                        "passed_time": 7.186673165,
                        "iteration": 938,
                        "remaining_time": 0.4668658819,
                        "learn": [
                          0.000313479234
                        ]
                      },
                      {
                        "passed_time": 7.193178901,
                        "iteration": 939,
                        "remaining_time": 0.4591390788,
                        "learn": [
                          0.000313479234
                        ]
                      },
                      {
                        "passed_time": 7.19946765,
                        "iteration": 940,
                        "remaining_time": 0.451401266,
                        "learn": [
                          0.000313479234
                        ]
                      },
                      {
                        "passed_time": 7.205678827,
                        "iteration": 941,
                        "remaining_time": 0.4436617537,
                        "learn": [
                          0.000313479234
                        ]
                      },
                      {
                        "passed_time": 7.211890219,
                        "iteration": 942,
                        "remaining_time": 0.4359254957,
                        "learn": [
                          0.000313479234
                        ]
                      },
                      {
                        "passed_time": 7.218455533,
                        "iteration": 943,
                        "remaining_time": 0.4282134638,
                        "learn": [
                          0.000313479234
                        ]
                      },
                      {
                        "passed_time": 7.225277223,
                        "iteration": 944,
                        "remaining_time": 0.4205187802,
                        "learn": [
                          0.000313479234
                        ]
                      },
                      {
                        "passed_time": 7.23212585,
                        "iteration": 945,
                        "remaining_time": 0.4128274798,
                        "learn": [
                          0.000313479234
                        ]
                      },
                      {
                        "passed_time": 7.238320972,
                        "iteration": 946,
                        "remaining_time": 0.4051013849,
                        "learn": [
                          0.000313479234
                        ]
                      },
                      {
                        "passed_time": 7.244564494,
                        "iteration": 947,
                        "remaining_time": 0.3973811748,
                        "learn": [
                          0.000313479234
                        ]
                      },
                      {
                        "passed_time": 7.250739677,
                        "iteration": 948,
                        "remaining_time": 0.3896604041,
                        "learn": [
                          0.000313479234
                        ]
                      },
                      {
                        "passed_time": 7.257067527,
                        "iteration": 949,
                        "remaining_time": 0.3819509225,
                        "learn": [
                          0.000313479234
                        ]
                      },
                      {
                        "passed_time": 7.263397818,
                        "iteration": 950,
                        "remaining_time": 0.3742444722,
                        "learn": [
                          0.000313479234
                        ]
                      },
                      {
                        "passed_time": 7.269672122,
                        "iteration": 951,
                        "remaining_time": 0.3665380902,
                        "learn": [
                          0.000313479234
                        ]
                      },
                      {
                        "passed_time": 7.276087512,
                        "iteration": 952,
                        "remaining_time": 0.3588416716,
                        "learn": [
                          0.000313479234
                        ]
                      },
                      {
                        "passed_time": 7.282312679,
                        "iteration": 953,
                        "remaining_time": 0.3511387665,
                        "learn": [
                          0.000313479234
                        ]
                      },
                      {
                        "passed_time": 7.288561745,
                        "iteration": 954,
                        "remaining_time": 0.3434400822,
                        "learn": [
                          0.000313479234
                        ]
                      },
                      {
                        "passed_time": 7.295053846,
                        "iteration": 955,
                        "remaining_time": 0.3357556164,
                        "learn": [
                          0.000313479234
                        ]
                      },
                      {
                        "passed_time": 7.301162619,
                        "iteration": 956,
                        "remaining_time": 0.3280564186,
                        "learn": [
                          0.000313479234
                        ]
                      },
                      {
                        "passed_time": 7.307436391,
                        "iteration": 957,
                        "remaining_time": 0.320367775,
                        "learn": [
                          0.000313479234
                        ]
                      },
                      {
                        "passed_time": 7.313808469,
                        "iteration": 958,
                        "remaining_time": 0.3126862849,
                        "learn": [
                          0.000313479234
                        ]
                      },
                      {
                        "passed_time": 7.320467132,
                        "iteration": 959,
                        "remaining_time": 0.3050194638,
                        "learn": [
                          0.000313479234
                        ]
                      },
                      {
                        "passed_time": 7.326687181,
                        "iteration": 960,
                        "remaining_time": 0.2973369408,
                        "learn": [
                          0.000313479234
                        ]
                      },
                      {
                        "passed_time": 7.332754639,
                        "iteration": 961,
                        "remaining_time": 0.2896514306,
                        "learn": [
                          0.000313479234
                        ]
                      },
                      {
                        "passed_time": 7.339241267,
                        "iteration": 962,
                        "remaining_time": 0.2819853862,
                        "learn": [
                          0.000313479234
                        ]
                      },
                      {
                        "passed_time": 7.34532595,
                        "iteration": 963,
                        "remaining_time": 0.2743067782,
                        "learn": [
                          0.000313479234
                        ]
                      },
                      {
                        "passed_time": 7.351923351,
                        "iteration": 964,
                        "remaining_time": 0.2666500697,
                        "learn": [
                          0.000313479234
                        ]
                      },
                      {
                        "passed_time": 7.358240053,
                        "iteration": 965,
                        "remaining_time": 0.2589856747,
                        "learn": [
                          0.000313479234
                        ]
                      },
                      {
                        "passed_time": 7.364456613,
                        "iteration": 966,
                        "remaining_time": 0.2513206497,
                        "learn": [
                          0.000313479234
                        ]
                      },
                      {
                        "passed_time": 7.370600757,
                        "iteration": 967,
                        "remaining_time": 0.2436562234,
                        "learn": [
                          0.000313479234
                        ]
                      },
                      {
                        "passed_time": 7.376651834,
                        "iteration": 968,
                        "remaining_time": 0.2359919575,
                        "learn": [
                          0.000313479234
                        ]
                      },
                      {
                        "passed_time": 7.382834908,
                        "iteration": 969,
                        "remaining_time": 0.2283351002,
                        "learn": [
                          0.000313479234
                        ]
                      },
                      {
                        "passed_time": 7.388984355,
                        "iteration": 970,
                        "remaining_time": 0.2206802742,
                        "learn": [
                          0.000313479234
                        ]
                      },
                      {
                        "passed_time": 7.395044649,
                        "iteration": 971,
                        "remaining_time": 0.2130259775,
                        "learn": [
                          0.000313479234
                        ]
                      },
                      {
                        "passed_time": 7.401122511,
                        "iteration": 972,
                        "remaining_time": 0.2053754448,
                        "learn": [
                          0.000313479234
                        ]
                      },
                      {
                        "passed_time": 7.407135761,
                        "iteration": 973,
                        "remaining_time": 0.1977264166,
                        "learn": [
                          0.000313479234
                        ]
                      },
                      {
                        "passed_time": 7.413133375,
                        "iteration": 974,
                        "remaining_time": 0.1900803429,
                        "learn": [
                          0.000313479234
                        ]
                      },
                      {
                        "passed_time": 7.41967873,
                        "iteration": 975,
                        "remaining_time": 0.1824511163,
                        "learn": [
                          0.000313479234
                        ]
                      },
                      {
                        "passed_time": 7.425841963,
                        "iteration": 976,
                        "remaining_time": 0.1748151128,
                        "learn": [
                          0.000313479234
                        ]
                      },
                      {
                        "passed_time": 7.431910335,
                        "iteration": 977,
                        "remaining_time": 0.1671799871,
                        "learn": [
                          0.000313479234
                        ]
                      },
                      {
                        "passed_time": 7.438035652,
                        "iteration": 978,
                        "remaining_time": 0.1595492837,
                        "learn": [
                          0.000313479234
                        ]
                      },
                      {
                        "passed_time": 7.444146091,
                        "iteration": 979,
                        "remaining_time": 0.1519213488,
                        "learn": [
                          0.000313479234
                        ]
                      },
                      {
                        "passed_time": 7.450235981,
                        "iteration": 980,
                        "remaining_time": 0.1442961097,
                        "learn": [
                          0.000313479234
                        ]
                      },
                      {
                        "passed_time": 7.45638995,
                        "iteration": 981,
                        "remaining_time": 0.1366751722,
                        "learn": [
                          0.000313479234
                        ]
                      },
                      {
                        "passed_time": 7.462471346,
                        "iteration": 982,
                        "remaining_time": 0.1290559643,
                        "learn": [
                          0.000313479234
                        ]
                      },
                      {
                        "passed_time": 7.468603764,
                        "iteration": 983,
                        "remaining_time": 0.1214407116,
                        "learn": [
                          0.000313479234
                        ]
                      },
                      {
                        "passed_time": 7.474668882,
                        "iteration": 984,
                        "remaining_time": 0.1138274449,
                        "learn": [
                          0.000313479234
                        ]
                      },
                      {
                        "passed_time": 7.480855302,
                        "iteration": 985,
                        "remaining_time": 0.1062190408,
                        "learn": [
                          0.000313479234
                        ]
                      },
                      {
                        "passed_time": 7.487060219,
                        "iteration": 986,
                        "remaining_time": 0.09861376175,
                        "learn": [
                          0.000313479234
                        ]
                      },
                      {
                        "passed_time": 7.493200907,
                        "iteration": 987,
                        "remaining_time": 0.09101053733,
                        "learn": [
                          0.000313479234
                        ]
                      },
                      {
                        "passed_time": 7.499374802,
                        "iteration": 988,
                        "remaining_time": 0.08341063986,
                        "learn": [
                          0.000313479234
                        ]
                      },
                      {
                        "passed_time": 7.505450284,
                        "iteration": 989,
                        "remaining_time": 0.07581262913,
                        "learn": [
                          0.000313479234
                        ]
                      },
                      {
                        "passed_time": 7.511565548,
                        "iteration": 990,
                        "remaining_time": 0.0682180524,
                        "learn": [
                          0.000313479234
                        ]
                      },
                      {
                        "passed_time": 7.523397285,
                        "iteration": 991,
                        "remaining_time": 0.06067255875,
                        "learn": [
                          0.000313479234
                        ]
                      },
                      {
                        "passed_time": 7.532369465,
                        "iteration": 992,
                        "remaining_time": 0.05309827417,
                        "learn": [
                          0.000313479234
                        ]
                      },
                      {
                        "passed_time": 7.538654008,
                        "iteration": 993,
                        "remaining_time": 0.04550495377,
                        "learn": [
                          0.000313479234
                        ]
                      },
                      {
                        "passed_time": 7.545060687,
                        "iteration": 994,
                        "remaining_time": 0.03791487782,
                        "learn": [
                          0.000313479234
                        ]
                      },
                      {
                        "passed_time": 7.551175677,
                        "iteration": 995,
                        "remaining_time": 0.03032600673,
                        "learn": [
                          0.000313479234
                        ]
                      },
                      {
                        "passed_time": 7.557304771,
                        "iteration": 996,
                        "remaining_time": 0.02274013472,
                        "learn": [
                          0.000313479234
                        ]
                      },
                      {
                        "passed_time": 7.563649802,
                        "iteration": 997,
                        "remaining_time": 0.01515761483,
                        "learn": [
                          0.000313479234
                        ]
                      },
                      {
                        "passed_time": 7.569783255,
                        "iteration": 998,
                        "remaining_time": 0.007577360616,
                        "learn": [
                          0.000313479234
                        ]
                      },
                      {
                        "passed_time": 7.576009458,
                        "iteration": 999,
                        "remaining_time": 0,
                        "learn": [
                          0.000313479234
                        ]
                      }
                    ]
                  },
                  "total_iterations": 1000,
                  "passed_iterations": 999
                },
                "path": "catboost_info",
                "name": "catboost_info"
              }
            },
            "_view_module": "catboost-widget",
            "_model_module_version": "^1.0.0",
            "_view_count": null,
            "_view_module_version": "^1.0.0",
            "layout": "IPY_MODEL_8b5b7ea4a08d4be98b8542b318c69e24",
            "_model_module": "catboost-widget"
          }
        },
        "c67ad19744cc41678c79fa56a2d19dce": {
          "model_module": "catboost-widget",
          "model_name": "CatboostWidgetModel",
          "model_module_version": "^1.0.0",
          "state": {
            "_view_name": "CatboostWidgetView",
            "_dom_classes": [],
            "_model_name": "CatboostWidgetModel",
            "data": {
              "catboost_info": {
                "content": {
                  "data": {
                    "meta": {
                      "name": "experiment",
                      "parameters": "",
                      "test_metrics": [
                        {
                          "best_value": "Max",
                          "name": "F1"
                        },
                        {
                          "best_value": "Min",
                          "name": "Logloss"
                        }
                      ],
                      "learn_sets": [
                        "learn"
                      ],
                      "launch_mode": "Train",
                      "learn_metrics": [
                        {
                          "best_value": "Max",
                          "name": "F1"
                        },
                        {
                          "best_value": "Min",
                          "name": "Logloss"
                        }
                      ],
                      "iteration_count": 500,
                      "test_sets": [
                        "test"
                      ]
                    },
                    "iterations": [
                      {
                        "test": [
                          0.999210734,
                          0.5049859102
                        ],
                        "passed_time": 0.01409482751,
                        "iteration": 0,
                        "remaining_time": 7.033318928,
                        "learn": [
                          1,
                          0.50475039
                        ]
                      },
                      {
                        "test": [
                          1,
                          0.3637534749
                        ],
                        "passed_time": 0.02655043811,
                        "iteration": 1,
                        "remaining_time": 6.611059089,
                        "learn": [
                          1,
                          0.3631329596
                        ]
                      },
                      {
                        "test": [
                          1,
                          0.2523196427
                        ],
                        "passed_time": 0.03781318413,
                        "iteration": 2,
                        "remaining_time": 6.26438417,
                        "learn": [
                          1,
                          0.2523519008
                        ]
                      },
                      {
                        "test": [
                          1,
                          0.1849002212
                        ],
                        "passed_time": 0.04990525508,
                        "iteration": 3,
                        "remaining_time": 6.18825163,
                        "learn": [
                          1,
                          0.1849226554
                        ]
                      },
                      {
                        "test": [
                          1,
                          0.1375842187
                        ],
                        "passed_time": 0.06181540828,
                        "iteration": 4,
                        "remaining_time": 6.11972542,
                        "learn": [
                          1,
                          0.1375623417
                        ]
                      },
                      {
                        "test": [
                          1,
                          0.101236512
                        ],
                        "passed_time": 0.07433155026,
                        "iteration": 5,
                        "remaining_time": 6.119964305,
                        "learn": [
                          1,
                          0.1011091602
                        ]
                      },
                      {
                        "test": [
                          1,
                          0.07819256928
                        ],
                        "passed_time": 0.08638096751,
                        "iteration": 6,
                        "remaining_time": 6.08368814,
                        "learn": [
                          1,
                          0.07812820479
                        ]
                      },
                      {
                        "test": [
                          1,
                          0.05762670551
                        ],
                        "passed_time": 0.09575176764,
                        "iteration": 7,
                        "remaining_time": 5.88873371,
                        "learn": [
                          1,
                          0.0575458513
                        ]
                      },
                      {
                        "test": [
                          1,
                          0.0451661216
                        ],
                        "passed_time": 0.1055095122,
                        "iteration": 8,
                        "remaining_time": 5.756130056,
                        "learn": [
                          1,
                          0.04514818879
                        ]
                      },
                      {
                        "test": [
                          1,
                          0.03204946553
                        ],
                        "passed_time": 0.112239489,
                        "iteration": 9,
                        "remaining_time": 5.499734962,
                        "learn": [
                          1,
                          0.0320353063
                        ]
                      },
                      {
                        "test": [
                          1,
                          0.0267840037
                        ],
                        "passed_time": 0.1307515129,
                        "iteration": 10,
                        "remaining_time": 5.812499072,
                        "learn": [
                          1,
                          0.02674920334
                        ]
                      },
                      {
                        "test": [
                          1,
                          0.02291132898
                        ],
                        "passed_time": 0.143150938,
                        "iteration": 11,
                        "remaining_time": 5.821471478,
                        "learn": [
                          1,
                          0.02290339628
                        ]
                      },
                      {
                        "test": [
                          1,
                          0.01747001892
                        ],
                        "passed_time": 0.1488748833,
                        "iteration": 12,
                        "remaining_time": 5.577082168,
                        "learn": [
                          1,
                          0.01746322167
                        ]
                      },
                      {
                        "test": [
                          1,
                          0.0130602874
                        ],
                        "passed_time": 0.1542965249,
                        "iteration": 13,
                        "remaining_time": 5.356293651,
                        "learn": [
                          1,
                          0.01302722882
                        ]
                      },
                      {
                        "test": [
                          1,
                          0.01085997089
                        ],
                        "passed_time": 0.1619472739,
                        "iteration": 14,
                        "remaining_time": 5.236295189,
                        "learn": [
                          1,
                          0.01082855263
                        ]
                      },
                      {
                        "test": [
                          1,
                          0.009477861713
                        ],
                        "passed_time": 0.1735756793,
                        "iteration": 15,
                        "remaining_time": 5.250664299,
                        "learn": [
                          1,
                          0.009451234669
                        ]
                      },
                      {
                        "test": [
                          1,
                          0.008284468088
                        ],
                        "passed_time": 0.1856111044,
                        "iteration": 16,
                        "remaining_time": 5.273539025,
                        "learn": [
                          1,
                          0.008257617323
                        ]
                      },
                      {
                        "test": [
                          1,
                          0.007190508828
                        ],
                        "passed_time": 0.1997083098,
                        "iteration": 17,
                        "remaining_time": 5.347744741,
                        "learn": [
                          1,
                          0.007166848752
                        ]
                      },
                      {
                        "test": [
                          1,
                          0.006347898819
                        ],
                        "passed_time": 0.2128763603,
                        "iteration": 18,
                        "remaining_time": 5.389133122,
                        "learn": [
                          1,
                          0.006339708904
                        ]
                      },
                      {
                        "test": [
                          1,
                          0.005396117138
                        ],
                        "passed_time": 0.2245993481,
                        "iteration": 19,
                        "remaining_time": 5.390384355,
                        "learn": [
                          1,
                          0.005389780621
                        ]
                      },
                      {
                        "test": [
                          1,
                          0.004283823514
                        ],
                        "passed_time": 0.2291495196,
                        "iteration": 20,
                        "remaining_time": 5.226791424,
                        "learn": [
                          1,
                          0.004278665577
                        ]
                      },
                      {
                        "test": [
                          1,
                          0.003897018929
                        ],
                        "passed_time": 0.2411429696,
                        "iteration": 21,
                        "remaining_time": 5.239379066,
                        "learn": [
                          1,
                          0.003888730269
                        ]
                      }
                    ]
                  },
                  "total_iterations": 500,
                  "passed_iterations": 21
                },
                "path": "catboost_info",
                "name": "catboost_info"
              }
            },
            "_view_module": "catboost-widget",
            "_model_module_version": "^1.0.0",
            "_view_count": null,
            "_view_module_version": "^1.0.0",
            "layout": "IPY_MODEL_db53521a7cca46f5aaf1c7a4ce81f583",
            "_model_module": "catboost-widget"
          }
        }
      }
    }
  },
  "cells": [
    {
      "cell_type": "markdown",
      "metadata": {
        "id": "view-in-github",
        "colab_type": "text"
      },
      "source": [
        "<a href=\"https://colab.research.google.com/github/Nick-FF/Py_Libra_Ext/blob/Kursovoy/class.ipynb\" target=\"_parent\"><img src=\"https://colab.research.google.com/assets/colab-badge.svg\" alt=\"Open In Colab\"/></a>"
      ]
    },
    {
      "cell_type": "code",
      "metadata": {
        "id": "ChmkZ71kuf9-"
      },
      "source": [
        "import numpy as np\n",
        "import pandas as pd\n",
        "from sklearn.model_selection import train_test_split\n",
        "from sklearn.datasets import load_iris\n",
        "import matplotlib.pyplot as plt\n",
        "from matplotlib.colors import ListedColormap"
      ],
      "execution_count": null,
      "outputs": []
    },
    {
      "cell_type": "code",
      "metadata": {
        "id": "ftzkz9P-jNcK"
      },
      "source": [
        "from scipy.stats import shapiro\n",
        "from scipy.stats import probplot\n",
        "from scipy.stats import mannwhitneyu\n",
        "from scipy.stats import chi2_contingency\n",
        "\n",
        "import seaborn as sns\n",
        "%matplotlib inline"
      ],
      "execution_count": null,
      "outputs": []
    },
    {
      "cell_type": "code",
      "metadata": {
        "id": "g9qpJusWjMWj"
      },
      "source": [
        "import warnings\n",
        "warnings.simplefilter('ignore')"
      ],
      "execution_count": null,
      "outputs": []
    },
    {
      "cell_type": "code",
      "metadata": {
        "colab": {
          "base_uri": "https://localhost:8080/"
        },
        "id": "cYG9spcFT8OD",
        "outputId": "531a19e7-6251-4ca5-eca1-90f7227ea5fa"
      },
      "source": [
        "from google.colab import drive\n",
        "drive.mount('/content/drive')\n",
        "df_full = pd.read_csv('/train.csv', sep=',')"
      ],
      "execution_count": null,
      "outputs": [
        {
          "output_type": "stream",
          "name": "stdout",
          "text": [
            "Drive already mounted at /content/drive; to attempt to forcibly remount, call drive.mount(\"/content/drive\", force_remount=True).\n"
          ]
        }
      ]
    },
    {
      "cell_type": "code",
      "metadata": {
        "colab": {
          "base_uri": "https://localhost:8080/",
          "height": 669
        },
        "id": "K1Z-gG7a-Nvw",
        "outputId": "81552c49-b4d0-47d3-af44-37cb8ceb7e06"
      },
      "source": [
        "df_full"
      ],
      "execution_count": null,
      "outputs": [
        {
          "output_type": "execute_result",
          "data": {
            "text/html": [
              "<div>\n",
              "<style scoped>\n",
              "    .dataframe tbody tr th:only-of-type {\n",
              "        vertical-align: middle;\n",
              "    }\n",
              "\n",
              "    .dataframe tbody tr th {\n",
              "        vertical-align: top;\n",
              "    }\n",
              "\n",
              "    .dataframe thead th {\n",
              "        text-align: right;\n",
              "    }\n",
              "</style>\n",
              "<table border=\"1\" class=\"dataframe\">\n",
              "  <thead>\n",
              "    <tr style=\"text-align: right;\">\n",
              "      <th></th>\n",
              "      <th>Home Ownership</th>\n",
              "      <th>Annual Income</th>\n",
              "      <th>Years in current job</th>\n",
              "      <th>Tax Liens</th>\n",
              "      <th>Number of Open Accounts</th>\n",
              "      <th>Years of Credit History</th>\n",
              "      <th>Maximum Open Credit</th>\n",
              "      <th>Number of Credit Problems</th>\n",
              "      <th>Months since last delinquent</th>\n",
              "      <th>Bankruptcies</th>\n",
              "      <th>Purpose</th>\n",
              "      <th>Term</th>\n",
              "      <th>Current Loan Amount</th>\n",
              "      <th>Current Credit Balance</th>\n",
              "      <th>Monthly Debt</th>\n",
              "      <th>Credit Score</th>\n",
              "      <th>Credit Default</th>\n",
              "    </tr>\n",
              "  </thead>\n",
              "  <tbody>\n",
              "    <tr>\n",
              "      <th>0</th>\n",
              "      <td>Own Home</td>\n",
              "      <td>482087.0</td>\n",
              "      <td>NaN</td>\n",
              "      <td>0.0</td>\n",
              "      <td>11.0</td>\n",
              "      <td>26.3</td>\n",
              "      <td>685960.0</td>\n",
              "      <td>1.0</td>\n",
              "      <td>NaN</td>\n",
              "      <td>1.0</td>\n",
              "      <td>debt consolidation</td>\n",
              "      <td>Short Term</td>\n",
              "      <td>99999999.0</td>\n",
              "      <td>47386.0</td>\n",
              "      <td>7914.0</td>\n",
              "      <td>749.0</td>\n",
              "      <td>0</td>\n",
              "    </tr>\n",
              "    <tr>\n",
              "      <th>1</th>\n",
              "      <td>Own Home</td>\n",
              "      <td>1025487.0</td>\n",
              "      <td>10+ years</td>\n",
              "      <td>0.0</td>\n",
              "      <td>15.0</td>\n",
              "      <td>15.3</td>\n",
              "      <td>1181730.0</td>\n",
              "      <td>0.0</td>\n",
              "      <td>NaN</td>\n",
              "      <td>0.0</td>\n",
              "      <td>debt consolidation</td>\n",
              "      <td>Long Term</td>\n",
              "      <td>264968.0</td>\n",
              "      <td>394972.0</td>\n",
              "      <td>18373.0</td>\n",
              "      <td>737.0</td>\n",
              "      <td>1</td>\n",
              "    </tr>\n",
              "    <tr>\n",
              "      <th>2</th>\n",
              "      <td>Home Mortgage</td>\n",
              "      <td>751412.0</td>\n",
              "      <td>8 years</td>\n",
              "      <td>0.0</td>\n",
              "      <td>11.0</td>\n",
              "      <td>35.0</td>\n",
              "      <td>1182434.0</td>\n",
              "      <td>0.0</td>\n",
              "      <td>NaN</td>\n",
              "      <td>0.0</td>\n",
              "      <td>debt consolidation</td>\n",
              "      <td>Short Term</td>\n",
              "      <td>99999999.0</td>\n",
              "      <td>308389.0</td>\n",
              "      <td>13651.0</td>\n",
              "      <td>742.0</td>\n",
              "      <td>0</td>\n",
              "    </tr>\n",
              "    <tr>\n",
              "      <th>3</th>\n",
              "      <td>Own Home</td>\n",
              "      <td>805068.0</td>\n",
              "      <td>6 years</td>\n",
              "      <td>0.0</td>\n",
              "      <td>8.0</td>\n",
              "      <td>22.5</td>\n",
              "      <td>147400.0</td>\n",
              "      <td>1.0</td>\n",
              "      <td>NaN</td>\n",
              "      <td>1.0</td>\n",
              "      <td>debt consolidation</td>\n",
              "      <td>Short Term</td>\n",
              "      <td>121396.0</td>\n",
              "      <td>95855.0</td>\n",
              "      <td>11338.0</td>\n",
              "      <td>694.0</td>\n",
              "      <td>0</td>\n",
              "    </tr>\n",
              "    <tr>\n",
              "      <th>4</th>\n",
              "      <td>Rent</td>\n",
              "      <td>776264.0</td>\n",
              "      <td>8 years</td>\n",
              "      <td>0.0</td>\n",
              "      <td>13.0</td>\n",
              "      <td>13.6</td>\n",
              "      <td>385836.0</td>\n",
              "      <td>1.0</td>\n",
              "      <td>NaN</td>\n",
              "      <td>0.0</td>\n",
              "      <td>debt consolidation</td>\n",
              "      <td>Short Term</td>\n",
              "      <td>125840.0</td>\n",
              "      <td>93309.0</td>\n",
              "      <td>7180.0</td>\n",
              "      <td>719.0</td>\n",
              "      <td>0</td>\n",
              "    </tr>\n",
              "    <tr>\n",
              "      <th>...</th>\n",
              "      <td>...</td>\n",
              "      <td>...</td>\n",
              "      <td>...</td>\n",
              "      <td>...</td>\n",
              "      <td>...</td>\n",
              "      <td>...</td>\n",
              "      <td>...</td>\n",
              "      <td>...</td>\n",
              "      <td>...</td>\n",
              "      <td>...</td>\n",
              "      <td>...</td>\n",
              "      <td>...</td>\n",
              "      <td>...</td>\n",
              "      <td>...</td>\n",
              "      <td>...</td>\n",
              "      <td>...</td>\n",
              "      <td>...</td>\n",
              "    </tr>\n",
              "    <tr>\n",
              "      <th>7495</th>\n",
              "      <td>Rent</td>\n",
              "      <td>402192.0</td>\n",
              "      <td>&lt; 1 year</td>\n",
              "      <td>0.0</td>\n",
              "      <td>3.0</td>\n",
              "      <td>8.5</td>\n",
              "      <td>107866.0</td>\n",
              "      <td>0.0</td>\n",
              "      <td>NaN</td>\n",
              "      <td>0.0</td>\n",
              "      <td>other</td>\n",
              "      <td>Short Term</td>\n",
              "      <td>129360.0</td>\n",
              "      <td>73492.0</td>\n",
              "      <td>1900.0</td>\n",
              "      <td>697.0</td>\n",
              "      <td>0</td>\n",
              "    </tr>\n",
              "    <tr>\n",
              "      <th>7496</th>\n",
              "      <td>Home Mortgage</td>\n",
              "      <td>1533984.0</td>\n",
              "      <td>1 year</td>\n",
              "      <td>0.0</td>\n",
              "      <td>10.0</td>\n",
              "      <td>26.5</td>\n",
              "      <td>686312.0</td>\n",
              "      <td>0.0</td>\n",
              "      <td>43.0</td>\n",
              "      <td>0.0</td>\n",
              "      <td>debt consolidation</td>\n",
              "      <td>Long Term</td>\n",
              "      <td>444048.0</td>\n",
              "      <td>456399.0</td>\n",
              "      <td>12783.0</td>\n",
              "      <td>7410.0</td>\n",
              "      <td>1</td>\n",
              "    </tr>\n",
              "    <tr>\n",
              "      <th>7497</th>\n",
              "      <td>Rent</td>\n",
              "      <td>1878910.0</td>\n",
              "      <td>6 years</td>\n",
              "      <td>0.0</td>\n",
              "      <td>12.0</td>\n",
              "      <td>32.1</td>\n",
              "      <td>1778920.0</td>\n",
              "      <td>0.0</td>\n",
              "      <td>NaN</td>\n",
              "      <td>0.0</td>\n",
              "      <td>buy a car</td>\n",
              "      <td>Short Term</td>\n",
              "      <td>99999999.0</td>\n",
              "      <td>477812.0</td>\n",
              "      <td>12479.0</td>\n",
              "      <td>748.0</td>\n",
              "      <td>0</td>\n",
              "    </tr>\n",
              "    <tr>\n",
              "      <th>7498</th>\n",
              "      <td>Home Mortgage</td>\n",
              "      <td>NaN</td>\n",
              "      <td>NaN</td>\n",
              "      <td>0.0</td>\n",
              "      <td>21.0</td>\n",
              "      <td>26.5</td>\n",
              "      <td>1141250.0</td>\n",
              "      <td>0.0</td>\n",
              "      <td>NaN</td>\n",
              "      <td>0.0</td>\n",
              "      <td>debt consolidation</td>\n",
              "      <td>Short Term</td>\n",
              "      <td>615274.0</td>\n",
              "      <td>476064.0</td>\n",
              "      <td>37118.0</td>\n",
              "      <td>NaN</td>\n",
              "      <td>0</td>\n",
              "    </tr>\n",
              "    <tr>\n",
              "      <th>7499</th>\n",
              "      <td>Rent</td>\n",
              "      <td>NaN</td>\n",
              "      <td>4 years</td>\n",
              "      <td>0.0</td>\n",
              "      <td>8.0</td>\n",
              "      <td>9.4</td>\n",
              "      <td>480832.0</td>\n",
              "      <td>0.0</td>\n",
              "      <td>NaN</td>\n",
              "      <td>0.0</td>\n",
              "      <td>debt consolidation</td>\n",
              "      <td>Short Term</td>\n",
              "      <td>26928.0</td>\n",
              "      <td>288192.0</td>\n",
              "      <td>9061.0</td>\n",
              "      <td>NaN</td>\n",
              "      <td>0</td>\n",
              "    </tr>\n",
              "  </tbody>\n",
              "</table>\n",
              "<p>7500 rows × 17 columns</p>\n",
              "</div>"
            ],
            "text/plain": [
              "     Home Ownership  Annual Income  ... Credit Score  Credit Default\n",
              "0          Own Home       482087.0  ...        749.0               0\n",
              "1          Own Home      1025487.0  ...        737.0               1\n",
              "2     Home Mortgage       751412.0  ...        742.0               0\n",
              "3          Own Home       805068.0  ...        694.0               0\n",
              "4              Rent       776264.0  ...        719.0               0\n",
              "...             ...            ...  ...          ...             ...\n",
              "7495           Rent       402192.0  ...        697.0               0\n",
              "7496  Home Mortgage      1533984.0  ...       7410.0               1\n",
              "7497           Rent      1878910.0  ...        748.0               0\n",
              "7498  Home Mortgage            NaN  ...          NaN               0\n",
              "7499           Rent            NaN  ...          NaN               0\n",
              "\n",
              "[7500 rows x 17 columns]"
            ]
          },
          "metadata": {},
          "execution_count": 6
        }
      ]
    },
    {
      "cell_type": "code",
      "metadata": {
        "colab": {
          "base_uri": "https://localhost:8080/"
        },
        "id": "V30Rom_gGE_c",
        "outputId": "b0f50671-5067-453e-85d0-d5a3ef6288b4"
      },
      "source": [
        "df_full.dtypes"
      ],
      "execution_count": null,
      "outputs": [
        {
          "output_type": "execute_result",
          "data": {
            "text/plain": [
              "Home Ownership                   object\n",
              "Annual Income                   float64\n",
              "Years in current job             object\n",
              "Tax Liens                       float64\n",
              "Number of Open Accounts         float64\n",
              "Years of Credit History         float64\n",
              "Maximum Open Credit             float64\n",
              "Number of Credit Problems       float64\n",
              "Months since last delinquent    float64\n",
              "Bankruptcies                    float64\n",
              "Purpose                          object\n",
              "Term                             object\n",
              "Current Loan Amount             float64\n",
              "Current Credit Balance          float64\n",
              "Monthly Debt                    float64\n",
              "Credit Score                    float64\n",
              "Credit Default                    int64\n",
              "dtype: object"
            ]
          },
          "metadata": {},
          "execution_count": 7
        }
      ]
    },
    {
      "cell_type": "code",
      "metadata": {
        "id": "Gmj7ZzeoGMvE"
      },
      "source": [
        "def reduce_mem_usage(df):\n",
        "    \"\"\" iterate through all the columns of a dataframe and modify the data type\n",
        "        to reduce memory usage.        \n",
        "    \"\"\"\n",
        "    start_mem = df.memory_usage().sum() / 1024**2\n",
        "    print('Memory usage of dataframe is {:.2f} MB'.format(start_mem))\n",
        "    \n",
        "    for col in df.columns:\n",
        "        col_type = df[col].dtype\n",
        "        \n",
        "        if col_type != object:\n",
        "            c_min = df[col].min()\n",
        "            c_max = df[col].max()\n",
        "            # if str(col_type)[:3] == 'flo'and (c_min *10)%10 == 0 and (c_max *10)%10 == 0:\n",
        "            #   df[col] = df[col].astype(np.int64)\n",
        "\n",
        "            if str(col_type)[:3] == 'int':\n",
        "                if c_min > np.iinfo(np.int8).min and c_max < np.iinfo(np.int8).max:\n",
        "                    df[col] = df[col].astype(np.int8)\n",
        "                elif c_min > np.iinfo(np.int16).min and c_max < np.iinfo(np.int16).max:\n",
        "                    df[col] = df[col].astype(np.int16)\n",
        "                elif c_min > np.iinfo(np.int32).min and c_max < np.iinfo(np.int32).max:\n",
        "                    df[col] = df[col].astype(np.int32)\n",
        "                elif c_min > np.iinfo(np.int64).min and c_max < np.iinfo(np.int64).max:\n",
        "                    df[col] = df[col].astype(np.int64)  \n",
        "            else:\n",
        "                if c_min > np.finfo(np.float32).min and c_max < np.finfo(np.float32).max:\n",
        "                    df[col] = df[col].astype(np.float32)\n",
        "                else:\n",
        "                    df[col] = df[col].astype(np.float64)\n",
        "        else:\n",
        "            df[col] = df[col].astype('category')\n",
        "\n",
        "    end_mem = df.memory_usage().sum() / 1024**2\n",
        "    print('Memory usage after optimization is: {:.2f} MB'.format(end_mem))\n",
        "    print('Decreased by {:.1f}%'.format(100 * (start_mem - end_mem) / start_mem))\n",
        "    \n",
        "    return df"
      ],
      "execution_count": null,
      "outputs": []
    },
    {
      "cell_type": "code",
      "metadata": {
        "colab": {
          "base_uri": "https://localhost:8080/",
          "height": 420
        },
        "id": "cqwD3AaTGaoY",
        "outputId": "8e317b84-cf00-42ed-f555-7fb144ddd38e"
      },
      "source": [
        "train_df = reduce_mem_usage(df_full)\n",
        "train_df.head()"
      ],
      "execution_count": null,
      "outputs": [
        {
          "output_type": "stream",
          "name": "stdout",
          "text": [
            "Memory usage of dataframe is 0.97 MB\n",
            "Memory usage after optimization is: 0.38 MB\n",
            "Decreased by 60.9%\n"
          ]
        },
        {
          "output_type": "execute_result",
          "data": {
            "text/html": [
              "<div>\n",
              "<style scoped>\n",
              "    .dataframe tbody tr th:only-of-type {\n",
              "        vertical-align: middle;\n",
              "    }\n",
              "\n",
              "    .dataframe tbody tr th {\n",
              "        vertical-align: top;\n",
              "    }\n",
              "\n",
              "    .dataframe thead th {\n",
              "        text-align: right;\n",
              "    }\n",
              "</style>\n",
              "<table border=\"1\" class=\"dataframe\">\n",
              "  <thead>\n",
              "    <tr style=\"text-align: right;\">\n",
              "      <th></th>\n",
              "      <th>Home Ownership</th>\n",
              "      <th>Annual Income</th>\n",
              "      <th>Years in current job</th>\n",
              "      <th>Tax Liens</th>\n",
              "      <th>Number of Open Accounts</th>\n",
              "      <th>Years of Credit History</th>\n",
              "      <th>Maximum Open Credit</th>\n",
              "      <th>Number of Credit Problems</th>\n",
              "      <th>Months since last delinquent</th>\n",
              "      <th>Bankruptcies</th>\n",
              "      <th>Purpose</th>\n",
              "      <th>Term</th>\n",
              "      <th>Current Loan Amount</th>\n",
              "      <th>Current Credit Balance</th>\n",
              "      <th>Monthly Debt</th>\n",
              "      <th>Credit Score</th>\n",
              "      <th>Credit Default</th>\n",
              "    </tr>\n",
              "  </thead>\n",
              "  <tbody>\n",
              "    <tr>\n",
              "      <th>0</th>\n",
              "      <td>Own Home</td>\n",
              "      <td>482087.0</td>\n",
              "      <td>NaN</td>\n",
              "      <td>0.0</td>\n",
              "      <td>11.0</td>\n",
              "      <td>26.299999</td>\n",
              "      <td>685960.0</td>\n",
              "      <td>1.0</td>\n",
              "      <td>NaN</td>\n",
              "      <td>1.0</td>\n",
              "      <td>debt consolidation</td>\n",
              "      <td>Short Term</td>\n",
              "      <td>100000000.0</td>\n",
              "      <td>47386.0</td>\n",
              "      <td>7914.0</td>\n",
              "      <td>749.0</td>\n",
              "      <td>0</td>\n",
              "    </tr>\n",
              "    <tr>\n",
              "      <th>1</th>\n",
              "      <td>Own Home</td>\n",
              "      <td>1025487.0</td>\n",
              "      <td>10+ years</td>\n",
              "      <td>0.0</td>\n",
              "      <td>15.0</td>\n",
              "      <td>15.300000</td>\n",
              "      <td>1181730.0</td>\n",
              "      <td>0.0</td>\n",
              "      <td>NaN</td>\n",
              "      <td>0.0</td>\n",
              "      <td>debt consolidation</td>\n",
              "      <td>Long Term</td>\n",
              "      <td>264968.0</td>\n",
              "      <td>394972.0</td>\n",
              "      <td>18373.0</td>\n",
              "      <td>737.0</td>\n",
              "      <td>1</td>\n",
              "    </tr>\n",
              "    <tr>\n",
              "      <th>2</th>\n",
              "      <td>Home Mortgage</td>\n",
              "      <td>751412.0</td>\n",
              "      <td>8 years</td>\n",
              "      <td>0.0</td>\n",
              "      <td>11.0</td>\n",
              "      <td>35.000000</td>\n",
              "      <td>1182434.0</td>\n",
              "      <td>0.0</td>\n",
              "      <td>NaN</td>\n",
              "      <td>0.0</td>\n",
              "      <td>debt consolidation</td>\n",
              "      <td>Short Term</td>\n",
              "      <td>100000000.0</td>\n",
              "      <td>308389.0</td>\n",
              "      <td>13651.0</td>\n",
              "      <td>742.0</td>\n",
              "      <td>0</td>\n",
              "    </tr>\n",
              "    <tr>\n",
              "      <th>3</th>\n",
              "      <td>Own Home</td>\n",
              "      <td>805068.0</td>\n",
              "      <td>6 years</td>\n",
              "      <td>0.0</td>\n",
              "      <td>8.0</td>\n",
              "      <td>22.500000</td>\n",
              "      <td>147400.0</td>\n",
              "      <td>1.0</td>\n",
              "      <td>NaN</td>\n",
              "      <td>1.0</td>\n",
              "      <td>debt consolidation</td>\n",
              "      <td>Short Term</td>\n",
              "      <td>121396.0</td>\n",
              "      <td>95855.0</td>\n",
              "      <td>11338.0</td>\n",
              "      <td>694.0</td>\n",
              "      <td>0</td>\n",
              "    </tr>\n",
              "    <tr>\n",
              "      <th>4</th>\n",
              "      <td>Rent</td>\n",
              "      <td>776264.0</td>\n",
              "      <td>8 years</td>\n",
              "      <td>0.0</td>\n",
              "      <td>13.0</td>\n",
              "      <td>13.600000</td>\n",
              "      <td>385836.0</td>\n",
              "      <td>1.0</td>\n",
              "      <td>NaN</td>\n",
              "      <td>0.0</td>\n",
              "      <td>debt consolidation</td>\n",
              "      <td>Short Term</td>\n",
              "      <td>125840.0</td>\n",
              "      <td>93309.0</td>\n",
              "      <td>7180.0</td>\n",
              "      <td>719.0</td>\n",
              "      <td>0</td>\n",
              "    </tr>\n",
              "  </tbody>\n",
              "</table>\n",
              "</div>"
            ],
            "text/plain": [
              "  Home Ownership  Annual Income  ... Credit Score  Credit Default\n",
              "0       Own Home       482087.0  ...        749.0               0\n",
              "1       Own Home      1025487.0  ...        737.0               1\n",
              "2  Home Mortgage       751412.0  ...        742.0               0\n",
              "3       Own Home       805068.0  ...        694.0               0\n",
              "4           Rent       776264.0  ...        719.0               0\n",
              "\n",
              "[5 rows x 17 columns]"
            ]
          },
          "metadata": {},
          "execution_count": 9
        }
      ]
    },
    {
      "cell_type": "code",
      "metadata": {
        "colab": {
          "base_uri": "https://localhost:8080/"
        },
        "id": "rgfVT36nU2gI",
        "outputId": "855279b9-bb88-4c01-e046-6758ad54b4da"
      },
      "source": [
        "df_full.dtypes"
      ],
      "execution_count": null,
      "outputs": [
        {
          "output_type": "execute_result",
          "data": {
            "text/plain": [
              "Home Ownership                  category\n",
              "Annual Income                    float32\n",
              "Years in current job            category\n",
              "Tax Liens                        float32\n",
              "Number of Open Accounts          float32\n",
              "Years of Credit History          float32\n",
              "Maximum Open Credit              float32\n",
              "Number of Credit Problems        float32\n",
              "Months since last delinquent     float32\n",
              "Bankruptcies                     float32\n",
              "Purpose                         category\n",
              "Term                            category\n",
              "Current Loan Amount              float32\n",
              "Current Credit Balance           float32\n",
              "Monthly Debt                     float32\n",
              "Credit Score                     float32\n",
              "Credit Default                      int8\n",
              "dtype: object"
            ]
          },
          "metadata": {},
          "execution_count": 10
        }
      ]
    },
    {
      "cell_type": "markdown",
      "metadata": {
        "id": "jWkc2pdMIhEy"
      },
      "source": [
        "#Обзор данных#\n",
        "Обзор целевой переменной"
      ]
    },
    {
      "cell_type": "code",
      "metadata": {
        "colab": {
          "base_uri": "https://localhost:8080/"
        },
        "id": "6S6lreEEDgyW",
        "outputId": "f5d4cc8c-01ba-4a6a-8ffb-740647dcdd46"
      },
      "source": [
        "df_full['Credit Default'].value_counts()"
      ],
      "execution_count": null,
      "outputs": [
        {
          "output_type": "execute_result",
          "data": {
            "text/plain": [
              "0    5387\n",
              "1    2113\n",
              "Name: Credit Default, dtype: int64"
            ]
          },
          "metadata": {},
          "execution_count": 11
        }
      ]
    },
    {
      "cell_type": "markdown",
      "metadata": {
        "id": "xOT8x2CVJHRX"
      },
      "source": [
        "Обзор количественных признаков"
      ]
    },
    {
      "cell_type": "code",
      "metadata": {
        "colab": {
          "base_uri": "https://localhost:8080/",
          "height": 372
        },
        "id": "BfgGPXJgJO8S",
        "outputId": "5ac75b74-8717-41a1-92a5-0734161d4cad"
      },
      "source": [
        "df_full.describe()"
      ],
      "execution_count": null,
      "outputs": [
        {
          "output_type": "execute_result",
          "data": {
            "text/html": [
              "<div>\n",
              "<style scoped>\n",
              "    .dataframe tbody tr th:only-of-type {\n",
              "        vertical-align: middle;\n",
              "    }\n",
              "\n",
              "    .dataframe tbody tr th {\n",
              "        vertical-align: top;\n",
              "    }\n",
              "\n",
              "    .dataframe thead th {\n",
              "        text-align: right;\n",
              "    }\n",
              "</style>\n",
              "<table border=\"1\" class=\"dataframe\">\n",
              "  <thead>\n",
              "    <tr style=\"text-align: right;\">\n",
              "      <th></th>\n",
              "      <th>Annual Income</th>\n",
              "      <th>Tax Liens</th>\n",
              "      <th>Number of Open Accounts</th>\n",
              "      <th>Years of Credit History</th>\n",
              "      <th>Maximum Open Credit</th>\n",
              "      <th>Number of Credit Problems</th>\n",
              "      <th>Months since last delinquent</th>\n",
              "      <th>Bankruptcies</th>\n",
              "      <th>Current Loan Amount</th>\n",
              "      <th>Current Credit Balance</th>\n",
              "      <th>Monthly Debt</th>\n",
              "      <th>Credit Score</th>\n",
              "      <th>Credit Default</th>\n",
              "    </tr>\n",
              "  </thead>\n",
              "  <tbody>\n",
              "    <tr>\n",
              "      <th>count</th>\n",
              "      <td>5.943000e+03</td>\n",
              "      <td>7500.000000</td>\n",
              "      <td>7500.000000</td>\n",
              "      <td>7500.000000</td>\n",
              "      <td>7.500000e+03</td>\n",
              "      <td>7500.0000</td>\n",
              "      <td>3419.000000</td>\n",
              "      <td>7486.000000</td>\n",
              "      <td>7500.0</td>\n",
              "      <td>7.500000e+03</td>\n",
              "      <td>7500.000000</td>\n",
              "      <td>5943.000000</td>\n",
              "      <td>7500.000000</td>\n",
              "    </tr>\n",
              "    <tr>\n",
              "      <th>mean</th>\n",
              "      <td>1.366390e+06</td>\n",
              "      <td>0.030133</td>\n",
              "      <td>11.130934</td>\n",
              "      <td>18.317446</td>\n",
              "      <td>9.451526e+05</td>\n",
              "      <td>0.1700</td>\n",
              "      <td>34.692600</td>\n",
              "      <td>0.117152</td>\n",
              "      <td>11873135.0</td>\n",
              "      <td>2.898332e+05</td>\n",
              "      <td>18314.453125</td>\n",
              "      <td>1151.087524</td>\n",
              "      <td>0.281733</td>\n",
              "    </tr>\n",
              "    <tr>\n",
              "      <th>std</th>\n",
              "      <td>8.453384e+05</td>\n",
              "      <td>0.271613</td>\n",
              "      <td>4.908937</td>\n",
              "      <td>7.041938</td>\n",
              "      <td>1.602614e+07</td>\n",
              "      <td>0.4986</td>\n",
              "      <td>21.688801</td>\n",
              "      <td>0.347197</td>\n",
              "      <td>31926302.0</td>\n",
              "      <td>3.178713e+05</td>\n",
              "      <td>11926.758789</td>\n",
              "      <td>1604.447510</td>\n",
              "      <td>0.449874</td>\n",
              "    </tr>\n",
              "    <tr>\n",
              "      <th>min</th>\n",
              "      <td>1.645970e+05</td>\n",
              "      <td>0.000000</td>\n",
              "      <td>2.000000</td>\n",
              "      <td>4.000000</td>\n",
              "      <td>0.000000e+00</td>\n",
              "      <td>0.0000</td>\n",
              "      <td>0.000000</td>\n",
              "      <td>0.000000</td>\n",
              "      <td>11242.0</td>\n",
              "      <td>0.000000e+00</td>\n",
              "      <td>0.000000</td>\n",
              "      <td>585.000000</td>\n",
              "      <td>0.000000</td>\n",
              "    </tr>\n",
              "    <tr>\n",
              "      <th>25%</th>\n",
              "      <td>8.443410e+05</td>\n",
              "      <td>0.000000</td>\n",
              "      <td>8.000000</td>\n",
              "      <td>13.500000</td>\n",
              "      <td>2.792295e+05</td>\n",
              "      <td>0.0000</td>\n",
              "      <td>16.000000</td>\n",
              "      <td>0.000000</td>\n",
              "      <td>180169.0</td>\n",
              "      <td>1.142565e+05</td>\n",
              "      <td>10067.500000</td>\n",
              "      <td>711.000000</td>\n",
              "      <td>0.000000</td>\n",
              "    </tr>\n",
              "    <tr>\n",
              "      <th>50%</th>\n",
              "      <td>1.168386e+06</td>\n",
              "      <td>0.000000</td>\n",
              "      <td>10.000000</td>\n",
              "      <td>17.000000</td>\n",
              "      <td>4.781590e+05</td>\n",
              "      <td>0.0000</td>\n",
              "      <td>32.000000</td>\n",
              "      <td>0.000000</td>\n",
              "      <td>309573.0</td>\n",
              "      <td>2.093230e+05</td>\n",
              "      <td>16076.500000</td>\n",
              "      <td>731.000000</td>\n",
              "      <td>0.000000</td>\n",
              "    </tr>\n",
              "    <tr>\n",
              "      <th>75%</th>\n",
              "      <td>1.640137e+06</td>\n",
              "      <td>0.000000</td>\n",
              "      <td>14.000000</td>\n",
              "      <td>21.799999</td>\n",
              "      <td>7.935015e+05</td>\n",
              "      <td>0.0000</td>\n",
              "      <td>50.000000</td>\n",
              "      <td>0.000000</td>\n",
              "      <td>519882.0</td>\n",
              "      <td>3.604062e+05</td>\n",
              "      <td>23818.000000</td>\n",
              "      <td>743.000000</td>\n",
              "      <td>1.000000</td>\n",
              "    </tr>\n",
              "    <tr>\n",
              "      <th>max</th>\n",
              "      <td>1.014934e+07</td>\n",
              "      <td>7.000000</td>\n",
              "      <td>43.000000</td>\n",
              "      <td>57.700001</td>\n",
              "      <td>1.304726e+09</td>\n",
              "      <td>7.0000</td>\n",
              "      <td>118.000000</td>\n",
              "      <td>4.000000</td>\n",
              "      <td>100000000.0</td>\n",
              "      <td>6.506797e+06</td>\n",
              "      <td>136679.000000</td>\n",
              "      <td>7510.000000</td>\n",
              "      <td>1.000000</td>\n",
              "    </tr>\n",
              "  </tbody>\n",
              "</table>\n",
              "</div>"
            ],
            "text/plain": [
              "       Annual Income    Tax Liens  ...  Credit Score  Credit Default\n",
              "count   5.943000e+03  7500.000000  ...   5943.000000     7500.000000\n",
              "mean    1.366390e+06     0.030133  ...   1151.087524        0.281733\n",
              "std     8.453384e+05     0.271613  ...   1604.447510        0.449874\n",
              "min     1.645970e+05     0.000000  ...    585.000000        0.000000\n",
              "25%     8.443410e+05     0.000000  ...    711.000000        0.000000\n",
              "50%     1.168386e+06     0.000000  ...    731.000000        0.000000\n",
              "75%     1.640137e+06     0.000000  ...    743.000000        1.000000\n",
              "max     1.014934e+07     7.000000  ...   7510.000000        1.000000\n",
              "\n",
              "[8 rows x 13 columns]"
            ]
          },
          "metadata": {},
          "execution_count": 12
        }
      ]
    },
    {
      "cell_type": "markdown",
      "metadata": {
        "id": "0xxrDdvaQEKA"
      },
      "source": [
        "Обзор номинативных признаков"
      ]
    },
    {
      "cell_type": "code",
      "metadata": {
        "colab": {
          "base_uri": "https://localhost:8080/"
        },
        "id": "tayQUIEXQDvI",
        "outputId": "4236d2e3-fa50-4c15-bc78-132d44b1e432"
      },
      "source": [
        "for cat_colname in df_full.select_dtypes(include='category').columns:\n",
        "    print(str(cat_colname) + '\\n\\n' + str(df_full[cat_colname].value_counts()) + '\\n' + '*' * 100 + '\\n')"
      ],
      "execution_count": null,
      "outputs": [
        {
          "output_type": "stream",
          "name": "stdout",
          "text": [
            "Home Ownership\n",
            "\n",
            "Home Mortgage    3637\n",
            "Rent             3204\n",
            "Own Home          647\n",
            "Have Mortgage      12\n",
            "Name: Home Ownership, dtype: int64\n",
            "****************************************************************************************************\n",
            "\n",
            "Years in current job\n",
            "\n",
            "10+ years    2332\n",
            "2 years       705\n",
            "3 years       620\n",
            "< 1 year      563\n",
            "5 years       516\n",
            "1 year        504\n",
            "4 years       469\n",
            "6 years       426\n",
            "7 years       396\n",
            "8 years       339\n",
            "9 years       259\n",
            "Name: Years in current job, dtype: int64\n",
            "****************************************************************************************************\n",
            "\n",
            "Purpose\n",
            "\n",
            "debt consolidation      5944\n",
            "other                    665\n",
            "home improvements        412\n",
            "business loan            129\n",
            "buy a car                 96\n",
            "medical bills             71\n",
            "major purchase            40\n",
            "take a trip               37\n",
            "buy house                 34\n",
            "small business            26\n",
            "wedding                   15\n",
            "moving                    11\n",
            "educational expenses      10\n",
            "vacation                   8\n",
            "renewable energy           2\n",
            "Name: Purpose, dtype: int64\n",
            "****************************************************************************************************\n",
            "\n",
            "Term\n",
            "\n",
            "Short Term    5556\n",
            "Long Term     1944\n",
            "Name: Term, dtype: int64\n",
            "****************************************************************************************************\n",
            "\n"
          ]
        }
      ]
    },
    {
      "cell_type": "markdown",
      "metadata": {
        "id": "EDQLQAYTXGhJ"
      },
      "source": [
        "Обработка пропусков"
      ]
    },
    {
      "cell_type": "code",
      "metadata": {
        "colab": {
          "base_uri": "https://localhost:8080/"
        },
        "id": "Ig8eT23GXHLM",
        "outputId": "07da4a35-56f1-4c62-d8ef-d314784fa5bf"
      },
      "source": [
        "len(df_full) - df_full.count()"
      ],
      "execution_count": null,
      "outputs": [
        {
          "output_type": "execute_result",
          "data": {
            "text/plain": [
              "Home Ownership                     0\n",
              "Annual Income                   1557\n",
              "Years in current job             371\n",
              "Tax Liens                          0\n",
              "Number of Open Accounts            0\n",
              "Years of Credit History            0\n",
              "Maximum Open Credit                0\n",
              "Number of Credit Problems          0\n",
              "Months since last delinquent    4081\n",
              "Bankruptcies                      14\n",
              "Purpose                            0\n",
              "Term                               0\n",
              "Current Loan Amount                0\n",
              "Current Credit Balance             0\n",
              "Monthly Debt                       0\n",
              "Credit Score                    1557\n",
              "Credit Default                     0\n",
              "dtype: int64"
            ]
          },
          "metadata": {},
          "execution_count": 14
        }
      ]
    },
    {
      "cell_type": "code",
      "metadata": {
        "colab": {
          "base_uri": "https://localhost:8080/"
        },
        "id": "EkpoG3R4GsMf",
        "outputId": "b972b1ab-8f90-4d21-c6ae-44d8ad5c38f4"
      },
      "source": [
        "df_full.isna().sum()"
      ],
      "execution_count": null,
      "outputs": [
        {
          "output_type": "execute_result",
          "data": {
            "text/plain": [
              "Home Ownership                     0\n",
              "Annual Income                   1557\n",
              "Years in current job             371\n",
              "Tax Liens                          0\n",
              "Number of Open Accounts            0\n",
              "Years of Credit History            0\n",
              "Maximum Open Credit                0\n",
              "Number of Credit Problems          0\n",
              "Months since last delinquent    4081\n",
              "Bankruptcies                      14\n",
              "Purpose                            0\n",
              "Term                               0\n",
              "Current Loan Amount                0\n",
              "Current Credit Balance             0\n",
              "Monthly Debt                       0\n",
              "Credit Score                    1557\n",
              "Credit Default                     0\n",
              "dtype: int64"
            ]
          },
          "metadata": {},
          "execution_count": 15
        }
      ]
    },
    {
      "cell_type": "code",
      "metadata": {
        "colab": {
          "base_uri": "https://localhost:8080/",
          "height": 669
        },
        "id": "xz75dRRnHqJQ",
        "outputId": "ff3b1e91-8de8-4fc2-ae93-6a4db40e2f72"
      },
      "source": [
        "# df_full.fillna(self.mode()[0], inplace=True)\n",
        "# df_full.loc[df_full['Annual Income'] == 'NaN', 'Annual Income'] = df_full['Annual Income'].mode()[0]\n",
        "# df_full.loc[df_full['Tax Liens'] == '0', 'Tax Liens'] = df_full['Tax Liens'].mode()[0]\n",
        "# df_full['Annual Income'].isna() = df_full['Annual Income'].mean()\n",
        "# df_full['Annual Income'].isna()\n",
        "# df_full['Annual Income'].mode()[0]\n",
        "# df_full.loc[df_full['Years in current job'] == 'NaN', 'Years in current job'] = df_full['Years in current job'].mode()[0]\n",
        "# df_full.loc[df_full['Months since last delinquent'] == 'NaN', 'Months since last delinquent'] = df_full['Months since last delinquent'].mode()[0]\n",
        "# df_full.loc[df_full['Credit Score'] == 'NaN', 'Credit Score'] = df_full['Credit Score'].mode()[0]\n",
        "df_full.fillna(df_full.mean())"
      ],
      "execution_count": null,
      "outputs": [
        {
          "output_type": "execute_result",
          "data": {
            "text/html": [
              "<div>\n",
              "<style scoped>\n",
              "    .dataframe tbody tr th:only-of-type {\n",
              "        vertical-align: middle;\n",
              "    }\n",
              "\n",
              "    .dataframe tbody tr th {\n",
              "        vertical-align: top;\n",
              "    }\n",
              "\n",
              "    .dataframe thead th {\n",
              "        text-align: right;\n",
              "    }\n",
              "</style>\n",
              "<table border=\"1\" class=\"dataframe\">\n",
              "  <thead>\n",
              "    <tr style=\"text-align: right;\">\n",
              "      <th></th>\n",
              "      <th>Home Ownership</th>\n",
              "      <th>Annual Income</th>\n",
              "      <th>Years in current job</th>\n",
              "      <th>Tax Liens</th>\n",
              "      <th>Number of Open Accounts</th>\n",
              "      <th>Years of Credit History</th>\n",
              "      <th>Maximum Open Credit</th>\n",
              "      <th>Number of Credit Problems</th>\n",
              "      <th>Months since last delinquent</th>\n",
              "      <th>Bankruptcies</th>\n",
              "      <th>Purpose</th>\n",
              "      <th>Term</th>\n",
              "      <th>Current Loan Amount</th>\n",
              "      <th>Current Credit Balance</th>\n",
              "      <th>Monthly Debt</th>\n",
              "      <th>Credit Score</th>\n",
              "      <th>Credit Default</th>\n",
              "    </tr>\n",
              "  </thead>\n",
              "  <tbody>\n",
              "    <tr>\n",
              "      <th>0</th>\n",
              "      <td>Own Home</td>\n",
              "      <td>482087.00</td>\n",
              "      <td>NaN</td>\n",
              "      <td>0.0</td>\n",
              "      <td>11.0</td>\n",
              "      <td>26.299999</td>\n",
              "      <td>685960.0</td>\n",
              "      <td>1.0</td>\n",
              "      <td>34.6926</td>\n",
              "      <td>1.0</td>\n",
              "      <td>debt consolidation</td>\n",
              "      <td>Short Term</td>\n",
              "      <td>100000000.0</td>\n",
              "      <td>47386.0</td>\n",
              "      <td>7914.0</td>\n",
              "      <td>749.000000</td>\n",
              "      <td>0</td>\n",
              "    </tr>\n",
              "    <tr>\n",
              "      <th>1</th>\n",
              "      <td>Own Home</td>\n",
              "      <td>1025487.00</td>\n",
              "      <td>10+ years</td>\n",
              "      <td>0.0</td>\n",
              "      <td>15.0</td>\n",
              "      <td>15.300000</td>\n",
              "      <td>1181730.0</td>\n",
              "      <td>0.0</td>\n",
              "      <td>34.6926</td>\n",
              "      <td>0.0</td>\n",
              "      <td>debt consolidation</td>\n",
              "      <td>Long Term</td>\n",
              "      <td>264968.0</td>\n",
              "      <td>394972.0</td>\n",
              "      <td>18373.0</td>\n",
              "      <td>737.000000</td>\n",
              "      <td>1</td>\n",
              "    </tr>\n",
              "    <tr>\n",
              "      <th>2</th>\n",
              "      <td>Home Mortgage</td>\n",
              "      <td>751412.00</td>\n",
              "      <td>8 years</td>\n",
              "      <td>0.0</td>\n",
              "      <td>11.0</td>\n",
              "      <td>35.000000</td>\n",
              "      <td>1182434.0</td>\n",
              "      <td>0.0</td>\n",
              "      <td>34.6926</td>\n",
              "      <td>0.0</td>\n",
              "      <td>debt consolidation</td>\n",
              "      <td>Short Term</td>\n",
              "      <td>100000000.0</td>\n",
              "      <td>308389.0</td>\n",
              "      <td>13651.0</td>\n",
              "      <td>742.000000</td>\n",
              "      <td>0</td>\n",
              "    </tr>\n",
              "    <tr>\n",
              "      <th>3</th>\n",
              "      <td>Own Home</td>\n",
              "      <td>805068.00</td>\n",
              "      <td>6 years</td>\n",
              "      <td>0.0</td>\n",
              "      <td>8.0</td>\n",
              "      <td>22.500000</td>\n",
              "      <td>147400.0</td>\n",
              "      <td>1.0</td>\n",
              "      <td>34.6926</td>\n",
              "      <td>1.0</td>\n",
              "      <td>debt consolidation</td>\n",
              "      <td>Short Term</td>\n",
              "      <td>121396.0</td>\n",
              "      <td>95855.0</td>\n",
              "      <td>11338.0</td>\n",
              "      <td>694.000000</td>\n",
              "      <td>0</td>\n",
              "    </tr>\n",
              "    <tr>\n",
              "      <th>4</th>\n",
              "      <td>Rent</td>\n",
              "      <td>776264.00</td>\n",
              "      <td>8 years</td>\n",
              "      <td>0.0</td>\n",
              "      <td>13.0</td>\n",
              "      <td>13.600000</td>\n",
              "      <td>385836.0</td>\n",
              "      <td>1.0</td>\n",
              "      <td>34.6926</td>\n",
              "      <td>0.0</td>\n",
              "      <td>debt consolidation</td>\n",
              "      <td>Short Term</td>\n",
              "      <td>125840.0</td>\n",
              "      <td>93309.0</td>\n",
              "      <td>7180.0</td>\n",
              "      <td>719.000000</td>\n",
              "      <td>0</td>\n",
              "    </tr>\n",
              "    <tr>\n",
              "      <th>...</th>\n",
              "      <td>...</td>\n",
              "      <td>...</td>\n",
              "      <td>...</td>\n",
              "      <td>...</td>\n",
              "      <td>...</td>\n",
              "      <td>...</td>\n",
              "      <td>...</td>\n",
              "      <td>...</td>\n",
              "      <td>...</td>\n",
              "      <td>...</td>\n",
              "      <td>...</td>\n",
              "      <td>...</td>\n",
              "      <td>...</td>\n",
              "      <td>...</td>\n",
              "      <td>...</td>\n",
              "      <td>...</td>\n",
              "      <td>...</td>\n",
              "    </tr>\n",
              "    <tr>\n",
              "      <th>7495</th>\n",
              "      <td>Rent</td>\n",
              "      <td>402192.00</td>\n",
              "      <td>&lt; 1 year</td>\n",
              "      <td>0.0</td>\n",
              "      <td>3.0</td>\n",
              "      <td>8.500000</td>\n",
              "      <td>107866.0</td>\n",
              "      <td>0.0</td>\n",
              "      <td>34.6926</td>\n",
              "      <td>0.0</td>\n",
              "      <td>other</td>\n",
              "      <td>Short Term</td>\n",
              "      <td>129360.0</td>\n",
              "      <td>73492.0</td>\n",
              "      <td>1900.0</td>\n",
              "      <td>697.000000</td>\n",
              "      <td>0</td>\n",
              "    </tr>\n",
              "    <tr>\n",
              "      <th>7496</th>\n",
              "      <td>Home Mortgage</td>\n",
              "      <td>1533984.00</td>\n",
              "      <td>1 year</td>\n",
              "      <td>0.0</td>\n",
              "      <td>10.0</td>\n",
              "      <td>26.500000</td>\n",
              "      <td>686312.0</td>\n",
              "      <td>0.0</td>\n",
              "      <td>43.0000</td>\n",
              "      <td>0.0</td>\n",
              "      <td>debt consolidation</td>\n",
              "      <td>Long Term</td>\n",
              "      <td>444048.0</td>\n",
              "      <td>456399.0</td>\n",
              "      <td>12783.0</td>\n",
              "      <td>7410.000000</td>\n",
              "      <td>1</td>\n",
              "    </tr>\n",
              "    <tr>\n",
              "      <th>7497</th>\n",
              "      <td>Rent</td>\n",
              "      <td>1878910.00</td>\n",
              "      <td>6 years</td>\n",
              "      <td>0.0</td>\n",
              "      <td>12.0</td>\n",
              "      <td>32.099998</td>\n",
              "      <td>1778920.0</td>\n",
              "      <td>0.0</td>\n",
              "      <td>34.6926</td>\n",
              "      <td>0.0</td>\n",
              "      <td>buy a car</td>\n",
              "      <td>Short Term</td>\n",
              "      <td>100000000.0</td>\n",
              "      <td>477812.0</td>\n",
              "      <td>12479.0</td>\n",
              "      <td>748.000000</td>\n",
              "      <td>0</td>\n",
              "    </tr>\n",
              "    <tr>\n",
              "      <th>7498</th>\n",
              "      <td>Home Mortgage</td>\n",
              "      <td>1366389.75</td>\n",
              "      <td>NaN</td>\n",
              "      <td>0.0</td>\n",
              "      <td>21.0</td>\n",
              "      <td>26.500000</td>\n",
              "      <td>1141250.0</td>\n",
              "      <td>0.0</td>\n",
              "      <td>34.6926</td>\n",
              "      <td>0.0</td>\n",
              "      <td>debt consolidation</td>\n",
              "      <td>Short Term</td>\n",
              "      <td>615274.0</td>\n",
              "      <td>476064.0</td>\n",
              "      <td>37118.0</td>\n",
              "      <td>1151.087524</td>\n",
              "      <td>0</td>\n",
              "    </tr>\n",
              "    <tr>\n",
              "      <th>7499</th>\n",
              "      <td>Rent</td>\n",
              "      <td>1366389.75</td>\n",
              "      <td>4 years</td>\n",
              "      <td>0.0</td>\n",
              "      <td>8.0</td>\n",
              "      <td>9.400000</td>\n",
              "      <td>480832.0</td>\n",
              "      <td>0.0</td>\n",
              "      <td>34.6926</td>\n",
              "      <td>0.0</td>\n",
              "      <td>debt consolidation</td>\n",
              "      <td>Short Term</td>\n",
              "      <td>26928.0</td>\n",
              "      <td>288192.0</td>\n",
              "      <td>9061.0</td>\n",
              "      <td>1151.087524</td>\n",
              "      <td>0</td>\n",
              "    </tr>\n",
              "  </tbody>\n",
              "</table>\n",
              "<p>7500 rows × 17 columns</p>\n",
              "</div>"
            ],
            "text/plain": [
              "     Home Ownership  Annual Income  ... Credit Score  Credit Default\n",
              "0          Own Home      482087.00  ...   749.000000               0\n",
              "1          Own Home     1025487.00  ...   737.000000               1\n",
              "2     Home Mortgage      751412.00  ...   742.000000               0\n",
              "3          Own Home      805068.00  ...   694.000000               0\n",
              "4              Rent      776264.00  ...   719.000000               0\n",
              "...             ...            ...  ...          ...             ...\n",
              "7495           Rent      402192.00  ...   697.000000               0\n",
              "7496  Home Mortgage     1533984.00  ...  7410.000000               1\n",
              "7497           Rent     1878910.00  ...   748.000000               0\n",
              "7498  Home Mortgage     1366389.75  ...  1151.087524               0\n",
              "7499           Rent     1366389.75  ...  1151.087524               0\n",
              "\n",
              "[7500 rows x 17 columns]"
            ]
          },
          "metadata": {},
          "execution_count": 16
        }
      ]
    },
    {
      "cell_type": "code",
      "metadata": {
        "colab": {
          "base_uri": "https://localhost:8080/",
          "height": 669
        },
        "id": "gGeXtFUoIWlJ",
        "outputId": "dd250a23-501c-47fe-c0ba-d91bc745362a"
      },
      "source": [
        "df_full"
      ],
      "execution_count": null,
      "outputs": [
        {
          "output_type": "execute_result",
          "data": {
            "text/html": [
              "<div>\n",
              "<style scoped>\n",
              "    .dataframe tbody tr th:only-of-type {\n",
              "        vertical-align: middle;\n",
              "    }\n",
              "\n",
              "    .dataframe tbody tr th {\n",
              "        vertical-align: top;\n",
              "    }\n",
              "\n",
              "    .dataframe thead th {\n",
              "        text-align: right;\n",
              "    }\n",
              "</style>\n",
              "<table border=\"1\" class=\"dataframe\">\n",
              "  <thead>\n",
              "    <tr style=\"text-align: right;\">\n",
              "      <th></th>\n",
              "      <th>Home Ownership</th>\n",
              "      <th>Annual Income</th>\n",
              "      <th>Years in current job</th>\n",
              "      <th>Tax Liens</th>\n",
              "      <th>Number of Open Accounts</th>\n",
              "      <th>Years of Credit History</th>\n",
              "      <th>Maximum Open Credit</th>\n",
              "      <th>Number of Credit Problems</th>\n",
              "      <th>Months since last delinquent</th>\n",
              "      <th>Bankruptcies</th>\n",
              "      <th>Purpose</th>\n",
              "      <th>Term</th>\n",
              "      <th>Current Loan Amount</th>\n",
              "      <th>Current Credit Balance</th>\n",
              "      <th>Monthly Debt</th>\n",
              "      <th>Credit Score</th>\n",
              "      <th>Credit Default</th>\n",
              "    </tr>\n",
              "  </thead>\n",
              "  <tbody>\n",
              "    <tr>\n",
              "      <th>0</th>\n",
              "      <td>Own Home</td>\n",
              "      <td>482087.0</td>\n",
              "      <td>NaN</td>\n",
              "      <td>0.0</td>\n",
              "      <td>11.0</td>\n",
              "      <td>26.299999</td>\n",
              "      <td>685960.0</td>\n",
              "      <td>1.0</td>\n",
              "      <td>NaN</td>\n",
              "      <td>1.0</td>\n",
              "      <td>debt consolidation</td>\n",
              "      <td>Short Term</td>\n",
              "      <td>100000000.0</td>\n",
              "      <td>47386.0</td>\n",
              "      <td>7914.0</td>\n",
              "      <td>749.0</td>\n",
              "      <td>0</td>\n",
              "    </tr>\n",
              "    <tr>\n",
              "      <th>1</th>\n",
              "      <td>Own Home</td>\n",
              "      <td>1025487.0</td>\n",
              "      <td>10+ years</td>\n",
              "      <td>0.0</td>\n",
              "      <td>15.0</td>\n",
              "      <td>15.300000</td>\n",
              "      <td>1181730.0</td>\n",
              "      <td>0.0</td>\n",
              "      <td>NaN</td>\n",
              "      <td>0.0</td>\n",
              "      <td>debt consolidation</td>\n",
              "      <td>Long Term</td>\n",
              "      <td>264968.0</td>\n",
              "      <td>394972.0</td>\n",
              "      <td>18373.0</td>\n",
              "      <td>737.0</td>\n",
              "      <td>1</td>\n",
              "    </tr>\n",
              "    <tr>\n",
              "      <th>2</th>\n",
              "      <td>Home Mortgage</td>\n",
              "      <td>751412.0</td>\n",
              "      <td>8 years</td>\n",
              "      <td>0.0</td>\n",
              "      <td>11.0</td>\n",
              "      <td>35.000000</td>\n",
              "      <td>1182434.0</td>\n",
              "      <td>0.0</td>\n",
              "      <td>NaN</td>\n",
              "      <td>0.0</td>\n",
              "      <td>debt consolidation</td>\n",
              "      <td>Short Term</td>\n",
              "      <td>100000000.0</td>\n",
              "      <td>308389.0</td>\n",
              "      <td>13651.0</td>\n",
              "      <td>742.0</td>\n",
              "      <td>0</td>\n",
              "    </tr>\n",
              "    <tr>\n",
              "      <th>3</th>\n",
              "      <td>Own Home</td>\n",
              "      <td>805068.0</td>\n",
              "      <td>6 years</td>\n",
              "      <td>0.0</td>\n",
              "      <td>8.0</td>\n",
              "      <td>22.500000</td>\n",
              "      <td>147400.0</td>\n",
              "      <td>1.0</td>\n",
              "      <td>NaN</td>\n",
              "      <td>1.0</td>\n",
              "      <td>debt consolidation</td>\n",
              "      <td>Short Term</td>\n",
              "      <td>121396.0</td>\n",
              "      <td>95855.0</td>\n",
              "      <td>11338.0</td>\n",
              "      <td>694.0</td>\n",
              "      <td>0</td>\n",
              "    </tr>\n",
              "    <tr>\n",
              "      <th>4</th>\n",
              "      <td>Rent</td>\n",
              "      <td>776264.0</td>\n",
              "      <td>8 years</td>\n",
              "      <td>0.0</td>\n",
              "      <td>13.0</td>\n",
              "      <td>13.600000</td>\n",
              "      <td>385836.0</td>\n",
              "      <td>1.0</td>\n",
              "      <td>NaN</td>\n",
              "      <td>0.0</td>\n",
              "      <td>debt consolidation</td>\n",
              "      <td>Short Term</td>\n",
              "      <td>125840.0</td>\n",
              "      <td>93309.0</td>\n",
              "      <td>7180.0</td>\n",
              "      <td>719.0</td>\n",
              "      <td>0</td>\n",
              "    </tr>\n",
              "    <tr>\n",
              "      <th>...</th>\n",
              "      <td>...</td>\n",
              "      <td>...</td>\n",
              "      <td>...</td>\n",
              "      <td>...</td>\n",
              "      <td>...</td>\n",
              "      <td>...</td>\n",
              "      <td>...</td>\n",
              "      <td>...</td>\n",
              "      <td>...</td>\n",
              "      <td>...</td>\n",
              "      <td>...</td>\n",
              "      <td>...</td>\n",
              "      <td>...</td>\n",
              "      <td>...</td>\n",
              "      <td>...</td>\n",
              "      <td>...</td>\n",
              "      <td>...</td>\n",
              "    </tr>\n",
              "    <tr>\n",
              "      <th>7495</th>\n",
              "      <td>Rent</td>\n",
              "      <td>402192.0</td>\n",
              "      <td>&lt; 1 year</td>\n",
              "      <td>0.0</td>\n",
              "      <td>3.0</td>\n",
              "      <td>8.500000</td>\n",
              "      <td>107866.0</td>\n",
              "      <td>0.0</td>\n",
              "      <td>NaN</td>\n",
              "      <td>0.0</td>\n",
              "      <td>other</td>\n",
              "      <td>Short Term</td>\n",
              "      <td>129360.0</td>\n",
              "      <td>73492.0</td>\n",
              "      <td>1900.0</td>\n",
              "      <td>697.0</td>\n",
              "      <td>0</td>\n",
              "    </tr>\n",
              "    <tr>\n",
              "      <th>7496</th>\n",
              "      <td>Home Mortgage</td>\n",
              "      <td>1533984.0</td>\n",
              "      <td>1 year</td>\n",
              "      <td>0.0</td>\n",
              "      <td>10.0</td>\n",
              "      <td>26.500000</td>\n",
              "      <td>686312.0</td>\n",
              "      <td>0.0</td>\n",
              "      <td>43.0</td>\n",
              "      <td>0.0</td>\n",
              "      <td>debt consolidation</td>\n",
              "      <td>Long Term</td>\n",
              "      <td>444048.0</td>\n",
              "      <td>456399.0</td>\n",
              "      <td>12783.0</td>\n",
              "      <td>7410.0</td>\n",
              "      <td>1</td>\n",
              "    </tr>\n",
              "    <tr>\n",
              "      <th>7497</th>\n",
              "      <td>Rent</td>\n",
              "      <td>1878910.0</td>\n",
              "      <td>6 years</td>\n",
              "      <td>0.0</td>\n",
              "      <td>12.0</td>\n",
              "      <td>32.099998</td>\n",
              "      <td>1778920.0</td>\n",
              "      <td>0.0</td>\n",
              "      <td>NaN</td>\n",
              "      <td>0.0</td>\n",
              "      <td>buy a car</td>\n",
              "      <td>Short Term</td>\n",
              "      <td>100000000.0</td>\n",
              "      <td>477812.0</td>\n",
              "      <td>12479.0</td>\n",
              "      <td>748.0</td>\n",
              "      <td>0</td>\n",
              "    </tr>\n",
              "    <tr>\n",
              "      <th>7498</th>\n",
              "      <td>Home Mortgage</td>\n",
              "      <td>NaN</td>\n",
              "      <td>NaN</td>\n",
              "      <td>0.0</td>\n",
              "      <td>21.0</td>\n",
              "      <td>26.500000</td>\n",
              "      <td>1141250.0</td>\n",
              "      <td>0.0</td>\n",
              "      <td>NaN</td>\n",
              "      <td>0.0</td>\n",
              "      <td>debt consolidation</td>\n",
              "      <td>Short Term</td>\n",
              "      <td>615274.0</td>\n",
              "      <td>476064.0</td>\n",
              "      <td>37118.0</td>\n",
              "      <td>NaN</td>\n",
              "      <td>0</td>\n",
              "    </tr>\n",
              "    <tr>\n",
              "      <th>7499</th>\n",
              "      <td>Rent</td>\n",
              "      <td>NaN</td>\n",
              "      <td>4 years</td>\n",
              "      <td>0.0</td>\n",
              "      <td>8.0</td>\n",
              "      <td>9.400000</td>\n",
              "      <td>480832.0</td>\n",
              "      <td>0.0</td>\n",
              "      <td>NaN</td>\n",
              "      <td>0.0</td>\n",
              "      <td>debt consolidation</td>\n",
              "      <td>Short Term</td>\n",
              "      <td>26928.0</td>\n",
              "      <td>288192.0</td>\n",
              "      <td>9061.0</td>\n",
              "      <td>NaN</td>\n",
              "      <td>0</td>\n",
              "    </tr>\n",
              "  </tbody>\n",
              "</table>\n",
              "<p>7500 rows × 17 columns</p>\n",
              "</div>"
            ],
            "text/plain": [
              "     Home Ownership  Annual Income  ... Credit Score  Credit Default\n",
              "0          Own Home       482087.0  ...        749.0               0\n",
              "1          Own Home      1025487.0  ...        737.0               1\n",
              "2     Home Mortgage       751412.0  ...        742.0               0\n",
              "3          Own Home       805068.0  ...        694.0               0\n",
              "4              Rent       776264.0  ...        719.0               0\n",
              "...             ...            ...  ...          ...             ...\n",
              "7495           Rent       402192.0  ...        697.0               0\n",
              "7496  Home Mortgage      1533984.0  ...       7410.0               1\n",
              "7497           Rent      1878910.0  ...        748.0               0\n",
              "7498  Home Mortgage            NaN  ...          NaN               0\n",
              "7499           Rent            NaN  ...          NaN               0\n",
              "\n",
              "[7500 rows x 17 columns]"
            ]
          },
          "metadata": {},
          "execution_count": 17
        }
      ]
    },
    {
      "cell_type": "markdown",
      "metadata": {
        "id": "aLoM88XMc8Vd"
      },
      "source": [
        "**Выделение целевой переменной и групп признаков**"
      ]
    },
    {
      "cell_type": "code",
      "metadata": {
        "id": "SkoOoB3Rc7s2"
      },
      "source": [
        "TARGET_NAME = 'Credit Default'\n",
        "\n",
        "BASE_FEATURE_NAMES = df_full.columns.drop(TARGET_NAME).tolist()\n",
        "BASE_FEATURE_NAMES = df_full.columns.drop('Years in current job').tolist()\n",
        "\n",
        "NUM_FEATURE_NAMES = ['Annual Income','Tax Liens', 'Number of Open Accounts', 'Years of Credit History', 'Maximum Open Credit', 'Number of Credit Problems', 'Months since last delinquent', 'Bankruptcies', 'Current Loan Amount', 'Current Credit Balance', 'Monthly Debt', 'Credit Score']\n",
        "\n",
        "CAT_FEATURE_NAMES = ['Home Ownership',  'Purpose', 'Term']\n"
      ],
      "execution_count": null,
      "outputs": []
    },
    {
      "cell_type": "code",
      "metadata": {
        "colab": {
          "base_uri": "https://localhost:8080/"
        },
        "id": "UJf-EiMuF6WI",
        "outputId": "0b981d8d-71f5-4c1c-fd2a-df1d62567b4a"
      },
      "source": [
        "BASE_FEATURE_NAMES"
      ],
      "execution_count": null,
      "outputs": [
        {
          "output_type": "execute_result",
          "data": {
            "text/plain": [
              "['Home Ownership',\n",
              " 'Annual Income',\n",
              " 'Tax Liens',\n",
              " 'Number of Open Accounts',\n",
              " 'Years of Credit History',\n",
              " 'Maximum Open Credit',\n",
              " 'Number of Credit Problems',\n",
              " 'Months since last delinquent',\n",
              " 'Bankruptcies',\n",
              " 'Purpose',\n",
              " 'Term',\n",
              " 'Current Loan Amount',\n",
              " 'Current Credit Balance',\n",
              " 'Monthly Debt',\n",
              " 'Credit Score',\n",
              " 'Credit Default']"
            ]
          },
          "metadata": {},
          "execution_count": 19
        }
      ]
    },
    {
      "cell_type": "code",
      "metadata": {
        "colab": {
          "base_uri": "https://localhost:8080/",
          "height": 499
        },
        "id": "ghAcM8U-iXh9",
        "outputId": "4391edbe-94e4-4026-ccca-6a7a20ad84a7"
      },
      "source": [
        "corr_with_target = df_full[BASE_FEATURE_NAMES + [TARGET_NAME]].corr().iloc[:-1, -1].sort_values(ascending=False)\n",
        "\n",
        "plt.figure(figsize=(10, 8))\n",
        "\n",
        "sns.barplot(x=corr_with_target.values, y=corr_with_target.index)\n",
        "\n",
        "plt.title('Correlation with target variable')\n",
        "plt.show()"
      ],
      "execution_count": null,
      "outputs": [
        {
          "output_type": "display_data",
          "data": {
            "image/png": "[encoded data removed]",
            "text/plain": [
              "<Figure size 720x576 with 1 Axes>"
            ]
          },
          "metadata": {
            "needs_background": "light"
          }
        }
      ]
    },
    {
      "cell_type": "markdown",
      "metadata": {
        "id": "A5jcWYhJC8U5"
      },
      "source": [
        "### Подготовка для catboost\n"
      ]
    },
    {
      "cell_type": "code",
      "metadata": {
        "colab": {
          "base_uri": "https://localhost:8080/"
        },
        "id": "4vsEq3e32wcn",
        "outputId": "79c47649-32a3-4e9b-d61f-90356d6efa70"
      },
      "source": [
        "!pip install catboost"
      ],
      "execution_count": null,
      "outputs": [
        {
          "output_type": "stream",
          "name": "stdout",
          "text": [
            "Collecting catboost\n",
            "  Downloading catboost-1.0.3-cp37-none-manylinux1_x86_64.whl (76.3 MB)\n",
            "\u001b[K     |████████████████████████████████| 76.3 MB 1.2 MB/s \n",
            "\u001b[?25hRequirement already satisfied: graphviz in /usr/local/lib/python3.7/dist-packages (from catboost) (0.10.1)\n",
            "Requirement already satisfied: scipy in /usr/local/lib/python3.7/dist-packages (from catboost) (1.4.1)\n",
            "Requirement already satisfied: plotly in /usr/local/lib/python3.7/dist-packages (from catboost) (4.4.1)\n",
            "Requirement already satisfied: numpy>=1.16.0 in /usr/local/lib/python3.7/dist-packages (from catboost) (1.19.5)\n",
            "Requirement already satisfied: pandas>=0.24.0 in /usr/local/lib/python3.7/dist-packages (from catboost) (1.1.5)\n",
            "Requirement already satisfied: matplotlib in /usr/local/lib/python3.7/dist-packages (from catboost) (3.2.2)\n",
            "Requirement already satisfied: six in /usr/local/lib/python3.7/dist-packages (from catboost) (1.15.0)\n",
            "Requirement already satisfied: python-dateutil>=2.7.3 in /usr/local/lib/python3.7/dist-packages (from pandas>=0.24.0->catboost) (2.8.2)\n",
            "Requirement already satisfied: pytz>=2017.2 in /usr/local/lib/python3.7/dist-packages (from pandas>=0.24.0->catboost) (2018.9)\n",
            "Requirement already satisfied: cycler>=0.10 in /usr/local/lib/python3.7/dist-packages (from matplotlib->catboost) (0.11.0)\n",
            "Requirement already satisfied: pyparsing!=2.0.4,!=2.1.2,!=2.1.6,>=2.0.1 in /usr/local/lib/python3.7/dist-packages (from matplotlib->catboost) (3.0.6)\n",
            "Requirement already satisfied: kiwisolver>=1.0.1 in /usr/local/lib/python3.7/dist-packages (from matplotlib->catboost) (1.3.2)\n",
            "Requirement already satisfied: retrying>=1.3.3 in /usr/local/lib/python3.7/dist-packages (from plotly->catboost) (1.3.3)\n",
            "Installing collected packages: catboost\n",
            "Successfully installed catboost-1.0.3\n"
          ]
        }
      ]
    },
    {
      "cell_type": "code",
      "metadata": {
        "id": "Tvjj0il_1iw7"
      },
      "source": [
        "import catboost as catb\n",
        "from sklearn.metrics import classification_report, f1_score, precision_score, recall_score"
      ],
      "execution_count": null,
      "outputs": []
    },
    {
      "cell_type": "markdown",
      "metadata": {
        "id": "uYG80obxALGr"
      },
      "source": [
        ""
      ]
    },
    {
      "cell_type": "code",
      "metadata": {
        "id": "fh3PO69mAKH0"
      },
      "source": [
        "X = df_full[BASE_FEATURE_NAMES]\n",
        "y = df_full[TARGET_NAME]\n",
        "\n",
        "\n",
        "X_train, X_test, y_train, y_test = train_test_split(X, y,\n",
        "                                                    shuffle=True,\n",
        "                                                    test_size=0.3,\n",
        "                                                    random_state=21,\n",
        "                                                    stratify=y)"
      ],
      "execution_count": null,
      "outputs": []
    },
    {
      "cell_type": "code",
      "metadata": {
        "colab": {
          "base_uri": "https://localhost:8080/",
          "height": 669
        },
        "id": "sbmcRC2iFnir",
        "outputId": "17ea7df7-7c3f-4c42-e54f-431cb002b9af"
      },
      "source": [
        "X_train"
      ],
      "execution_count": null,
      "outputs": [
        {
          "output_type": "execute_result",
          "data": {
            "text/html": [
              "<div>\n",
              "<style scoped>\n",
              "    .dataframe tbody tr th:only-of-type {\n",
              "        vertical-align: middle;\n",
              "    }\n",
              "\n",
              "    .dataframe tbody tr th {\n",
              "        vertical-align: top;\n",
              "    }\n",
              "\n",
              "    .dataframe thead th {\n",
              "        text-align: right;\n",
              "    }\n",
              "</style>\n",
              "<table border=\"1\" class=\"dataframe\">\n",
              "  <thead>\n",
              "    <tr style=\"text-align: right;\">\n",
              "      <th></th>\n",
              "      <th>Home Ownership</th>\n",
              "      <th>Annual Income</th>\n",
              "      <th>Tax Liens</th>\n",
              "      <th>Number of Open Accounts</th>\n",
              "      <th>Years of Credit History</th>\n",
              "      <th>Maximum Open Credit</th>\n",
              "      <th>Number of Credit Problems</th>\n",
              "      <th>Months since last delinquent</th>\n",
              "      <th>Bankruptcies</th>\n",
              "      <th>Purpose</th>\n",
              "      <th>Term</th>\n",
              "      <th>Current Loan Amount</th>\n",
              "      <th>Current Credit Balance</th>\n",
              "      <th>Monthly Debt</th>\n",
              "      <th>Credit Score</th>\n",
              "      <th>Credit Default</th>\n",
              "    </tr>\n",
              "  </thead>\n",
              "  <tbody>\n",
              "    <tr>\n",
              "      <th>5636</th>\n",
              "      <td>Home Mortgage</td>\n",
              "      <td>2331528.0</td>\n",
              "      <td>0.0</td>\n",
              "      <td>15.0</td>\n",
              "      <td>49.099998</td>\n",
              "      <td>710050.0</td>\n",
              "      <td>0.0</td>\n",
              "      <td>NaN</td>\n",
              "      <td>0.0</td>\n",
              "      <td>home improvements</td>\n",
              "      <td>Short Term</td>\n",
              "      <td>562430.0</td>\n",
              "      <td>193173.0</td>\n",
              "      <td>26813.0</td>\n",
              "      <td>749.0</td>\n",
              "      <td>0</td>\n",
              "    </tr>\n",
              "    <tr>\n",
              "      <th>3283</th>\n",
              "      <td>Rent</td>\n",
              "      <td>NaN</td>\n",
              "      <td>0.0</td>\n",
              "      <td>14.0</td>\n",
              "      <td>20.000000</td>\n",
              "      <td>1163008.0</td>\n",
              "      <td>0.0</td>\n",
              "      <td>NaN</td>\n",
              "      <td>0.0</td>\n",
              "      <td>debt consolidation</td>\n",
              "      <td>Short Term</td>\n",
              "      <td>735152.0</td>\n",
              "      <td>633783.0</td>\n",
              "      <td>21002.0</td>\n",
              "      <td>NaN</td>\n",
              "      <td>0</td>\n",
              "    </tr>\n",
              "    <tr>\n",
              "      <th>3285</th>\n",
              "      <td>Home Mortgage</td>\n",
              "      <td>1316567.0</td>\n",
              "      <td>0.0</td>\n",
              "      <td>17.0</td>\n",
              "      <td>14.500000</td>\n",
              "      <td>307252.0</td>\n",
              "      <td>0.0</td>\n",
              "      <td>13.0</td>\n",
              "      <td>0.0</td>\n",
              "      <td>business loan</td>\n",
              "      <td>Long Term</td>\n",
              "      <td>261338.0</td>\n",
              "      <td>135318.0</td>\n",
              "      <td>28087.0</td>\n",
              "      <td>659.0</td>\n",
              "      <td>0</td>\n",
              "    </tr>\n",
              "    <tr>\n",
              "      <th>3712</th>\n",
              "      <td>Home Mortgage</td>\n",
              "      <td>NaN</td>\n",
              "      <td>0.0</td>\n",
              "      <td>16.0</td>\n",
              "      <td>16.700001</td>\n",
              "      <td>975414.0</td>\n",
              "      <td>0.0</td>\n",
              "      <td>32.0</td>\n",
              "      <td>0.0</td>\n",
              "      <td>medical bills</td>\n",
              "      <td>Short Term</td>\n",
              "      <td>135146.0</td>\n",
              "      <td>788481.0</td>\n",
              "      <td>26319.0</td>\n",
              "      <td>NaN</td>\n",
              "      <td>1</td>\n",
              "    </tr>\n",
              "    <tr>\n",
              "      <th>2391</th>\n",
              "      <td>Rent</td>\n",
              "      <td>965295.0</td>\n",
              "      <td>0.0</td>\n",
              "      <td>5.0</td>\n",
              "      <td>13.300000</td>\n",
              "      <td>373406.0</td>\n",
              "      <td>1.0</td>\n",
              "      <td>NaN</td>\n",
              "      <td>1.0</td>\n",
              "      <td>debt consolidation</td>\n",
              "      <td>Short Term</td>\n",
              "      <td>223542.0</td>\n",
              "      <td>122227.0</td>\n",
              "      <td>15525.0</td>\n",
              "      <td>744.0</td>\n",
              "      <td>0</td>\n",
              "    </tr>\n",
              "    <tr>\n",
              "      <th>...</th>\n",
              "      <td>...</td>\n",
              "      <td>...</td>\n",
              "      <td>...</td>\n",
              "      <td>...</td>\n",
              "      <td>...</td>\n",
              "      <td>...</td>\n",
              "      <td>...</td>\n",
              "      <td>...</td>\n",
              "      <td>...</td>\n",
              "      <td>...</td>\n",
              "      <td>...</td>\n",
              "      <td>...</td>\n",
              "      <td>...</td>\n",
              "      <td>...</td>\n",
              "      <td>...</td>\n",
              "      <td>...</td>\n",
              "    </tr>\n",
              "    <tr>\n",
              "      <th>1946</th>\n",
              "      <td>Rent</td>\n",
              "      <td>657286.0</td>\n",
              "      <td>0.0</td>\n",
              "      <td>6.0</td>\n",
              "      <td>8.400000</td>\n",
              "      <td>100056.0</td>\n",
              "      <td>0.0</td>\n",
              "      <td>NaN</td>\n",
              "      <td>0.0</td>\n",
              "      <td>debt consolidation</td>\n",
              "      <td>Short Term</td>\n",
              "      <td>208758.0</td>\n",
              "      <td>66614.0</td>\n",
              "      <td>8764.0</td>\n",
              "      <td>740.0</td>\n",
              "      <td>0</td>\n",
              "    </tr>\n",
              "    <tr>\n",
              "      <th>172</th>\n",
              "      <td>Rent</td>\n",
              "      <td>1197323.0</td>\n",
              "      <td>0.0</td>\n",
              "      <td>17.0</td>\n",
              "      <td>12.000000</td>\n",
              "      <td>671176.0</td>\n",
              "      <td>0.0</td>\n",
              "      <td>NaN</td>\n",
              "      <td>0.0</td>\n",
              "      <td>debt consolidation</td>\n",
              "      <td>Short Term</td>\n",
              "      <td>290686.0</td>\n",
              "      <td>213902.0</td>\n",
              "      <td>17660.0</td>\n",
              "      <td>748.0</td>\n",
              "      <td>0</td>\n",
              "    </tr>\n",
              "    <tr>\n",
              "      <th>327</th>\n",
              "      <td>Rent</td>\n",
              "      <td>1465337.0</td>\n",
              "      <td>0.0</td>\n",
              "      <td>9.0</td>\n",
              "      <td>17.700001</td>\n",
              "      <td>125642.0</td>\n",
              "      <td>1.0</td>\n",
              "      <td>NaN</td>\n",
              "      <td>1.0</td>\n",
              "      <td>debt consolidation</td>\n",
              "      <td>Short Term</td>\n",
              "      <td>100000000.0</td>\n",
              "      <td>62168.0</td>\n",
              "      <td>21248.0</td>\n",
              "      <td>747.0</td>\n",
              "      <td>0</td>\n",
              "    </tr>\n",
              "    <tr>\n",
              "      <th>4459</th>\n",
              "      <td>Rent</td>\n",
              "      <td>1405164.0</td>\n",
              "      <td>0.0</td>\n",
              "      <td>14.0</td>\n",
              "      <td>11.800000</td>\n",
              "      <td>356598.0</td>\n",
              "      <td>0.0</td>\n",
              "      <td>NaN</td>\n",
              "      <td>0.0</td>\n",
              "      <td>debt consolidation</td>\n",
              "      <td>Long Term</td>\n",
              "      <td>445764.0</td>\n",
              "      <td>292258.0</td>\n",
              "      <td>27050.0</td>\n",
              "      <td>699.0</td>\n",
              "      <td>0</td>\n",
              "    </tr>\n",
              "    <tr>\n",
              "      <th>1025</th>\n",
              "      <td>Rent</td>\n",
              "      <td>8923844.0</td>\n",
              "      <td>0.0</td>\n",
              "      <td>15.0</td>\n",
              "      <td>17.200001</td>\n",
              "      <td>1452000.0</td>\n",
              "      <td>0.0</td>\n",
              "      <td>NaN</td>\n",
              "      <td>0.0</td>\n",
              "      <td>debt consolidation</td>\n",
              "      <td>Short Term</td>\n",
              "      <td>670428.0</td>\n",
              "      <td>1084710.0</td>\n",
              "      <td>62095.0</td>\n",
              "      <td>723.0</td>\n",
              "      <td>0</td>\n",
              "    </tr>\n",
              "  </tbody>\n",
              "</table>\n",
              "<p>5250 rows × 16 columns</p>\n",
              "</div>"
            ],
            "text/plain": [
              "     Home Ownership  Annual Income  ...  Credit Score  Credit Default\n",
              "5636  Home Mortgage      2331528.0  ...         749.0               0\n",
              "3283           Rent            NaN  ...           NaN               0\n",
              "3285  Home Mortgage      1316567.0  ...         659.0               0\n",
              "3712  Home Mortgage            NaN  ...           NaN               1\n",
              "2391           Rent       965295.0  ...         744.0               0\n",
              "...             ...            ...  ...           ...             ...\n",
              "1946           Rent       657286.0  ...         740.0               0\n",
              "172            Rent      1197323.0  ...         748.0               0\n",
              "327            Rent      1465337.0  ...         747.0               0\n",
              "4459           Rent      1405164.0  ...         699.0               0\n",
              "1025           Rent      8923844.0  ...         723.0               0\n",
              "\n",
              "[5250 rows x 16 columns]"
            ]
          },
          "metadata": {},
          "execution_count": 24
        }
      ]
    },
    {
      "cell_type": "code",
      "metadata": {
        "id": "zzyWxfv_HTB5"
      },
      "source": [
        "def get_classification_report(y_train_true, y_train_pred, y_test_true, y_test_pred):\n",
        "    print('TRAIN\\n\\n' + classification_report(y_train_true, y_train_pred))\n",
        "    print('TEST\\n\\n' + classification_report(y_test_true, y_test_pred))\n",
        "    print('CONFUSION MATRIX\\n')\n",
        "    print(pd.crosstab(y_test_true, y_test_pred))"
      ],
      "execution_count": null,
      "outputs": []
    },
    {
      "cell_type": "code",
      "metadata": {
        "id": "nAAwVTwUHOau"
      },
      "source": [
        "def evaluate_preds(model, X_train, X_test, y_train, y_test):\n",
        "    y_train_pred = model.predict(X_train)\n",
        "    y_test_pred = model.predict(X_test)\n",
        "\n",
        "    get_classification_report(y_train, y_train_pred, y_test, y_test_pred)"
      ],
      "execution_count": null,
      "outputs": []
    },
    {
      "cell_type": "code",
      "metadata": {
        "colab": {
          "base_uri": "https://localhost:8080/",
          "height": 528,
          "referenced_widgets": [
            "2e0e46e2e72a4f1aaaaa075c38c546c0"
          ]
        },
        "id": "0KYHViDBDuNv",
        "outputId": "4a53acc3-5cac-42fb-efd5-7f8bee527645"
      },
      "source": [
        "model_catb = catb.CatBoostClassifier(silent=True, random_state=21, \n",
        "                                     cat_features=CAT_FEATURE_NAMES,\n",
        "#                                      one_hot_max_size=6\n",
        "                                     )\n",
        "model_catb.fit(X_train, y_train, plot=True)\n",
        "\n",
        "evaluate_preds(model_catb, X_train, X_test, y_train, y_test)"
      ],
      "execution_count": null,
      "outputs": [
        {
          "output_type": "display_data",
          "data": {
            "application/vnd.jupyter.widget-view+json": {
              "model_id": "2e0e46e2e72a4f1aaaaa075c38c546c0",
              "version_minor": 0,
              "version_major": 2
            },
            "text/plain": [
              "MetricVisualizer(layout=Layout(align_self='stretch', height='500px'))"
            ]
          },
          "metadata": {}
        },
        {
          "output_type": "stream",
          "name": "stdout",
          "text": [
            "TRAIN\n",
            "\n",
            "              precision    recall  f1-score   support\n",
            "\n",
            "           0       1.00      1.00      1.00      3771\n",
            "           1       1.00      1.00      1.00      1479\n",
            "\n",
            "    accuracy                           1.00      5250\n",
            "   macro avg       1.00      1.00      1.00      5250\n",
            "weighted avg       1.00      1.00      1.00      5250\n",
            "\n",
            "TEST\n",
            "\n",
            "              precision    recall  f1-score   support\n",
            "\n",
            "           0       1.00      1.00      1.00      1616\n",
            "           1       1.00      1.00      1.00       634\n",
            "\n",
            "    accuracy                           1.00      2250\n",
            "   macro avg       1.00      1.00      1.00      2250\n",
            "weighted avg       1.00      1.00      1.00      2250\n",
            "\n",
            "CONFUSION MATRIX\n",
            "\n",
            "col_0              0    1\n",
            "Credit Default           \n",
            "0               1616    0\n",
            "1                  0  634\n"
          ]
        }
      ]
    },
    {
      "cell_type": "code",
      "metadata": {
        "colab": {
          "base_uri": "https://localhost:8080/"
        },
        "id": "n2WUGq2UIZEF",
        "outputId": "88e7ccc7-6693-4dc8-d93f-76bfbd075300"
      },
      "source": [
        "disbalance = y_train.value_counts()[0] / y_train.value_counts()[1]\n",
        "disbalance"
      ],
      "execution_count": null,
      "outputs": [
        {
          "output_type": "execute_result",
          "data": {
            "text/plain": [
              "2.5496957403651117"
            ]
          },
          "metadata": {},
          "execution_count": 28
        }
      ]
    },
    {
      "cell_type": "code",
      "metadata": {
        "id": "wyXOcW0kNYdX"
      },
      "source": [
        "frozen_params = {\n",
        "     'class_weights':[1, disbalance], \n",
        "     'silent':True,\n",
        "     'random_state':21,\n",
        "     'cat_features':CAT_FEATURE_NAMES,\n",
        "     'eval_metric':'F1',\n",
        "     'early_stopping_rounds':20\n",
        "}"
      ],
      "execution_count": null,
      "outputs": []
    },
    {
      "cell_type": "code",
      "metadata": {
        "colab": {
          "base_uri": "https://localhost:8080/",
          "height": 528,
          "referenced_widgets": [
            "c67ad19744cc41678c79fa56a2d19dce"
          ]
        },
        "id": "XDXLxXUtN2OR",
        "outputId": "a09c34b9-f5eb-44d5-a417-f138e8f198e8"
      },
      "source": [
        "model_catb1 = catb.CatBoostClassifier(**frozen_params, iterations=500, max_depth=7)\n",
        "model_catb1.fit(X_train, y_train, plot=True , eval_set=(X_test, y_test))\n",
        "evaluate_preds(model_catb1, X_train, X_test, y_train, y_test)"
      ],
      "execution_count": null,
      "outputs": [
        {
          "output_type": "display_data",
          "data": {
            "application/vnd.jupyter.widget-view+json": {
              "model_id": "c67ad19744cc41678c79fa56a2d19dce",
              "version_minor": 0,
              "version_major": 2
            },
            "text/plain": [
              "MetricVisualizer(layout=Layout(align_self='stretch', height='500px'))"
            ]
          },
          "metadata": {}
        },
        {
          "output_type": "stream",
          "name": "stdout",
          "text": [
            "TRAIN\n",
            "\n",
            "              precision    recall  f1-score   support\n",
            "\n",
            "           0       1.00      1.00      1.00      3771\n",
            "           1       1.00      1.00      1.00      1479\n",
            "\n",
            "    accuracy                           1.00      5250\n",
            "   macro avg       1.00      1.00      1.00      5250\n",
            "weighted avg       1.00      1.00      1.00      5250\n",
            "\n",
            "TEST\n",
            "\n",
            "              precision    recall  f1-score   support\n",
            "\n",
            "           0       1.00      1.00      1.00      1616\n",
            "           1       1.00      1.00      1.00       634\n",
            "\n",
            "    accuracy                           1.00      2250\n",
            "   macro avg       1.00      1.00      1.00      2250\n",
            "weighted avg       1.00      1.00      1.00      2250\n",
            "\n",
            "CONFUSION MATRIX\n",
            "\n",
            "col_0              0    1\n",
            "Credit Default           \n",
            "0               1616    0\n",
            "1                  0  634\n"
          ]
        }
      ]
    },
    {
      "cell_type": "code",
      "metadata": {
        "colab": {
          "base_uri": "https://localhost:8080/",
          "height": 206
        },
        "id": "QfrF7tnwUgo2",
        "outputId": "6fbb5d39-cc0a-4825-b070-4b95c3a45749"
      },
      "source": [
        "submit = pd.read_csv('/sample_submission.csv')\n",
        "submit.head()"
      ],
      "execution_count": null,
      "outputs": [
        {
          "output_type": "execute_result",
          "data": {
            "text/html": [
              "<div>\n",
              "<style scoped>\n",
              "    .dataframe tbody tr th:only-of-type {\n",
              "        vertical-align: middle;\n",
              "    }\n",
              "\n",
              "    .dataframe tbody tr th {\n",
              "        vertical-align: top;\n",
              "    }\n",
              "\n",
              "    .dataframe thead th {\n",
              "        text-align: right;\n",
              "    }\n",
              "</style>\n",
              "<table border=\"1\" class=\"dataframe\">\n",
              "  <thead>\n",
              "    <tr style=\"text-align: right;\">\n",
              "      <th></th>\n",
              "      <th>Id</th>\n",
              "      <th>Credit Default</th>\n",
              "    </tr>\n",
              "  </thead>\n",
              "  <tbody>\n",
              "    <tr>\n",
              "      <th>0</th>\n",
              "      <td>0</td>\n",
              "      <td>1</td>\n",
              "    </tr>\n",
              "    <tr>\n",
              "      <th>1</th>\n",
              "      <td>1</td>\n",
              "      <td>1</td>\n",
              "    </tr>\n",
              "    <tr>\n",
              "      <th>2</th>\n",
              "      <td>2</td>\n",
              "      <td>1</td>\n",
              "    </tr>\n",
              "    <tr>\n",
              "      <th>3</th>\n",
              "      <td>3</td>\n",
              "      <td>1</td>\n",
              "    </tr>\n",
              "    <tr>\n",
              "      <th>4</th>\n",
              "      <td>4</td>\n",
              "      <td>1</td>\n",
              "    </tr>\n",
              "  </tbody>\n",
              "</table>\n",
              "</div>"
            ],
            "text/plain": [
              "   Id  Credit Default\n",
              "0   0               1\n",
              "1   1               1\n",
              "2   2               1\n",
              "3   3               1\n",
              "4   4               1"
            ]
          },
          "metadata": {},
          "execution_count": 31
        }
      ]
    },
    {
      "cell_type": "code",
      "metadata": {
        "colab": {
          "base_uri": "https://localhost:8080/",
          "height": 424
        },
        "id": "jdHcCMe5UtsV",
        "outputId": "4d2925aa-08f0-4d66-ec26-4ef916b534f9"
      },
      "source": [
        "submit['Credit Default'] = y_test\n",
        "submit"
      ],
      "execution_count": null,
      "outputs": [
        {
          "output_type": "execute_result",
          "data": {
            "text/html": [
              "<div>\n",
              "<style scoped>\n",
              "    .dataframe tbody tr th:only-of-type {\n",
              "        vertical-align: middle;\n",
              "    }\n",
              "\n",
              "    .dataframe tbody tr th {\n",
              "        vertical-align: top;\n",
              "    }\n",
              "\n",
              "    .dataframe thead th {\n",
              "        text-align: right;\n",
              "    }\n",
              "</style>\n",
              "<table border=\"1\" class=\"dataframe\">\n",
              "  <thead>\n",
              "    <tr style=\"text-align: right;\">\n",
              "      <th></th>\n",
              "      <th>Id</th>\n",
              "      <th>Credit Default</th>\n",
              "    </tr>\n",
              "  </thead>\n",
              "  <tbody>\n",
              "    <tr>\n",
              "      <th>0</th>\n",
              "      <td>0</td>\n",
              "      <td>NaN</td>\n",
              "    </tr>\n",
              "    <tr>\n",
              "      <th>1</th>\n",
              "      <td>1</td>\n",
              "      <td>NaN</td>\n",
              "    </tr>\n",
              "    <tr>\n",
              "      <th>2</th>\n",
              "      <td>2</td>\n",
              "      <td>NaN</td>\n",
              "    </tr>\n",
              "    <tr>\n",
              "      <th>3</th>\n",
              "      <td>3</td>\n",
              "      <td>NaN</td>\n",
              "    </tr>\n",
              "    <tr>\n",
              "      <th>4</th>\n",
              "      <td>4</td>\n",
              "      <td>NaN</td>\n",
              "    </tr>\n",
              "    <tr>\n",
              "      <th>...</th>\n",
              "      <td>...</td>\n",
              "      <td>...</td>\n",
              "    </tr>\n",
              "    <tr>\n",
              "      <th>2495</th>\n",
              "      <td>2495</td>\n",
              "      <td>1.0</td>\n",
              "    </tr>\n",
              "    <tr>\n",
              "      <th>2496</th>\n",
              "      <td>2496</td>\n",
              "      <td>NaN</td>\n",
              "    </tr>\n",
              "    <tr>\n",
              "      <th>2497</th>\n",
              "      <td>2497</td>\n",
              "      <td>NaN</td>\n",
              "    </tr>\n",
              "    <tr>\n",
              "      <th>2498</th>\n",
              "      <td>2498</td>\n",
              "      <td>0.0</td>\n",
              "    </tr>\n",
              "    <tr>\n",
              "      <th>2499</th>\n",
              "      <td>2499</td>\n",
              "      <td>NaN</td>\n",
              "    </tr>\n",
              "  </tbody>\n",
              "</table>\n",
              "<p>2500 rows × 2 columns</p>\n",
              "</div>"
            ],
            "text/plain": [
              "        Id  Credit Default\n",
              "0        0             NaN\n",
              "1        1             NaN\n",
              "2        2             NaN\n",
              "3        3             NaN\n",
              "4        4             NaN\n",
              "...    ...             ...\n",
              "2495  2495             1.0\n",
              "2496  2496             NaN\n",
              "2497  2497             NaN\n",
              "2498  2498             0.0\n",
              "2499  2499             NaN\n",
              "\n",
              "[2500 rows x 2 columns]"
            ]
          },
          "metadata": {},
          "execution_count": 35
        }
      ]
    },
    {
      "cell_type": "code",
      "metadata": {
        "id": "nZ6p7t3_WAP1"
      },
      "source": [
        "submit.to_csv('submit_sample.csv', index=False)"
      ],
      "execution_count": null,
      "outputs": []
    }
  ]
}